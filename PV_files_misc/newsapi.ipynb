{
 "metadata": {
  "language_info": {
   "codemirror_mode": {
    "name": "ipython",
    "version": 3
   },
   "file_extension": ".py",
   "mimetype": "text/x-python",
   "name": "python",
   "nbconvert_exporter": "python",
   "pygments_lexer": "ipython3",
   "version": "3.8.5-final"
  },
  "orig_nbformat": 2,
  "kernelspec": {
   "name": "python3",
   "display_name": "Python 3",
   "language": "python"
  }
 },
 "nbformat": 4,
 "nbformat_minor": 2,
 "cells": [
  {
   "cell_type": "code",
   "execution_count": 128,
   "metadata": {},
   "outputs": [
    {
     "output_type": "stream",
     "name": "stdout",
     "text": [
      "Requirement already satisfied: newsapi-python in c:\\users\\pvolc\\anaconda3\\envs\\pyvizenv\\lib\\site-packages (0.2.6)\nRequirement already satisfied: requests<3.0.0 in c:\\users\\pvolc\\anaconda3\\envs\\pyvizenv\\lib\\site-packages (from newsapi-python) (2.24.0)\nRequirement already satisfied: idna<3,>=2.5 in c:\\users\\pvolc\\anaconda3\\envs\\pyvizenv\\lib\\site-packages (from requests<3.0.0->newsapi-python) (2.10)\nRequirement already satisfied: chardet<4,>=3.0.2 in c:\\users\\pvolc\\anaconda3\\envs\\pyvizenv\\lib\\site-packages (from requests<3.0.0->newsapi-python) (3.0.4)\nRequirement already satisfied: urllib3!=1.25.0,!=1.25.1,<1.26,>=1.21.1 in c:\\users\\pvolc\\anaconda3\\envs\\pyvizenv\\lib\\site-packages (from requests<3.0.0->newsapi-python) (1.25.11)\nRequirement already satisfied: certifi>=2017.4.17 in c:\\users\\pvolc\\anaconda3\\envs\\pyvizenv\\lib\\site-packages (from requests<3.0.0->newsapi-python) (2020.12.5)\nNote: you may need to restart the kernel to use updated packages.\n"
     ]
    }
   ],
   "source": [
    "pip install newsapi-python"
   ]
  },
  {
   "cell_type": "code",
   "execution_count": 129,
   "metadata": {},
   "outputs": [],
   "source": [
    "from newsapi.newsapi_client import NewsApiClient\n",
    "import datetime as dt\n",
    "import pandas as pd"
   ]
  },
  {
   "cell_type": "code",
   "execution_count": 130,
   "metadata": {},
   "outputs": [],
   "source": [
    "newsapi = NewsApiClient(api_key=\"f3f86e451ab74a4ca09243cda975749c\")"
   ]
  },
  {
   "cell_type": "code",
   "execution_count": 131,
   "metadata": {},
   "outputs": [],
   "source": [
    "data = newsapi.get_everything(q=\"etherium\", language=\"en\", page=100)"
   ]
  },
  {
   "cell_type": "code",
   "execution_count": 132,
   "metadata": {},
   "outputs": [
    {
     "output_type": "execute_result",
     "data": {
      "text/plain": [
       "dict"
      ]
     },
     "metadata": {},
     "execution_count": 132
    }
   ],
   "source": [
    "type(data)"
   ]
  },
  {
   "cell_type": "code",
   "execution_count": 133,
   "metadata": {},
   "outputs": [
    {
     "output_type": "execute_result",
     "data": {
      "text/plain": [
       "dict_keys(['status', 'totalResults', 'articles'])"
      ]
     },
     "metadata": {},
     "execution_count": 133
    }
   ],
   "source": [
    "data.keys()"
   ]
  },
  {
   "cell_type": "code",
   "execution_count": 134,
   "metadata": {},
   "outputs": [
    {
     "output_type": "execute_result",
     "data": {
      "text/plain": [
       "'ok'"
      ]
     },
     "metadata": {},
     "execution_count": 134
    }
   ],
   "source": [
    "data[\"status\"]"
   ]
  },
  {
   "cell_type": "code",
   "execution_count": 135,
   "metadata": {},
   "outputs": [
    {
     "output_type": "execute_result",
     "data": {
      "text/plain": [
       "768"
      ]
     },
     "metadata": {},
     "execution_count": 135
    }
   ],
   "source": [
    "data[\"totalResults\"]"
   ]
  },
  {
   "cell_type": "code",
   "execution_count": 136,
   "metadata": {},
   "outputs": [
    {
     "output_type": "execute_result",
     "data": {
      "text/plain": [
       "list"
      ]
     },
     "metadata": {},
     "execution_count": 136
    }
   ],
   "source": [
    "type (data[\"articles\"])"
   ]
  },
  {
   "cell_type": "code",
   "execution_count": 137,
   "metadata": {},
   "outputs": [
    {
     "output_type": "error",
     "ename": "IndexError",
     "evalue": "list index out of range",
     "traceback": [
      "\u001b[1;31m---------------------------------------------------------------------------\u001b[0m",
      "\u001b[1;31mIndexError\u001b[0m                                Traceback (most recent call last)",
      "\u001b[1;32m<ipython-input-137-67f952594d61>\u001b[0m in \u001b[0;36m<module>\u001b[1;34m\u001b[0m\n\u001b[1;32m----> 1\u001b[1;33m \u001b[0mdata\u001b[0m\u001b[1;33m[\u001b[0m\u001b[1;34m\"articles\"\u001b[0m\u001b[1;33m]\u001b[0m \u001b[1;33m[\u001b[0m\u001b[1;36m0\u001b[0m\u001b[1;33m]\u001b[0m\u001b[1;33m\u001b[0m\u001b[1;33m\u001b[0m\u001b[0m\n\u001b[0m",
      "\u001b[1;31mIndexError\u001b[0m: list index out of range"
     ]
    }
   ],
   "source": [
    "data[\"articles\"] [0]"
   ]
  },
  {
   "cell_type": "code",
   "execution_count": 74,
   "metadata": {},
   "outputs": [],
   "source": [
    "articles= data[\"articles\"]"
   ]
  },
  {
   "cell_type": "code",
   "execution_count": 75,
   "metadata": {},
   "outputs": [
    {
     "output_type": "stream",
     "name": "stdout",
     "text": [
      "0 a\n1 r\n2 t\n3 i\n4 c\n5 l\n6 e\n7 s\n"
     ]
    }
   ],
   "source": [
    "for x, y in enumerate (\"articles\"):\n",
    "    print (f'{x} {y[0]}')"
   ]
  },
  {
   "cell_type": "code",
   "execution_count": 76,
   "metadata": {},
   "outputs": [
    {
     "output_type": "stream",
     "name": "stdout",
     "text": [
      "\nsource          {'id': 'techcrunch', 'name': 'TechCrunch'}\n\nauthor          Matt Burns\n\ntitle           Nvidia CEO comments on GPU shortage caused by Etherium\n\ndescription     There’s currently a shortage of Nvidia GPUs and Nvidia’s CEO pointed to Etherium distributed ledgers as the cause. Today at Nvidia’s GTC conference he spoke to a group of journalists following his keynote address and addressed the shortage. Huang simply state…\n\nurl             http://techcrunch.com/2018/03/27/nvidia-ceo-comments-on-gpu-shortage-caused-by-etherium/\n\nurlToImage      https://techcrunch.com/wp-content/uploads/2018/03/nvid0633.jpg?w=599\n\npublishedAt     2018-03-27T19:49:21Z\n\ncontent         There’s currently a shortage of Nvidia GPUs and Nvidia’s CEO pointed to Etherium distributed ledgers as the cause. Today at Nvidia’s GTC conference he spoke to a group of journalists following his keynote address and addressed the shortage. Huang simply stated that Nvidia is not in the business of cryptocurrency or distributed ledgers. As such, he stated he preferred if his company’s GPUs were used the areas Nvidia is targeting though explained why Nvidia’s products are used for crypto mining. “[Cryptocurrency] is not our business,” he said. “Gaming is growing and workstation is growing because of ray tracing.” He noted that Nvidia’s high performance business is also growing and these are the areas he wished Nvidia could allocate units for. Huang explained why crypto miners are using Nvidia’s products echoing what he told me in an interview last week. “We’re sold out of many of our high-end SKUs, and so it’s a real challenge keeping [graphic cards] in the marketplace for games,” he said, adding “At the highest level the way to think about that is because of the philosophy of cryptocurrency — which is really about taking advantage of distributed high-performance computing — there are supercomputers in the hands of almost everybody in the world so that no singular force or entity that can control the currency.” So what is he going to do about it? “We have to build a whole lot more,” he told TechCrunch last week. “The video supply chain is working really hard, and you know all of our partners are working around the clock. We’ve got to come closer to the demand of the market. And right now, we’re not anywhere near close to that and so we’re just going to have to keep running.”\n"
     ]
    }
   ],
   "source": [
    "for key, value in articles [0].items():\n",
    "    print (f\"\\n{key.ljust(15)} {value}\")"
   ]
  },
  {
   "cell_type": "code",
   "execution_count": 77,
   "metadata": {},
   "outputs": [],
   "source": [
    "df = pd.DataFrame(articles)"
   ]
  },
  {
   "cell_type": "code",
   "execution_count": 78,
   "metadata": {},
   "outputs": [
    {
     "output_type": "execute_result",
     "data": {
      "text/plain": [
       "                                    source                     author  \\\n",
       "95  {'id': None, 'name': 'Gapingvoid.com'}               David Essman   \n",
       "96           {'id': None, 'name': 'Skift'}  Andrew Sheivachman, Skift   \n",
       "97   {'id': None, 'name': 'The Daily Dot'}              Phillip Tracy   \n",
       "98      {'id': None, 'name': 'Liliputing'}                Brad Linder   \n",
       "99   {'id': None, 'name': 'The Daily Dot'}              Phillip Tracy   \n",
       "\n",
       "                                                title  \\\n",
       "95                            The Next Big Disruption   \n",
       "96  U.S. Customs Wants to Use Blockchain for Trave...   \n",
       "97  Bitcoin is plummeting—and the entire crypto ma...   \n",
       "98  HTC’s second blockchain phone is coming this year   \n",
       "99  No, Elon Musk isn’t giving away cryptocurrency...   \n",
       "\n",
       "                                          description  \\\n",
       "95  The Gapingvoid team and I have collaborated on...   \n",
       "96  As governments and big corporations adopt bloc...   \n",
       "97  The crypto roller coaster has reached its stee...   \n",
       "98  HTC isn’t the major player in the smartphone s...   \n",
       "99  Scammers have received almost $40,000 from uns...   \n",
       "\n",
       "                                                  url  \\\n",
       "95  https://www.gapingvoid.com/blog/2018/02/20/the...   \n",
       "96  https://skift.com/2019/03/21/u-s-customs-wants...   \n",
       "97  https://www.dailydot.com/debug/cryptocurrency-...   \n",
       "98  https://liliputing.com/2019/05/htcs-second-blo...   \n",
       "99  https://www.dailydot.com/debug/elon-musk-ether...   \n",
       "\n",
       "                                           urlToImage           publishedAt  \\\n",
       "95  https://www.gapingvoid.com/content/uploads/201...  2018-02-20T22:00:26Z   \n",
       "96  https://skift.com/wp-content/uploads/2019/03/M...  2019-03-21T14:00:04Z   \n",
       "97  https://www.dailydot.com/wp-content/uploads/95...  2018-02-02T15:41:45Z   \n",
       "98  https://i2.wp.com/liliputing.com/wp-content/up...  2019-05-03T17:37:28Z   \n",
       "99  https://www.dailydot.com/wp-content/uploads/87...  2018-02-22T13:52:55Z   \n",
       "\n",
       "                                              content  \n",
       "95  The Gapingvoid team and I have collaborated on...  \n",
       "96  The blockchain craze has subsided after people...  \n",
       "97  The entire cryptocurrency market is plummeting...  \n",
       "98  HTC isn’t the major player in the smartphone s...  \n",
       "99  Don’t be fooled, giving away tons of cryptocur...  "
      ],
      "text/html": "<div>\n<style scoped>\n    .dataframe tbody tr th:only-of-type {\n        vertical-align: middle;\n    }\n\n    .dataframe tbody tr th {\n        vertical-align: top;\n    }\n\n    .dataframe thead th {\n        text-align: right;\n    }\n</style>\n<table border=\"1\" class=\"dataframe\">\n  <thead>\n    <tr style=\"text-align: right;\">\n      <th></th>\n      <th>source</th>\n      <th>author</th>\n      <th>title</th>\n      <th>description</th>\n      <th>url</th>\n      <th>urlToImage</th>\n      <th>publishedAt</th>\n      <th>content</th>\n    </tr>\n  </thead>\n  <tbody>\n    <tr>\n      <th>95</th>\n      <td>{'id': None, 'name': 'Gapingvoid.com'}</td>\n      <td>David Essman</td>\n      <td>The Next Big Disruption</td>\n      <td>The Gapingvoid team and I have collaborated on...</td>\n      <td>https://www.gapingvoid.com/blog/2018/02/20/the...</td>\n      <td>https://www.gapingvoid.com/content/uploads/201...</td>\n      <td>2018-02-20T22:00:26Z</td>\n      <td>The Gapingvoid team and I have collaborated on...</td>\n    </tr>\n    <tr>\n      <th>96</th>\n      <td>{'id': None, 'name': 'Skift'}</td>\n      <td>Andrew Sheivachman, Skift</td>\n      <td>U.S. Customs Wants to Use Blockchain for Trave...</td>\n      <td>As governments and big corporations adopt bloc...</td>\n      <td>https://skift.com/2019/03/21/u-s-customs-wants...</td>\n      <td>https://skift.com/wp-content/uploads/2019/03/M...</td>\n      <td>2019-03-21T14:00:04Z</td>\n      <td>The blockchain craze has subsided after people...</td>\n    </tr>\n    <tr>\n      <th>97</th>\n      <td>{'id': None, 'name': 'The Daily Dot'}</td>\n      <td>Phillip Tracy</td>\n      <td>Bitcoin is plummeting—and the entire crypto ma...</td>\n      <td>The crypto roller coaster has reached its stee...</td>\n      <td>https://www.dailydot.com/debug/cryptocurrency-...</td>\n      <td>https://www.dailydot.com/wp-content/uploads/95...</td>\n      <td>2018-02-02T15:41:45Z</td>\n      <td>The entire cryptocurrency market is plummeting...</td>\n    </tr>\n    <tr>\n      <th>98</th>\n      <td>{'id': None, 'name': 'Liliputing'}</td>\n      <td>Brad Linder</td>\n      <td>HTC’s second blockchain phone is coming this year</td>\n      <td>HTC isn’t the major player in the smartphone s...</td>\n      <td>https://liliputing.com/2019/05/htcs-second-blo...</td>\n      <td>https://i2.wp.com/liliputing.com/wp-content/up...</td>\n      <td>2019-05-03T17:37:28Z</td>\n      <td>HTC isn’t the major player in the smartphone s...</td>\n    </tr>\n    <tr>\n      <th>99</th>\n      <td>{'id': None, 'name': 'The Daily Dot'}</td>\n      <td>Phillip Tracy</td>\n      <td>No, Elon Musk isn’t giving away cryptocurrency...</td>\n      <td>Scammers have received almost $40,000 from uns...</td>\n      <td>https://www.dailydot.com/debug/elon-musk-ether...</td>\n      <td>https://www.dailydot.com/wp-content/uploads/87...</td>\n      <td>2018-02-22T13:52:55Z</td>\n      <td>Don’t be fooled, giving away tons of cryptocur...</td>\n    </tr>\n  </tbody>\n</table>\n</div>"
     },
     "metadata": {},
     "execution_count": 78
    }
   ],
   "source": [
    "df.tail()"
   ]
  },
  {
   "cell_type": "code",
   "execution_count": 79,
   "metadata": {},
   "outputs": [],
   "source": [
    "all_articles = newsapi.get_everything(q='ethereum',\n",
    "                                      sources='bbc-news,the-verge',\n",
    "                                      domains='bbc.co.uk,techcrunch.com',\n",
    "                                      from_param='2017-12-01',\n",
    "                                      to='2017-12-12',\n",
    "                                      language='en',\n",
    "                                      sort_by='relevancy',\n",
    "                                      page=2)"
   ]
  },
  {
   "cell_type": "code",
   "execution_count": null,
   "metadata": {},
   "outputs": [],
   "source": []
  }
 ]
}