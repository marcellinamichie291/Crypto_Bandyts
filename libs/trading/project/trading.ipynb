{
 "metadata": {
  "language_info": {
   "codemirror_mode": {
    "name": "ipython",
    "version": 3
   },
   "file_extension": ".py",
   "mimetype": "text/x-python",
   "name": "python",
   "nbconvert_exporter": "python",
   "pygments_lexer": "ipython3",
   "version": "3.8.2-final"
  },
  "orig_nbformat": 2,
  "kernelspec": {
   "name": "python3",
   "display_name": "Python 3",
   "language": "python"
  }
 },
 "nbformat": 4,
 "nbformat_minor": 2,
 "cells": [
  {
   "cell_type": "code",
   "execution_count": 1,
   "metadata": {},
   "outputs": [],
   "source": [
    "# Import libraries and dependencies\n",
    "import ccxt\n",
    "import os\n",
    "import pandas as pd\n",
    "from dotenv import load_dotenv"
   ]
  },
  {
   "cell_type": "code",
   "execution_count": 2,
   "metadata": {},
   "outputs": [
    {
     "output_type": "stream",
     "name": "stdout",
     "text": [
      "Kraken key data type: <class 'str'>\nKraken secren data type: <class 'str'>\n"
     ]
    }
   ],
   "source": [
    "# Load environment variables\n",
    "load_dotenv()\n",
    "\n",
    "# Import environment variables\n",
    "kraken_public_key = os.getenv(\"KRAKEN_PUBLIC_KEY\")\n",
    "kraken_secret_key = os.getenv(\"KRAKEN_SECRET_KEY\")\n",
    "\n",
    "# Verify that environment variables were loaded\n",
    "print(f\"Kraken key data type: {type(kraken_public_key)}\")\n",
    "print(f\"Kraken secren data type: {type(kraken_secret_key)}\")"
   ]
  },
  {
   "cell_type": "code",
   "execution_count": 3,
   "metadata": {},
   "outputs": [],
   "source": [
    "# Set the public and private keys for the API\n",
    "exchange = ccxt.kraken({\n",
    "    'apiKey': kraken_public_key,\n",
    "    'secret': kraken_secret_key,\n",
    "})"
   ]
  },
  {
   "cell_type": "code",
   "execution_count": 4,
   "metadata": {},
   "outputs": [],
   "source": [
    "# Connect to Kraken and load the available cryptocurrencies\n",
    "crypto_details = exchange.load_markets()\n",
    "\n",
    "# Import data as a Pandas DataFrame\n",
    "crypto_df = pd.DataFrame(crypto_details)\n",
    "\n",
    "# Display sample data\n",
    "#crypto_df"
   ]
  },
  {
   "cell_type": "code",
   "execution_count": 5,
   "metadata": {},
   "outputs": [
    {
     "output_type": "execute_result",
     "data": {
      "text/plain": [
       "{'symbol': 'BTC/USD',\n",
       " 'timestamp': 1610794864524,\n",
       " 'datetime': '2021-01-16T11:01:04.524Z',\n",
       " 'high': 38531.3,\n",
       " 'low': 34371.0,\n",
       " 'bid': 37471.6,\n",
       " 'bidVolume': None,\n",
       " 'ask': 37474.5,\n",
       " 'askVolume': None,\n",
       " 'vwap': 36310.88852,\n",
       " 'open': 36744.6,\n",
       " 'close': 37474.4,\n",
       " 'last': 37474.4,\n",
       " 'previousClose': None,\n",
       " 'change': None,\n",
       " 'percentage': None,\n",
       " 'average': None,\n",
       " 'baseVolume': 14183.27800708,\n",
       " 'quoteVolume': 515007426.56324965}"
      ]
     },
     "metadata": {},
     "execution_count": 5
    }
   ],
   "source": [
    "# Fetch current price details for `BTC/USD`\n",
    "current_price = exchange.fetch_ticker('BTC/USD')\n",
    "\n",
    "# Delete `info` key-value pair\n",
    "del current_price['info']\n",
    "\n",
    "current_price"
   ]
  },
  {
   "cell_type": "code",
   "execution_count": 6,
   "metadata": {},
   "outputs": [
    {
     "output_type": "execute_result",
     "data": {
      "text/plain": [
       "    symbol      timestamp                  datetime     high      low  \\\n",
       "0  BTC/USD  1610794864524  2021-01-16T11:01:04.524Z  38531.3  34371.0   \n",
       "\n",
       "       bid bidVolume      ask askVolume         vwap     open    close  \\\n",
       "0  37471.6      None  37474.5      None  36310.88852  36744.6  37474.4   \n",
       "\n",
       "      last previousClose change percentage average    baseVolume   quoteVolume  \n",
       "0  37474.4          None   None       None    None  14183.278007  5.150074e+08  "
      ],
      "text/html": "<div>\n<style scoped>\n    .dataframe tbody tr th:only-of-type {\n        vertical-align: middle;\n    }\n\n    .dataframe tbody tr th {\n        vertical-align: top;\n    }\n\n    .dataframe thead th {\n        text-align: right;\n    }\n</style>\n<table border=\"1\" class=\"dataframe\">\n  <thead>\n    <tr style=\"text-align: right;\">\n      <th></th>\n      <th>symbol</th>\n      <th>timestamp</th>\n      <th>datetime</th>\n      <th>high</th>\n      <th>low</th>\n      <th>bid</th>\n      <th>bidVolume</th>\n      <th>ask</th>\n      <th>askVolume</th>\n      <th>vwap</th>\n      <th>open</th>\n      <th>close</th>\n      <th>last</th>\n      <th>previousClose</th>\n      <th>change</th>\n      <th>percentage</th>\n      <th>average</th>\n      <th>baseVolume</th>\n      <th>quoteVolume</th>\n    </tr>\n  </thead>\n  <tbody>\n    <tr>\n      <th>0</th>\n      <td>BTC/USD</td>\n      <td>1610794864524</td>\n      <td>2021-01-16T11:01:04.524Z</td>\n      <td>38531.3</td>\n      <td>34371.0</td>\n      <td>37471.6</td>\n      <td>None</td>\n      <td>37474.5</td>\n      <td>None</td>\n      <td>36310.88852</td>\n      <td>36744.6</td>\n      <td>37474.4</td>\n      <td>37474.4</td>\n      <td>None</td>\n      <td>None</td>\n      <td>None</td>\n      <td>None</td>\n      <td>14183.278007</td>\n      <td>5.150074e+08</td>\n    </tr>\n  </tbody>\n</table>\n</div>"
     },
     "metadata": {},
     "execution_count": 6
    }
   ],
   "source": [
    "# Import data as a Pandas DataFrame\n",
    "current_price_df = pd.DataFrame(current_price, index=[0])\n",
    "current_price_df"
   ]
  },
  {
   "cell_type": "code",
   "execution_count": null,
   "metadata": {},
   "outputs": [],
   "source": []
  }
 ]
}