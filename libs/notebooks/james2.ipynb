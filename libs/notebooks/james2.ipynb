{
 "metadata": {
  "language_info": {
   "codemirror_mode": {
    "name": "ipython",
    "version": 3
   },
   "file_extension": ".py",
   "mimetype": "text/x-python",
   "name": "python",
   "nbconvert_exporter": "python",
   "pygments_lexer": "ipython3",
   "version": "3.7.7-final"
  },
  "orig_nbformat": 2,
  "kernelspec": {
   "name": "python3",
   "display_name": "Python 3",
   "language": "python"
  }
 },
 "nbformat": 4,
 "nbformat_minor": 2,
 "cells": [
  {
   "cell_type": "code",
   "execution_count": 2,
   "metadata": {},
   "outputs": [],
   "source": [
    "# Imports\n",
    "import sqlite3\n",
    "from contextlib import closing\n",
    "\n",
    "# Create db and connection\n",
    "connection = sqlite3.connect(\"DB_kraken.db\")"
   ]
  },
  {
   "cell_type": "code",
   "execution_count": 3,
   "metadata": {},
   "outputs": [
    {
     "output_type": "stream",
     "name": "stdout",
     "text": [
      "0\n"
     ]
    }
   ],
   "source": [
    "# Ensure db created - output should be 0 since no change have yet been made\\n\",\n",
    "\n",
    "print(connection.total_changes)"
   ]
  },
  {
   "cell_type": "code",
   "execution_count": 8,
   "metadata": {},
   "outputs": [
    {
     "output_type": "error",
     "ename": "SyntaxError",
     "evalue": "invalid syntax (<ipython-input-8-d515b13e995a>, line 12)",
     "traceback": [
      "\u001b[0;36m  File \u001b[0;32m\"<ipython-input-8-d515b13e995a>\"\u001b[0;36m, line \u001b[0;32m12\u001b[0m\n\u001b[0;31m    cursor.execute(\"CREATE TABLE ohlc (pair TEXT, open REAL, high REAL, low REAL, close REAL, vwap REAL, volume REAL, count REAL\"))\u001b[0m\n\u001b[0m                                                                                                                                  ^\u001b[0m\n\u001b[0;31mSyntaxError\u001b[0m\u001b[0;31m:\u001b[0m invalid syntax\n"
     ]
    }
   ],
   "source": [
    "# Coming in from kraken api - \\n\",\n",
    "# https://www.kraken.com/en-us/features/api\\n\",\n",
    "# scroll down to Get OHLC data section on site\\n\",\n",
    "# time, open, high, low, close, vwap, volume, count\n",
    "\n",
    "# SQL Lite data types\n",
    "# https://www.sqlite.org/datatype3.html\n",
    "\n",
    "# Items needed for Trading Signals Library:\n",
    "# trading pair, close, high, low, volume\n",
    "cursor = connection.cursor()\n",
    "cursor.execute(\"CREATE TABLE ohlc (pair TEXT, open REAL, high REAL, low REAL, close REAL, vwap REAL, volume REAL, count REAL\"))\n",
    "\n"
   ]
  },
  {
   "cell_type": "code",
   "execution_count": null,
   "metadata": {},
   "outputs": [],
   "source": []
  },
  {
   "cell_type": "code",
   "execution_count": null,
   "metadata": {},
   "outputs": [],
   "source": [
    "# Close conneciton object and cursor object - move to end of file\\n\",\n",
    "with closing(sqlite3.connect(\"DB_kraken.db.db\")) as connection:\n",
    "    with closing(connection.cursor()) as cursor:\n",
    "        rows = cursor.execute(\\\"SELECT 1\\\").fetchall()\n",
    "        print(rows)"
   ]
  }
 ]
}