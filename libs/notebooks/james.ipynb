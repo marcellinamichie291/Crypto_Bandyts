{
 "metadata": {
  "language_info": {
   "codemirror_mode": {
    "name": "ipython",
    "version": 3
   },
   "file_extension": ".py",
   "mimetype": "text/x-python",
   "name": "python",
   "nbconvert_exporter": "python",
   "pygments_lexer": "ipython3",
   "version": "3.8.3-final"
  },
  "orig_nbformat": 2,
  "kernelspec": {
   "name": "python3",
   "display_name": "Python 3",
   "language": "python"
  }
 },
 "nbformat": 4,
 "nbformat_minor": 2,
 "cells": [
  {
   "cell_type": "code",
   "execution_count": 1,
   "metadata": {},
   "outputs": [],
   "source": [
    "# Imports\n",
    "import sqlite3\n",
    "from contextlib import closing\n",
    "\n",
    "# Create db and connection\n",
    "connection = sqlite3.connect(\"DB_kraken.db\")\n"
   ]
  },
  {
   "cell_type": "code",
   "execution_count": 2,
   "metadata": {},
   "outputs": [
    {
     "output_type": "stream",
     "name": "stdout",
     "text": [
      "0\n"
     ]
    }
   ],
   "source": [
    "# Ensure db created - output should be 0 since no change have yet been made\n",
    "print(connection.total_changes)"
   ]
  },
  {
   "cell_type": "code",
   "execution_count": 3,
   "metadata": {},
   "outputs": [
    {
     "output_type": "execute_result",
     "data": {
      "text/plain": [
       "<sqlite3.Cursor at 0x7fefb31559d0>"
      ]
     },
     "metadata": {},
     "execution_count": 3
    }
   ],
   "source": [
    "cursor = connection.cursor()\n",
    "\n",
    "# Coming in from kraken api - \n",
    "# https://www.kraken.com/en-us/features/api\n",
    "# scroll down to Get OHLC data section on site\n",
    "# time, open, high, low, close, vwap, volume, count\n",
    "#\n",
    "# SQL Lite data\n",
    "# https://www.sqlite.org/datatype3.html\n",
    "\n",
    "# Items needed for Trading Signals Library:\n",
    "# trading pair, close, high, low, volume\n",
    "\n",
    "cursor.execute(\"CREATE TABLE ohlc (pair TEXT, time TEXT, open REAL, high REAL, low REAL, close REAL, vwap REAL, volume REAL, count REAL)\")\n"
   ]
  },
  {
   "cell_type": "code",
   "execution_count": 4,
   "metadata": {},
   "outputs": [],
   "source": [
    "# populate table"
   ]
  },
  {
   "cell_type": "code",
   "execution_count": null,
   "metadata": {},
   "outputs": [],
   "source": [
    "# Close conneciton object and cursor object - move to end of file\n",
    "with closing(sqlite3.connect(\"aquarium.db\")) as connection:\n",
    "    with closing(connection.cursor()) as cursor:\n",
    "        rows = cursor.execute(\"SELECT 1\").fetchall()\n",
    "        print(rows)"
   ]
  }
 ]
}