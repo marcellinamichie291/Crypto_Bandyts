{
 "metadata": {
  "language_info": {
   "codemirror_mode": {
    "name": "ipython",
    "version": 3
   },
   "file_extension": ".py",
   "mimetype": "text/x-python",
   "name": "python",
   "nbconvert_exporter": "python",
   "pygments_lexer": "ipython3",
   "version": "3.7.9-final"
  },
  "orig_nbformat": 2,
  "kernelspec": {
   "name": "python3",
   "display_name": "Python 3.7.9 64-bit ('dev': conda)",
   "metadata": {
    "interpreter": {
     "hash": "6c00ebd56bb94a4825b6affc4f76b26e4cde01d38b3661a4625dd3c53810e029"
    }
   }
  }
 },
 "nbformat": 4,
 "nbformat_minor": 2,
 "cells": [
  {
   "cell_type": "code",
   "execution_count": 63,
   "metadata": {},
   "outputs": [],
   "source": [
    "import sys\n",
    "import os\n",
    "module_path = os.path.abspath(os.path.join('../..'))\n",
    "if module_path not in sys.path:\n",
    "    sys.path.append(module_path)\n",
    "    \n",
    "from libs.signals import signals\n",
    "\n",
    "btc_df = signals.technical_indicator_signal('btc')\n",
    "\n",
    "import hvplot.pandas\n",
    "import numpy as np"
   ]
  },
  {
   "cell_type": "code",
   "execution_count": 64,
   "metadata": {},
   "outputs": [
    {
     "output_type": "execute_result",
     "data": {
      "text/plain": [
       "                      close  ewma_x  macd  bollinger  rsi  psar  signal  trade\n",
       "Date                                                                          \n",
       "2019-01-19 18:00:00  3530.0      -1  -1.0          1  1.0    -1    -1.0      0\n",
       "2019-01-20 18:00:00  3533.4      -1  -1.0          1  1.0    -1    -1.0      0\n",
       "2019-01-21 18:00:00  3575.8      -1  -1.0          1  1.0    -1    -1.0      0\n",
       "2019-01-22 18:00:00  3556.1      -1  -1.0          1  1.0    -1    -1.0      0\n",
       "2019-01-23 18:00:00  3568.3      -1   0.0          1  1.0    -1     0.0      0"
      ],
      "text/html": "<div>\n<style scoped>\n    .dataframe tbody tr th:only-of-type {\n        vertical-align: middle;\n    }\n\n    .dataframe tbody tr th {\n        vertical-align: top;\n    }\n\n    .dataframe thead th {\n        text-align: right;\n    }\n</style>\n<table border=\"1\" class=\"dataframe\">\n  <thead>\n    <tr style=\"text-align: right;\">\n      <th></th>\n      <th>close</th>\n      <th>ewma_x</th>\n      <th>macd</th>\n      <th>bollinger</th>\n      <th>rsi</th>\n      <th>psar</th>\n      <th>signal</th>\n      <th>trade</th>\n    </tr>\n    <tr>\n      <th>Date</th>\n      <th></th>\n      <th></th>\n      <th></th>\n      <th></th>\n      <th></th>\n      <th></th>\n      <th></th>\n      <th></th>\n    </tr>\n  </thead>\n  <tbody>\n    <tr>\n      <th>2019-01-19 18:00:00</th>\n      <td>3530.0</td>\n      <td>-1</td>\n      <td>-1.0</td>\n      <td>1</td>\n      <td>1.0</td>\n      <td>-1</td>\n      <td>-1.0</td>\n      <td>0</td>\n    </tr>\n    <tr>\n      <th>2019-01-20 18:00:00</th>\n      <td>3533.4</td>\n      <td>-1</td>\n      <td>-1.0</td>\n      <td>1</td>\n      <td>1.0</td>\n      <td>-1</td>\n      <td>-1.0</td>\n      <td>0</td>\n    </tr>\n    <tr>\n      <th>2019-01-21 18:00:00</th>\n      <td>3575.8</td>\n      <td>-1</td>\n      <td>-1.0</td>\n      <td>1</td>\n      <td>1.0</td>\n      <td>-1</td>\n      <td>-1.0</td>\n      <td>0</td>\n    </tr>\n    <tr>\n      <th>2019-01-22 18:00:00</th>\n      <td>3556.1</td>\n      <td>-1</td>\n      <td>-1.0</td>\n      <td>1</td>\n      <td>1.0</td>\n      <td>-1</td>\n      <td>-1.0</td>\n      <td>0</td>\n    </tr>\n    <tr>\n      <th>2019-01-23 18:00:00</th>\n      <td>3568.3</td>\n      <td>-1</td>\n      <td>0.0</td>\n      <td>1</td>\n      <td>1.0</td>\n      <td>-1</td>\n      <td>0.0</td>\n      <td>0</td>\n    </tr>\n  </tbody>\n</table>\n</div>"
     },
     "metadata": {},
     "execution_count": 64
    }
   ],
   "source": [
    "trade_cutoff = 1\n",
    "\n",
    "btc_df['trade'] = np.where(btc_df.signal >= trade_cutoff, 1, 0)\n",
    "\n",
    "btc_df.dropna(inplace=True)\n",
    "btc_df.head()"
   ]
  },
  {
   "cell_type": "code",
   "execution_count": 65,
   "metadata": {},
   "outputs": [
    {
     "output_type": "execute_result",
     "data": {
      "text/plain": [
       "                     ewma_x  macd  bollinger  rsi  psar\n",
       "Date                                                   \n",
       "2021-01-02 18:00:00       1   1.0         -1 -1.0     1\n",
       "2021-01-03 18:00:00       1   1.0         -1 -1.0    -1\n",
       "2021-01-04 18:00:00       1   1.0         -1 -1.0    -1\n",
       "2021-01-05 18:00:00       1   1.0         -1 -1.0     1\n",
       "2021-01-06 18:00:00       1   1.0         -1 -1.0     1"
      ],
      "text/html": "<div>\n<style scoped>\n    .dataframe tbody tr th:only-of-type {\n        vertical-align: middle;\n    }\n\n    .dataframe tbody tr th {\n        vertical-align: top;\n    }\n\n    .dataframe thead th {\n        text-align: right;\n    }\n</style>\n<table border=\"1\" class=\"dataframe\">\n  <thead>\n    <tr style=\"text-align: right;\">\n      <th></th>\n      <th>ewma_x</th>\n      <th>macd</th>\n      <th>bollinger</th>\n      <th>rsi</th>\n      <th>psar</th>\n    </tr>\n    <tr>\n      <th>Date</th>\n      <th></th>\n      <th></th>\n      <th></th>\n      <th></th>\n      <th></th>\n    </tr>\n  </thead>\n  <tbody>\n    <tr>\n      <th>2021-01-02 18:00:00</th>\n      <td>1</td>\n      <td>1.0</td>\n      <td>-1</td>\n      <td>-1.0</td>\n      <td>1</td>\n    </tr>\n    <tr>\n      <th>2021-01-03 18:00:00</th>\n      <td>1</td>\n      <td>1.0</td>\n      <td>-1</td>\n      <td>-1.0</td>\n      <td>-1</td>\n    </tr>\n    <tr>\n      <th>2021-01-04 18:00:00</th>\n      <td>1</td>\n      <td>1.0</td>\n      <td>-1</td>\n      <td>-1.0</td>\n      <td>-1</td>\n    </tr>\n    <tr>\n      <th>2021-01-05 18:00:00</th>\n      <td>1</td>\n      <td>1.0</td>\n      <td>-1</td>\n      <td>-1.0</td>\n      <td>1</td>\n    </tr>\n    <tr>\n      <th>2021-01-06 18:00:00</th>\n      <td>1</td>\n      <td>1.0</td>\n      <td>-1</td>\n      <td>-1.0</td>\n      <td>1</td>\n    </tr>\n  </tbody>\n</table>\n</div>"
     },
     "metadata": {},
     "execution_count": 65
    }
   ],
   "source": [
    "# create a random forest model for signal weights\n",
    "x_var_list = ['ewma_x', 'macd', 'bollinger', 'rsi', 'psar']\n",
    "var_df = btc_df[x_var_list]\n",
    "var_df.tail()"
   ]
  },
  {
   "cell_type": "code",
   "execution_count": 67,
   "metadata": {},
   "outputs": [
    {
     "output_type": "execute_result",
     "data": {
      "text/plain": [
       "                     ewma_x  macd  bollinger  rsi  psar\n",
       "Date                                                   \n",
       "2021-01-02 18:00:00     1.0   1.0       -1.0 -1.0   1.0\n",
       "2021-01-03 18:00:00     1.0   1.0       -1.0 -1.0   1.0\n",
       "2021-01-04 18:00:00     1.0   1.0       -1.0 -1.0   1.0\n",
       "2021-01-05 18:00:00     1.0   1.0       -1.0 -1.0   1.0\n",
       "2021-01-06 18:00:00     1.0   1.0       -1.0 -1.0  -1.0"
      ],
      "text/html": "<div>\n<style scoped>\n    .dataframe tbody tr th:only-of-type {\n        vertical-align: middle;\n    }\n\n    .dataframe tbody tr th {\n        vertical-align: top;\n    }\n\n    .dataframe thead th {\n        text-align: right;\n    }\n</style>\n<table border=\"1\" class=\"dataframe\">\n  <thead>\n    <tr style=\"text-align: right;\">\n      <th></th>\n      <th>ewma_x</th>\n      <th>macd</th>\n      <th>bollinger</th>\n      <th>rsi</th>\n      <th>psar</th>\n    </tr>\n    <tr>\n      <th>Date</th>\n      <th></th>\n      <th></th>\n      <th></th>\n      <th></th>\n      <th></th>\n    </tr>\n  </thead>\n  <tbody>\n    <tr>\n      <th>2021-01-02 18:00:00</th>\n      <td>1.0</td>\n      <td>1.0</td>\n      <td>-1.0</td>\n      <td>-1.0</td>\n      <td>1.0</td>\n    </tr>\n    <tr>\n      <th>2021-01-03 18:00:00</th>\n      <td>1.0</td>\n      <td>1.0</td>\n      <td>-1.0</td>\n      <td>-1.0</td>\n      <td>1.0</td>\n    </tr>\n    <tr>\n      <th>2021-01-04 18:00:00</th>\n      <td>1.0</td>\n      <td>1.0</td>\n      <td>-1.0</td>\n      <td>-1.0</td>\n      <td>1.0</td>\n    </tr>\n    <tr>\n      <th>2021-01-05 18:00:00</th>\n      <td>1.0</td>\n      <td>1.0</td>\n      <td>-1.0</td>\n      <td>-1.0</td>\n      <td>1.0</td>\n    </tr>\n    <tr>\n      <th>2021-01-06 18:00:00</th>\n      <td>1.0</td>\n      <td>1.0</td>\n      <td>-1.0</td>\n      <td>-1.0</td>\n      <td>-1.0</td>\n    </tr>\n  </tbody>\n</table>\n</div>"
     },
     "metadata": {},
     "execution_count": 67
    }
   ],
   "source": [
    "days_to_forecast = 3\n",
    "\n",
    "var_df_shift = var_df.shift(days_to_forecast)\n",
    "var_df_shift.tail()"
   ]
  },
  {
   "cell_type": "code",
   "execution_count": null,
   "metadata": {},
   "outputs": [],
   "source": [
    "var_df_shift"
   ]
  }
 ]
}