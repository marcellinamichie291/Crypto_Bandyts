{
 "metadata": {
  "language_info": {
   "codemirror_mode": {
    "name": "ipython",
    "version": 3
   },
   "file_extension": ".py",
   "mimetype": "text/x-python",
   "name": "python",
   "nbconvert_exporter": "python",
   "pygments_lexer": "ipython3",
   "version": "3.7.9-final"
  },
  "orig_nbformat": 2,
  "kernelspec": {
   "name": "python3",
   "display_name": "Python 3.7.9 64-bit ('dev': conda)",
   "metadata": {
    "interpreter": {
     "hash": "6c00ebd56bb94a4825b6affc4f76b26e4cde01d38b3661a4625dd3c53810e029"
    }
   }
  }
 },
 "nbformat": 4,
 "nbformat_minor": 2,
 "cells": [
  {
   "cell_type": "code",
   "execution_count": 1,
   "metadata": {},
   "outputs": [],
   "source": [
    "import sys\n",
    "import os\n",
    "module_path = os.path.abspath(os.path.join('../..'))\n",
    "if module_path not in sys.path:\n",
    "    sys.path.append(module_path)\n",
    "    \n",
    "from libs.signals import signals"
   ]
  },
  {
   "cell_type": "code",
   "execution_count": 2,
   "metadata": {},
   "outputs": [
    {
     "output_type": "execute_result",
     "data": {
      "text/plain": [
       "                       close  ewma_x  macd  bollinger  rsi  psar  vwap  \\\n",
       "Date                                                                     \n",
       "2021-01-02 18:00:00  33082.7       1   1.0         -1 -1.0     1     1   \n",
       "2021-01-03 18:00:00  32048.0       1   1.0         -1 -1.0    -1     0   \n",
       "2021-01-04 18:00:00  34050.0       1   1.0         -1 -1.0    -1     0   \n",
       "2021-01-05 18:00:00  36876.7       1   1.0         -1 -1.0     1     0   \n",
       "2021-01-06 18:00:00  39308.8       1   1.0         -1 -1.0     1     0   \n",
       "\n",
       "                      signal  \n",
       "Date                          \n",
       "2021-01-02 18:00:00  33084.7  \n",
       "2021-01-03 18:00:00  32047.0  \n",
       "2021-01-04 18:00:00  34049.0  \n",
       "2021-01-05 18:00:00  36877.7  \n",
       "2021-01-06 18:00:00  39309.8  "
      ],
      "text/html": "<div>\n<style scoped>\n    .dataframe tbody tr th:only-of-type {\n        vertical-align: middle;\n    }\n\n    .dataframe tbody tr th {\n        vertical-align: top;\n    }\n\n    .dataframe thead th {\n        text-align: right;\n    }\n</style>\n<table border=\"1\" class=\"dataframe\">\n  <thead>\n    <tr style=\"text-align: right;\">\n      <th></th>\n      <th>close</th>\n      <th>ewma_x</th>\n      <th>macd</th>\n      <th>bollinger</th>\n      <th>rsi</th>\n      <th>psar</th>\n      <th>vwap</th>\n      <th>signal</th>\n    </tr>\n    <tr>\n      <th>Date</th>\n      <th></th>\n      <th></th>\n      <th></th>\n      <th></th>\n      <th></th>\n      <th></th>\n      <th></th>\n      <th></th>\n    </tr>\n  </thead>\n  <tbody>\n    <tr>\n      <th>2021-01-02 18:00:00</th>\n      <td>33082.7</td>\n      <td>1</td>\n      <td>1.0</td>\n      <td>-1</td>\n      <td>-1.0</td>\n      <td>1</td>\n      <td>1</td>\n      <td>33084.7</td>\n    </tr>\n    <tr>\n      <th>2021-01-03 18:00:00</th>\n      <td>32048.0</td>\n      <td>1</td>\n      <td>1.0</td>\n      <td>-1</td>\n      <td>-1.0</td>\n      <td>-1</td>\n      <td>0</td>\n      <td>32047.0</td>\n    </tr>\n    <tr>\n      <th>2021-01-04 18:00:00</th>\n      <td>34050.0</td>\n      <td>1</td>\n      <td>1.0</td>\n      <td>-1</td>\n      <td>-1.0</td>\n      <td>-1</td>\n      <td>0</td>\n      <td>34049.0</td>\n    </tr>\n    <tr>\n      <th>2021-01-05 18:00:00</th>\n      <td>36876.7</td>\n      <td>1</td>\n      <td>1.0</td>\n      <td>-1</td>\n      <td>-1.0</td>\n      <td>1</td>\n      <td>0</td>\n      <td>36877.7</td>\n    </tr>\n    <tr>\n      <th>2021-01-06 18:00:00</th>\n      <td>39308.8</td>\n      <td>1</td>\n      <td>1.0</td>\n      <td>-1</td>\n      <td>-1.0</td>\n      <td>1</td>\n      <td>0</td>\n      <td>39309.8</td>\n    </tr>\n  </tbody>\n</table>\n</div>"
     },
     "metadata": {},
     "execution_count": 2
    }
   ],
   "source": [
    "signals.technical_indicator_signal('btc').tail()"
   ]
  },
  {
   "cell_type": "code",
   "execution_count": null,
   "metadata": {},
   "outputs": [],
   "source": []
  }
 ]
}