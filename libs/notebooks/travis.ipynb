{
 "metadata": {
  "language_info": {
   "codemirror_mode": {
    "name": "ipython",
    "version": 3
   },
   "file_extension": ".py",
   "mimetype": "text/x-python",
   "name": "python",
   "nbconvert_exporter": "python",
   "pygments_lexer": "ipython3",
   "version": "3.7.9-final"
  },
  "orig_nbformat": 2,
  "kernelspec": {
   "name": "python3",
   "display_name": "Python 3.7.9 64-bit ('dev': conda)",
   "metadata": {
    "interpreter": {
     "hash": "6c00ebd56bb94a4825b6affc4f76b26e4cde01d38b3661a4625dd3c53810e029"
    }
   }
  }
 },
 "nbformat": 4,
 "nbformat_minor": 2,
 "cells": [
  {
   "cell_type": "code",
   "execution_count": 2,
   "metadata": {},
   "outputs": [],
   "source": [
    "import sys\n",
    "import os\n",
    "module_path = os.path.abspath(os.path.join('../..'))\n",
    "if module_path not in sys.path:\n",
    "    sys.path.append(module_path)\n",
    "    \n",
    "from libs.signals import signals\n",
    "\n",
    "import hvplot.pandas\n",
    "import numpy as np"
   ]
  },
  {
   "cell_type": "code",
   "execution_count": null,
   "metadata": {},
   "outputs": [],
   "source": [
    "def technical_indicator_signal(asset):\n",
    "\n",
    "    '''\n",
    "    Input: Asset symbol - 'btc', 'eth', 'ltc', 'dot', 'xmr', 'xdg', 'xlm', 'xrp', 'zec', 'nano', 'trx', 'bch', 'xtz', 'ada','oxt'\n",
    "    Returns:  Dataframe of technial indicator signals\n",
    "\n",
    "    NOTICE: When analyzing on the daily timeframe or greater, VWAP will not apply as it is ONLY an intraday indicator.\n",
    "    '''\n",
    "\n",
    "    # create a dataframe to house the technical trading signals\n",
    "    asset_df = kraken_data(asset)\n",
    "\n",
    "    technical_signals = pd.DataFrame({\n",
    "        'close': asset_df.Close,\n",
    "        'ewma_x': ewma_crossover(asset_df).signal,\n",
    "        'macd': macd(asset_df).signal,\n",
    "        'bollinger': b_band(asset_df).signal,\n",
    "        'rsi': rsi(asset_df).signal,\n",
    "        'psar': psar(asset_df).signal,\n",
    "        'vwap': vwap(asset_df).signal \n",
    "    })\n",
    "\n",
    "    # since VWAP won't work on daily time intervals and greater, we need to check the interval to see if we should include vwap as a column or not\n",
    "    daily_seconds = 86400\n",
    "    delta_seconds = timedelta.total_seconds(technical_signals.index[1] - technical_signals.index[0])\n",
    "    interval = delta_seconds / daily_seconds\n",
    "\n",
    "    if interval >= 1:\n",
    "        # if the interval is greater than or equal to 1, then do not include VWAP\n",
    "        technical_signals = technical_signals.drop(columns='vwap')\n",
    "\n",
    "    # sum the various technical signals together to return a trade 'grade' or signal\n",
    "    technical_signals['signal'] = technical_signals.drop(columns=['close']).sum(axis='columns')\n",
    "\n",
    "    return technical_signals\n",
    "\n",
    "technical_signals = technical_indicator_signal('xdg')\n"
   ]
  },
  {
   "cell_type": "code",
   "execution_count": 3,
   "metadata": {},
   "outputs": [
    {
     "output_type": "execute_result",
     "data": {
      "text/plain": [
       "                        close  ewma_x  macd  bollinger  rsi  psar   returns\n",
       "Date                                                                       \n",
       "2021-01-04 18:00:00  0.010000       1   1.0         -1 -1.0     1  0.021200\n",
       "2021-01-05 18:00:00  0.010458       1   1.0         -1 -1.0     1  0.045800\n",
       "2021-01-06 18:00:00  0.009768       1   1.0         -1 -1.0     1 -0.066016\n",
       "2021-01-07 18:00:00  0.009794       1   1.0         -1 -1.0    -1  0.002703\n",
       "2021-01-08 18:00:00  0.010290       1   1.0         -1 -1.0    -1  0.050643"
      ],
      "text/html": "<div>\n<style scoped>\n    .dataframe tbody tr th:only-of-type {\n        vertical-align: middle;\n    }\n\n    .dataframe tbody tr th {\n        vertical-align: top;\n    }\n\n    .dataframe thead th {\n        text-align: right;\n    }\n</style>\n<table border=\"1\" class=\"dataframe\">\n  <thead>\n    <tr style=\"text-align: right;\">\n      <th></th>\n      <th>close</th>\n      <th>ewma_x</th>\n      <th>macd</th>\n      <th>bollinger</th>\n      <th>rsi</th>\n      <th>psar</th>\n      <th>returns</th>\n    </tr>\n    <tr>\n      <th>Date</th>\n      <th></th>\n      <th></th>\n      <th></th>\n      <th></th>\n      <th></th>\n      <th></th>\n      <th></th>\n    </tr>\n  </thead>\n  <tbody>\n    <tr>\n      <th>2021-01-04 18:00:00</th>\n      <td>0.010000</td>\n      <td>1</td>\n      <td>1.0</td>\n      <td>-1</td>\n      <td>-1.0</td>\n      <td>1</td>\n      <td>0.021200</td>\n    </tr>\n    <tr>\n      <th>2021-01-05 18:00:00</th>\n      <td>0.010458</td>\n      <td>1</td>\n      <td>1.0</td>\n      <td>-1</td>\n      <td>-1.0</td>\n      <td>1</td>\n      <td>0.045800</td>\n    </tr>\n    <tr>\n      <th>2021-01-06 18:00:00</th>\n      <td>0.009768</td>\n      <td>1</td>\n      <td>1.0</td>\n      <td>-1</td>\n      <td>-1.0</td>\n      <td>1</td>\n      <td>-0.066016</td>\n    </tr>\n    <tr>\n      <th>2021-01-07 18:00:00</th>\n      <td>0.009794</td>\n      <td>1</td>\n      <td>1.0</td>\n      <td>-1</td>\n      <td>-1.0</td>\n      <td>-1</td>\n      <td>0.002703</td>\n    </tr>\n    <tr>\n      <th>2021-01-08 18:00:00</th>\n      <td>0.010290</td>\n      <td>1</td>\n      <td>1.0</td>\n      <td>-1</td>\n      <td>-1.0</td>\n      <td>-1</td>\n      <td>0.050643</td>\n    </tr>\n  </tbody>\n</table>\n</div>"
     },
     "metadata": {},
     "execution_count": 3
    }
   ],
   "source": [
    "# trade_cutoff = 1\n",
    "\n",
    "# btc_df['trade'] = np.where(btc_df.signal >= trade_cutoff, 1, 0)\n",
    "\n",
    "btc_df.dropna(inplace=True)\n",
    "btc_df.drop(columns=['signal'], inplace=True)\n",
    "btc_df['returns'] = btc_df.close.pct_change()\n",
    "btc_df.tail()"
   ]
  },
  {
   "cell_type": "code",
   "execution_count": 4,
   "metadata": {},
   "outputs": [],
   "source": [
    "# create a random forest model for signal weights\n",
    "x_var_list = ['ewma_x', 'macd', 'bollinger', 'rsi', 'psar']"
   ]
  },
  {
   "cell_type": "code",
   "execution_count": 5,
   "metadata": {},
   "outputs": [
    {
     "output_type": "execute_result",
     "data": {
      "text/plain": [
       "                        close  ewma_x  macd  bollinger  rsi  psar   returns\n",
       "Date                                                                       \n",
       "2021-01-04 18:00:00  0.010000     1.0   1.0       -1.0 -1.0   1.0  0.021200\n",
       "2021-01-05 18:00:00  0.010458     1.0   1.0       -1.0 -1.0   1.0  0.045800\n",
       "2021-01-06 18:00:00  0.009768     1.0   1.0       -1.0 -1.0   1.0 -0.066016\n",
       "2021-01-07 18:00:00  0.009794     1.0   1.0       -1.0 -1.0   1.0  0.002703\n",
       "2021-01-08 18:00:00  0.010290     1.0   1.0       -1.0 -1.0  -1.0  0.050643"
      ],
      "text/html": "<div>\n<style scoped>\n    .dataframe tbody tr th:only-of-type {\n        vertical-align: middle;\n    }\n\n    .dataframe tbody tr th {\n        vertical-align: top;\n    }\n\n    .dataframe thead th {\n        text-align: right;\n    }\n</style>\n<table border=\"1\" class=\"dataframe\">\n  <thead>\n    <tr style=\"text-align: right;\">\n      <th></th>\n      <th>close</th>\n      <th>ewma_x</th>\n      <th>macd</th>\n      <th>bollinger</th>\n      <th>rsi</th>\n      <th>psar</th>\n      <th>returns</th>\n    </tr>\n    <tr>\n      <th>Date</th>\n      <th></th>\n      <th></th>\n      <th></th>\n      <th></th>\n      <th></th>\n      <th></th>\n      <th></th>\n    </tr>\n  </thead>\n  <tbody>\n    <tr>\n      <th>2021-01-04 18:00:00</th>\n      <td>0.010000</td>\n      <td>1.0</td>\n      <td>1.0</td>\n      <td>-1.0</td>\n      <td>-1.0</td>\n      <td>1.0</td>\n      <td>0.021200</td>\n    </tr>\n    <tr>\n      <th>2021-01-05 18:00:00</th>\n      <td>0.010458</td>\n      <td>1.0</td>\n      <td>1.0</td>\n      <td>-1.0</td>\n      <td>-1.0</td>\n      <td>1.0</td>\n      <td>0.045800</td>\n    </tr>\n    <tr>\n      <th>2021-01-06 18:00:00</th>\n      <td>0.009768</td>\n      <td>1.0</td>\n      <td>1.0</td>\n      <td>-1.0</td>\n      <td>-1.0</td>\n      <td>1.0</td>\n      <td>-0.066016</td>\n    </tr>\n    <tr>\n      <th>2021-01-07 18:00:00</th>\n      <td>0.009794</td>\n      <td>1.0</td>\n      <td>1.0</td>\n      <td>-1.0</td>\n      <td>-1.0</td>\n      <td>1.0</td>\n      <td>0.002703</td>\n    </tr>\n    <tr>\n      <th>2021-01-08 18:00:00</th>\n      <td>0.010290</td>\n      <td>1.0</td>\n      <td>1.0</td>\n      <td>-1.0</td>\n      <td>-1.0</td>\n      <td>-1.0</td>\n      <td>0.050643</td>\n    </tr>\n  </tbody>\n</table>\n</div>"
     },
     "metadata": {},
     "execution_count": 5
    }
   ],
   "source": [
    "days_to_forecast = 1\n",
    "\n",
    "shifted_df = btc_df\n",
    "shifted_df[x_var_list] = shifted_df[x_var_list].shift(days_to_forecast)\n",
    "shifted_df.tail()"
   ]
  },
  {
   "cell_type": "code",
   "execution_count": 6,
   "metadata": {},
   "outputs": [
    {
     "output_type": "execute_result",
     "data": {
      "text/plain": [
       "                        close  ewma_x  macd  bollinger  rsi  psar   returns\n",
       "Date                                                                       \n",
       "2019-12-20 18:00:00  0.002100    -1.0  -1.0        1.0  1.0  -1.0  0.039707\n",
       "2019-12-21 18:00:00  0.002085    -1.0  -1.0        1.0  1.0  -1.0 -0.007143\n",
       "2019-12-22 18:00:00  0.002232    -1.0  -1.0        1.0  1.0  -1.0  0.070360\n",
       "2019-12-23 18:00:00  0.002008     1.0   0.0        1.0  1.0  -1.0 -0.100237\n",
       "2019-12-24 18:00:00  0.002020    -1.0  -1.0        1.0  1.0  -1.0  0.006125"
      ],
      "text/html": "<div>\n<style scoped>\n    .dataframe tbody tr th:only-of-type {\n        vertical-align: middle;\n    }\n\n    .dataframe tbody tr th {\n        vertical-align: top;\n    }\n\n    .dataframe thead th {\n        text-align: right;\n    }\n</style>\n<table border=\"1\" class=\"dataframe\">\n  <thead>\n    <tr style=\"text-align: right;\">\n      <th></th>\n      <th>close</th>\n      <th>ewma_x</th>\n      <th>macd</th>\n      <th>bollinger</th>\n      <th>rsi</th>\n      <th>psar</th>\n      <th>returns</th>\n    </tr>\n    <tr>\n      <th>Date</th>\n      <th></th>\n      <th></th>\n      <th></th>\n      <th></th>\n      <th></th>\n      <th></th>\n      <th></th>\n    </tr>\n  </thead>\n  <tbody>\n    <tr>\n      <th>2019-12-20 18:00:00</th>\n      <td>0.002100</td>\n      <td>-1.0</td>\n      <td>-1.0</td>\n      <td>1.0</td>\n      <td>1.0</td>\n      <td>-1.0</td>\n      <td>0.039707</td>\n    </tr>\n    <tr>\n      <th>2019-12-21 18:00:00</th>\n      <td>0.002085</td>\n      <td>-1.0</td>\n      <td>-1.0</td>\n      <td>1.0</td>\n      <td>1.0</td>\n      <td>-1.0</td>\n      <td>-0.007143</td>\n    </tr>\n    <tr>\n      <th>2019-12-22 18:00:00</th>\n      <td>0.002232</td>\n      <td>-1.0</td>\n      <td>-1.0</td>\n      <td>1.0</td>\n      <td>1.0</td>\n      <td>-1.0</td>\n      <td>0.070360</td>\n    </tr>\n    <tr>\n      <th>2019-12-23 18:00:00</th>\n      <td>0.002008</td>\n      <td>1.0</td>\n      <td>0.0</td>\n      <td>1.0</td>\n      <td>1.0</td>\n      <td>-1.0</td>\n      <td>-0.100237</td>\n    </tr>\n    <tr>\n      <th>2019-12-24 18:00:00</th>\n      <td>0.002020</td>\n      <td>-1.0</td>\n      <td>-1.0</td>\n      <td>1.0</td>\n      <td>1.0</td>\n      <td>-1.0</td>\n      <td>0.006125</td>\n    </tr>\n  </tbody>\n</table>\n</div>"
     },
     "metadata": {},
     "execution_count": 6
    }
   ],
   "source": [
    "shifted_df.dropna(subset=x_var_list, inplace=True)\n",
    "shifted_df.dropna(subset=['returns'], inplace=True)\n",
    "shifted_df = shifted_df.replace([np.inf, -np.inf], np.nan)\n",
    "shifted_df.head()"
   ]
  },
  {
   "cell_type": "code",
   "execution_count": 7,
   "metadata": {},
   "outputs": [
    {
     "output_type": "execute_result",
     "data": {
      "text/plain": [
       "                        close  ewma_x  macd  bollinger  rsi  psar   returns  \\\n",
       "Date                                                                          \n",
       "2019-12-20 18:00:00  0.002100    -1.0  -1.0        1.0  1.0  -1.0  0.039707   \n",
       "2019-12-21 18:00:00  0.002085    -1.0  -1.0        1.0  1.0  -1.0 -0.007143   \n",
       "2019-12-22 18:00:00  0.002232    -1.0  -1.0        1.0  1.0  -1.0  0.070360   \n",
       "2019-12-23 18:00:00  0.002008     1.0   0.0        1.0  1.0  -1.0 -0.100237   \n",
       "2019-12-24 18:00:00  0.002020    -1.0  -1.0        1.0  1.0  -1.0  0.006125   \n",
       "...                       ...     ...   ...        ...  ...   ...       ...   \n",
       "2021-01-04 18:00:00  0.010000     1.0   1.0       -1.0 -1.0   1.0  0.021200   \n",
       "2021-01-05 18:00:00  0.010458     1.0   1.0       -1.0 -1.0   1.0  0.045800   \n",
       "2021-01-06 18:00:00  0.009768     1.0   1.0       -1.0 -1.0   1.0 -0.066016   \n",
       "2021-01-07 18:00:00  0.009794     1.0   1.0       -1.0 -1.0   1.0  0.002703   \n",
       "2021-01-08 18:00:00  0.010290     1.0   1.0       -1.0 -1.0  -1.0  0.050643   \n",
       "\n",
       "                     positive_return  \n",
       "Date                                  \n",
       "2019-12-20 18:00:00                1  \n",
       "2019-12-21 18:00:00                0  \n",
       "2019-12-22 18:00:00                1  \n",
       "2019-12-23 18:00:00                0  \n",
       "2019-12-24 18:00:00                1  \n",
       "...                              ...  \n",
       "2021-01-04 18:00:00                1  \n",
       "2021-01-05 18:00:00                1  \n",
       "2021-01-06 18:00:00                0  \n",
       "2021-01-07 18:00:00                1  \n",
       "2021-01-08 18:00:00                1  \n",
       "\n",
       "[386 rows x 8 columns]"
      ],
      "text/html": "<div>\n<style scoped>\n    .dataframe tbody tr th:only-of-type {\n        vertical-align: middle;\n    }\n\n    .dataframe tbody tr th {\n        vertical-align: top;\n    }\n\n    .dataframe thead th {\n        text-align: right;\n    }\n</style>\n<table border=\"1\" class=\"dataframe\">\n  <thead>\n    <tr style=\"text-align: right;\">\n      <th></th>\n      <th>close</th>\n      <th>ewma_x</th>\n      <th>macd</th>\n      <th>bollinger</th>\n      <th>rsi</th>\n      <th>psar</th>\n      <th>returns</th>\n      <th>positive_return</th>\n    </tr>\n    <tr>\n      <th>Date</th>\n      <th></th>\n      <th></th>\n      <th></th>\n      <th></th>\n      <th></th>\n      <th></th>\n      <th></th>\n      <th></th>\n    </tr>\n  </thead>\n  <tbody>\n    <tr>\n      <th>2019-12-20 18:00:00</th>\n      <td>0.002100</td>\n      <td>-1.0</td>\n      <td>-1.0</td>\n      <td>1.0</td>\n      <td>1.0</td>\n      <td>-1.0</td>\n      <td>0.039707</td>\n      <td>1</td>\n    </tr>\n    <tr>\n      <th>2019-12-21 18:00:00</th>\n      <td>0.002085</td>\n      <td>-1.0</td>\n      <td>-1.0</td>\n      <td>1.0</td>\n      <td>1.0</td>\n      <td>-1.0</td>\n      <td>-0.007143</td>\n      <td>0</td>\n    </tr>\n    <tr>\n      <th>2019-12-22 18:00:00</th>\n      <td>0.002232</td>\n      <td>-1.0</td>\n      <td>-1.0</td>\n      <td>1.0</td>\n      <td>1.0</td>\n      <td>-1.0</td>\n      <td>0.070360</td>\n      <td>1</td>\n    </tr>\n    <tr>\n      <th>2019-12-23 18:00:00</th>\n      <td>0.002008</td>\n      <td>1.0</td>\n      <td>0.0</td>\n      <td>1.0</td>\n      <td>1.0</td>\n      <td>-1.0</td>\n      <td>-0.100237</td>\n      <td>0</td>\n    </tr>\n    <tr>\n      <th>2019-12-24 18:00:00</th>\n      <td>0.002020</td>\n      <td>-1.0</td>\n      <td>-1.0</td>\n      <td>1.0</td>\n      <td>1.0</td>\n      <td>-1.0</td>\n      <td>0.006125</td>\n      <td>1</td>\n    </tr>\n    <tr>\n      <th>...</th>\n      <td>...</td>\n      <td>...</td>\n      <td>...</td>\n      <td>...</td>\n      <td>...</td>\n      <td>...</td>\n      <td>...</td>\n      <td>...</td>\n    </tr>\n    <tr>\n      <th>2021-01-04 18:00:00</th>\n      <td>0.010000</td>\n      <td>1.0</td>\n      <td>1.0</td>\n      <td>-1.0</td>\n      <td>-1.0</td>\n      <td>1.0</td>\n      <td>0.021200</td>\n      <td>1</td>\n    </tr>\n    <tr>\n      <th>2021-01-05 18:00:00</th>\n      <td>0.010458</td>\n      <td>1.0</td>\n      <td>1.0</td>\n      <td>-1.0</td>\n      <td>-1.0</td>\n      <td>1.0</td>\n      <td>0.045800</td>\n      <td>1</td>\n    </tr>\n    <tr>\n      <th>2021-01-06 18:00:00</th>\n      <td>0.009768</td>\n      <td>1.0</td>\n      <td>1.0</td>\n      <td>-1.0</td>\n      <td>-1.0</td>\n      <td>1.0</td>\n      <td>-0.066016</td>\n      <td>0</td>\n    </tr>\n    <tr>\n      <th>2021-01-07 18:00:00</th>\n      <td>0.009794</td>\n      <td>1.0</td>\n      <td>1.0</td>\n      <td>-1.0</td>\n      <td>-1.0</td>\n      <td>1.0</td>\n      <td>0.002703</td>\n      <td>1</td>\n    </tr>\n    <tr>\n      <th>2021-01-08 18:00:00</th>\n      <td>0.010290</td>\n      <td>1.0</td>\n      <td>1.0</td>\n      <td>-1.0</td>\n      <td>-1.0</td>\n      <td>-1.0</td>\n      <td>0.050643</td>\n      <td>1</td>\n    </tr>\n  </tbody>\n</table>\n<p>386 rows × 8 columns</p>\n</div>"
     },
     "metadata": {},
     "execution_count": 7
    }
   ],
   "source": [
    "# make returns binary -- above 0 == 1, equal to or below 0 == 0\n",
    "shifted_df['positive_return'] = np.where(shifted_df.returns > 0, 1, 0)\n",
    "shifted_df"
   ]
  },
  {
   "cell_type": "code",
   "execution_count": 8,
   "metadata": {},
   "outputs": [
    {
     "output_type": "stream",
     "name": "stdout",
     "text": [
      "2019-12-20\n2020-08-06\n2020-08-07\n2021-01-08\n"
     ]
    }
   ],
   "source": [
    "training_per = 0.6\n",
    "\n",
    "training_start = shifted_df.index.min().strftime(format= '%Y-%m-%d')\n",
    "training_end = shifted_df.iloc[:int(len(shifted_df) * training_per)].index.max().strftime(format= '%Y-%m-%d')\n",
    "\n",
    "testing_start = shifted_df[training_end:].iloc[1:].index.min().strftime(format= '%Y-%m-%d')\n",
    "testing_end = shifted_df[testing_start:].index.max().strftime(format= '%Y-%m-%d')\n",
    "\n",
    "print(training_start)\n",
    "print(training_end)\n",
    "print(testing_start)\n",
    "print(testing_end)"
   ]
  },
  {
   "cell_type": "code",
   "execution_count": 9,
   "metadata": {},
   "outputs": [],
   "source": [
    "# create the test/train split\n",
    "X_train = shifted_df[x_var_list][training_start:training_end]\n",
    "y_train = shifted_df.positive_return[training_start:training_end]\n",
    "\n",
    "X_test = shifted_df[x_var_list][testing_start:]\n",
    "y_test = shifted_df.positive_return[testing_start:]"
   ]
  },
  {
   "cell_type": "code",
   "execution_count": 10,
   "metadata": {},
   "outputs": [],
   "source": [
    "from sklearn.ensemble import RandomForestClassifier\n",
    "from sklearn.datasets import make_classification"
   ]
  },
  {
   "cell_type": "code",
   "execution_count": 11,
   "metadata": {},
   "outputs": [],
   "source": [
    "model = RandomForestClassifier(n_estimators=100000, max_depth=10, random_state=0)\n",
    "\n",
    "model.fit(X_train, y_train)\n",
    "\n",
    "predictions = model.predict(X_test)"
   ]
  },
  {
   "cell_type": "code",
   "execution_count": 12,
   "metadata": {},
   "outputs": [
    {
     "output_type": "execute_result",
     "data": {
      "text/plain": [
       "                      returns  positive_return  predict\n",
       "Date                                                   \n",
       "2019-12-20 18:00:00  0.039707                1       -1\n",
       "2019-12-21 18:00:00 -0.007143                0       -1\n",
       "2019-12-22 18:00:00  0.070360                1       -1\n",
       "2019-12-23 18:00:00 -0.100237                0       -1\n",
       "2019-12-24 18:00:00  0.006125                1       -1\n",
       "...                       ...              ...      ...\n",
       "2021-01-04 18:00:00  0.021200                1        1\n",
       "2021-01-05 18:00:00  0.045800                1        1\n",
       "2021-01-06 18:00:00 -0.066016                0        1\n",
       "2021-01-07 18:00:00  0.002703                1        1\n",
       "2021-01-08 18:00:00  0.050643                1        1\n",
       "\n",
       "[386 rows x 3 columns]"
      ],
      "text/html": "<div>\n<style scoped>\n    .dataframe tbody tr th:only-of-type {\n        vertical-align: middle;\n    }\n\n    .dataframe tbody tr th {\n        vertical-align: top;\n    }\n\n    .dataframe thead th {\n        text-align: right;\n    }\n</style>\n<table border=\"1\" class=\"dataframe\">\n  <thead>\n    <tr style=\"text-align: right;\">\n      <th></th>\n      <th>returns</th>\n      <th>positive_return</th>\n      <th>predict</th>\n    </tr>\n    <tr>\n      <th>Date</th>\n      <th></th>\n      <th></th>\n      <th></th>\n    </tr>\n  </thead>\n  <tbody>\n    <tr>\n      <th>2019-12-20 18:00:00</th>\n      <td>0.039707</td>\n      <td>1</td>\n      <td>-1</td>\n    </tr>\n    <tr>\n      <th>2019-12-21 18:00:00</th>\n      <td>-0.007143</td>\n      <td>0</td>\n      <td>-1</td>\n    </tr>\n    <tr>\n      <th>2019-12-22 18:00:00</th>\n      <td>0.070360</td>\n      <td>1</td>\n      <td>-1</td>\n    </tr>\n    <tr>\n      <th>2019-12-23 18:00:00</th>\n      <td>-0.100237</td>\n      <td>0</td>\n      <td>-1</td>\n    </tr>\n    <tr>\n      <th>2019-12-24 18:00:00</th>\n      <td>0.006125</td>\n      <td>1</td>\n      <td>-1</td>\n    </tr>\n    <tr>\n      <th>...</th>\n      <td>...</td>\n      <td>...</td>\n      <td>...</td>\n    </tr>\n    <tr>\n      <th>2021-01-04 18:00:00</th>\n      <td>0.021200</td>\n      <td>1</td>\n      <td>1</td>\n    </tr>\n    <tr>\n      <th>2021-01-05 18:00:00</th>\n      <td>0.045800</td>\n      <td>1</td>\n      <td>1</td>\n    </tr>\n    <tr>\n      <th>2021-01-06 18:00:00</th>\n      <td>-0.066016</td>\n      <td>0</td>\n      <td>1</td>\n    </tr>\n    <tr>\n      <th>2021-01-07 18:00:00</th>\n      <td>0.002703</td>\n      <td>1</td>\n      <td>1</td>\n    </tr>\n    <tr>\n      <th>2021-01-08 18:00:00</th>\n      <td>0.050643</td>\n      <td>1</td>\n      <td>1</td>\n    </tr>\n  </tbody>\n</table>\n<p>386 rows × 3 columns</p>\n</div>"
     },
     "metadata": {},
     "execution_count": 12
    }
   ],
   "source": [
    "prediction = model.predict(shifted_df[x_var_list])\n",
    "\n",
    "results = shifted_df[['returns', 'positive_return']]\n",
    "results['predict'] = prediction\n",
    "\n",
    "results['predict'].replace(0 , -1, inplace=True)\n",
    "\n",
    "results"
   ]
  },
  {
   "cell_type": "code",
   "execution_count": 23,
   "metadata": {},
   "outputs": [
    {
     "output_type": "stream",
     "name": "stdout",
     "text": [
      "Starting Capital = $0.0021\nCumulative Portfolio = $0.0252\n"
     ]
    },
    {
     "output_type": "display_data",
     "data": {},
     "metadata": {}
    },
    {
     "output_type": "execute_result",
     "data": {
      "text/html": "<div id='3061'>\n\n\n\n\n\n  <div class=\"bk-root\" id=\"ee1fdda7-90b1-4d15-90ff-d13d287aec18\" data-root-id=\"3061\"></div>\n</div>\n<script type=\"application/javascript\">(function(root) {\n  function embed_document(root) {\n    var docs_json = {\"24666e45-5e69-49f4-ad05-0dc6cd3e159d\":{\"roots\":{\"references\":[{\"attributes\":{\"days\":[1,8,15,22]},\"id\":\"3120\",\"type\":\"DaysTicker\"},{\"attributes\":{\"line_color\":\"#1f77b3\",\"line_width\":2,\"x\":{\"field\":\"Date\"},\"y\":{\"field\":\"0\"}},\"id\":\"3105\",\"type\":\"Line\"},{\"attributes\":{\"bottom_units\":\"screen\",\"fill_alpha\":0.5,\"fill_color\":\"lightgrey\",\"left_units\":\"screen\",\"level\":\"overlay\",\"line_alpha\":1.0,\"line_color\":\"black\",\"line_dash\":[4,4],\"line_width\":2,\"right_units\":\"screen\",\"top_units\":\"screen\"},\"id\":\"3089\",\"type\":\"BoxAnnotation\"},{\"attributes\":{\"end\":0.02834030123941763,\"reset_end\":0.02834030123941763,\"reset_start\":-0.000929118294492512,\"start\":-0.000929118294492512,\"tags\":[[[\"0\",\"0\",null]]]},\"id\":\"3064\",\"type\":\"Range1d\"},{\"attributes\":{\"source\":{\"id\":\"3132\"}},\"id\":\"3139\",\"type\":\"CDSView\"},{\"attributes\":{\"data\":{\"Date\":{\"__ndarray__\":\"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\",\"dtype\":\"float64\",\"order\":\"little\",\"shape\":[386]},\"close\":{\"__ndarray__\":\"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\",\"dtype\":\"float64\",\"order\":\"little\",\"shape\":[386]}},\"selected\":{\"id\":\"3133\"},\"selection_policy\":{\"id\":\"3159\"}},\"id\":\"3132\",\"type\":\"ColumnDataSource\"},{\"attributes\":{\"mantissas\":[1,2,5],\"max_interval\":500.0,\"num_minor_ticks\":0},\"id\":\"3115\",\"type\":\"AdaptiveTicker\"},{\"attributes\":{\"axis\":{\"id\":\"3080\"},\"dimension\":1,\"grid_line_color\":null,\"ticker\":null},\"id\":\"3083\",\"type\":\"Grid\"},{\"attributes\":{\"items\":[]},\"id\":\"3130\",\"type\":\"Legend\"},{\"attributes\":{},\"id\":\"3098\",\"type\":\"DatetimeTickFormatter\"},{\"attributes\":{\"days\":[1,15]},\"id\":\"3121\",\"type\":\"DaysTicker\"},{\"attributes\":{\"margin\":[5,5,5,5],\"name\":\"HSpacer04786\",\"sizing_mode\":\"stretch_width\"},\"id\":\"3361\",\"type\":\"Spacer\"},{\"attributes\":{},\"id\":\"3159\",\"type\":\"UnionRenderers\"},{\"attributes\":{\"active_drag\":\"auto\",\"active_inspect\":\"auto\",\"active_multi\":null,\"active_scroll\":\"auto\",\"active_tap\":\"auto\",\"tools\":[{\"id\":\"3065\"},{\"id\":\"3066\"},{\"id\":\"3084\"},{\"id\":\"3085\"},{\"id\":\"3086\"},{\"id\":\"3087\"},{\"id\":\"3088\"}]},\"id\":\"3090\",\"type\":\"Toolbar\"},{\"attributes\":{\"line_alpha\":0.1,\"line_color\":\"#1f77b3\",\"line_width\":2,\"x\":{\"field\":\"Date\"},\"y\":{\"field\":\"0\"}},\"id\":\"3106\",\"type\":\"Line\"},{\"attributes\":{},\"id\":\"3127\",\"type\":\"UnionRenderers\"},{\"attributes\":{\"data_source\":{\"id\":\"3132\"},\"glyph\":{\"id\":\"3135\"},\"hover_glyph\":null,\"muted_glyph\":{\"id\":\"3137\"},\"nonselection_glyph\":{\"id\":\"3136\"},\"selection_glyph\":null,\"view\":{\"id\":\"3139\"}},\"id\":\"3138\",\"type\":\"GlyphRenderer\"},{\"attributes\":{\"data\":{\"0\":{\"__ndarray__\":\"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\",\"dtype\":\"float64\",\"order\":\"little\",\"shape\":[386]},\"A_0\":{\"__ndarray__\":\"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\",\"dtype\":\"float64\",\"order\":\"little\",\"shape\":[386]},\"Date\":{\"__ndarray__\":\"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\",\"dtype\":\"float64\",\"order\":\"little\",\"shape\":[386]}},\"selected\":{\"id\":\"3103\"},\"selection_policy\":{\"id\":\"3127\"}},\"id\":\"3102\",\"type\":\"ColumnDataSource\"},{\"attributes\":{},\"id\":\"3084\",\"type\":\"SaveTool\"},{\"attributes\":{\"months\":[0,2,4,6,8,10]},\"id\":\"3123\",\"type\":\"MonthsTicker\"},{\"attributes\":{},\"id\":\"3085\",\"type\":\"PanTool\"},{\"attributes\":{\"months\":[0,4,8]},\"id\":\"3124\",\"type\":\"MonthsTicker\"},{\"attributes\":{},\"id\":\"3103\",\"type\":\"Selection\"},{\"attributes\":{},\"id\":\"3133\",\"type\":\"Selection\"},{\"attributes\":{},\"id\":\"3100\",\"type\":\"BasicTickFormatter\"},{\"attributes\":{\"overlay\":{\"id\":\"3089\"}},\"id\":\"3087\",\"type\":\"BoxZoomTool\"},{\"attributes\":{\"line_alpha\":0.2,\"line_color\":\"#ff7e0e\",\"line_width\":2,\"x\":{\"field\":\"Date\"},\"y\":{\"field\":\"close\"}},\"id\":\"3137\",\"type\":\"Line\"},{\"attributes\":{},\"id\":\"3086\",\"type\":\"WheelZoomTool\"},{\"attributes\":{\"margin\":[5,5,5,5],\"name\":\"HSpacer04785\",\"sizing_mode\":\"stretch_width\"},\"id\":\"3062\",\"type\":\"Spacer\"},{\"attributes\":{\"source\":{\"id\":\"3102\"}},\"id\":\"3109\",\"type\":\"CDSView\"},{\"attributes\":{\"text\":\"\",\"text_color\":{\"value\":\"black\"},\"text_font_size\":{\"value\":\"12pt\"}},\"id\":\"3068\",\"type\":\"Title\"},{\"attributes\":{},\"id\":\"3074\",\"type\":\"LinearScale\"},{\"attributes\":{\"days\":[1,4,7,10,13,16,19,22,25,28]},\"id\":\"3119\",\"type\":\"DaysTicker\"},{\"attributes\":{\"end\":1610128800000.0,\"reset_end\":1610128800000.0,\"reset_start\":1576864800000.0,\"start\":1576864800000.0,\"tags\":[[[\"Date\",\"Date\",null]]]},\"id\":\"3063\",\"type\":\"Range1d\"},{\"attributes\":{\"base\":24,\"mantissas\":[1,2,4,6,8,12],\"max_interval\":43200000.0,\"min_interval\":3600000.0,\"num_minor_ticks\":0},\"id\":\"3117\",\"type\":\"AdaptiveTicker\"},{\"attributes\":{\"callback\":null,\"formatters\":{\"@{Date}\":\"datetime\"},\"renderers\":[{\"id\":\"3108\"}],\"tags\":[\"hv_created\"],\"tooltips\":[[\"Date\",\"@{Date}{%F %T}\"],[\"0\",\"@{A_0}\"]]},\"id\":\"3065\",\"type\":\"HoverTool\"},{\"attributes\":{},\"id\":\"3088\",\"type\":\"ResetTool\"},{\"attributes\":{\"data_source\":{\"id\":\"3102\"},\"glyph\":{\"id\":\"3105\"},\"hover_glyph\":null,\"muted_glyph\":{\"id\":\"3107\"},\"nonselection_glyph\":{\"id\":\"3106\"},\"selection_glyph\":null,\"view\":{\"id\":\"3109\"}},\"id\":\"3108\",\"type\":\"GlyphRenderer\"},{\"attributes\":{\"axis_label\":\"Date\",\"bounds\":\"auto\",\"formatter\":{\"id\":\"3098\"},\"major_label_orientation\":\"horizontal\",\"ticker\":{\"id\":\"3077\"}},\"id\":\"3076\",\"type\":\"DatetimeAxis\"},{\"attributes\":{\"children\":[{\"id\":\"3062\"},{\"id\":\"3067\"},{\"id\":\"3361\"}],\"margin\":[0,0,0,0],\"name\":\"Row04781\",\"tags\":[\"embedded\"]},\"id\":\"3061\",\"type\":\"Row\"},{\"attributes\":{\"months\":[0,6]},\"id\":\"3125\",\"type\":\"MonthsTicker\"},{\"attributes\":{},\"id\":\"3072\",\"type\":\"LinearScale\"},{\"attributes\":{\"line_color\":\"#ff7e0e\",\"line_width\":2,\"x\":{\"field\":\"Date\"},\"y\":{\"field\":\"close\"}},\"id\":\"3135\",\"type\":\"Line\"},{\"attributes\":{\"months\":[0,1,2,3,4,5,6,7,8,9,10,11]},\"id\":\"3122\",\"type\":\"MonthsTicker\"},{\"attributes\":{\"num_minor_ticks\":5,\"tickers\":[{\"id\":\"3115\"},{\"id\":\"3116\"},{\"id\":\"3117\"},{\"id\":\"3118\"},{\"id\":\"3119\"},{\"id\":\"3120\"},{\"id\":\"3121\"},{\"id\":\"3122\"},{\"id\":\"3123\"},{\"id\":\"3124\"},{\"id\":\"3125\"},{\"id\":\"3126\"}]},\"id\":\"3077\",\"type\":\"DatetimeTicker\"},{\"attributes\":{\"line_alpha\":0.2,\"line_color\":\"#1f77b3\",\"line_width\":2,\"x\":{\"field\":\"Date\"},\"y\":{\"field\":\"0\"}},\"id\":\"3107\",\"type\":\"Line\"},{\"attributes\":{\"callback\":null,\"formatters\":{\"@{Date}\":\"datetime\"},\"renderers\":[{\"id\":\"3138\"}],\"tags\":[\"hv_created\"],\"tooltips\":[[\"Date\",\"@{Date}{%F %T}\"],[\"close\",\"@{close}\"]]},\"id\":\"3066\",\"type\":\"HoverTool\"},{\"attributes\":{},\"id\":\"3081\",\"type\":\"BasicTicker\"},{\"attributes\":{\"base\":60,\"mantissas\":[1,2,5,10,15,20,30],\"max_interval\":1800000.0,\"min_interval\":1000.0,\"num_minor_ticks\":0},\"id\":\"3116\",\"type\":\"AdaptiveTicker\"},{\"attributes\":{\"below\":[{\"id\":\"3076\"}],\"center\":[{\"id\":\"3079\"},{\"id\":\"3083\"},{\"id\":\"3130\"}],\"left\":[{\"id\":\"3080\"}],\"margin\":[5,5,5,5],\"min_border_bottom\":10,\"min_border_left\":10,\"min_border_right\":10,\"min_border_top\":10,\"plot_height\":300,\"plot_width\":700,\"renderers\":[{\"id\":\"3108\"},{\"id\":\"3138\"}],\"sizing_mode\":\"fixed\",\"title\":{\"id\":\"3068\"},\"toolbar\":{\"id\":\"3090\"},\"x_range\":{\"id\":\"3063\"},\"x_scale\":{\"id\":\"3072\"},\"y_range\":{\"id\":\"3064\"},\"y_scale\":{\"id\":\"3074\"}},\"id\":\"3067\",\"subtype\":\"Figure\",\"type\":\"Plot\"},{\"attributes\":{\"axis\":{\"id\":\"3076\"},\"grid_line_color\":null,\"ticker\":null},\"id\":\"3079\",\"type\":\"Grid\"},{\"attributes\":{\"days\":[1,2,3,4,5,6,7,8,9,10,11,12,13,14,15,16,17,18,19,20,21,22,23,24,25,26,27,28,29,30,31]},\"id\":\"3118\",\"type\":\"DaysTicker\"},{\"attributes\":{},\"id\":\"3126\",\"type\":\"YearsTicker\"},{\"attributes\":{\"line_alpha\":0.1,\"line_color\":\"#ff7e0e\",\"line_width\":2,\"x\":{\"field\":\"Date\"},\"y\":{\"field\":\"close\"}},\"id\":\"3136\",\"type\":\"Line\"},{\"attributes\":{\"axis_label\":\"\",\"bounds\":\"auto\",\"formatter\":{\"id\":\"3100\"},\"major_label_orientation\":\"horizontal\",\"ticker\":{\"id\":\"3081\"}},\"id\":\"3080\",\"type\":\"LinearAxis\"}],\"root_ids\":[\"3061\"]},\"title\":\"Bokeh Application\",\"version\":\"2.2.3\"}};\n    var render_items = [{\"docid\":\"24666e45-5e69-49f4-ad05-0dc6cd3e159d\",\"root_ids\":[\"3061\"],\"roots\":{\"3061\":\"ee1fdda7-90b1-4d15-90ff-d13d287aec18\"}}];\n    root.Bokeh.embed.embed_items_notebook(docs_json, render_items);\n  }\n  if (root.Bokeh !== undefined && root.Bokeh.Panel !== undefined) {\n    embed_document(root);\n  } else {\n    var attempts = 0;\n    var timer = setInterval(function(root) {\n      if (root.Bokeh !== undefined && root.Bokeh.Panel !== undefined) {\n        clearInterval(timer);\n        embed_document(root);\n      } else if (document.readyState == \"complete\") {\n        attempts++;\n        if (attempts > 100) {\n          clearInterval(timer);\n          console.log(\"Bokeh: ERROR: Unable to run BokehJS code because BokehJS library is missing\");\n        }\n      }\n    }, 10, root)\n  }\n})(window);</script>",
      "application/vnd.holoviews_exec.v0+json": "",
      "text/plain": [
       ":Overlay\n",
       "   .Curve.A_0   :Curve   [Date]   (0)\n",
       "   .Curve.Close :Curve   [Date]   (close)"
      ]
     },
     "metadata": {
      "application/vnd.holoviews_exec.v0+json": {
       "id": "3061"
      }
     },
     "execution_count": 23
    }
   ],
   "source": [
    "capital = shifted_df.close[0]\n",
    "\n",
    "cum_return = capital * (1 + (results.returns * results.predict)).cumprod()\n",
    "print(f'Starting Capital = ${capital}')\n",
    "print(f'Cumulative Portfolio = ${format(float(cum_return[-1]), \"0.4f\")}')\n",
    "(cum_return.hvplot() * shifted_df.close.hvplot()).opts(show_legend=False)\n",
    "\n"
   ]
  },
  {
   "cell_type": "code",
   "execution_count": null,
   "metadata": {},
   "outputs": [],
   "source": []
  }
 ]
}