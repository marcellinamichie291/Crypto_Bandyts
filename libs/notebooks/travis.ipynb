{
 "metadata": {
  "language_info": {
   "codemirror_mode": {
    "name": "ipython",
    "version": 3
   },
   "file_extension": ".py",
   "mimetype": "text/x-python",
   "name": "python",
   "nbconvert_exporter": "python",
   "pygments_lexer": "ipython3",
   "version": "3.7.9-final"
  },
  "orig_nbformat": 2,
  "kernelspec": {
   "name": "python3",
   "display_name": "Python 3.7.9 64-bit ('dev': conda)",
   "metadata": {
    "interpreter": {
     "hash": "6c00ebd56bb94a4825b6affc4f76b26e4cde01d38b3661a4625dd3c53810e029"
    }
   }
  }
 },
 "nbformat": 4,
 "nbformat_minor": 2,
 "cells": [
  {
   "cell_type": "code",
   "execution_count": 23,
   "metadata": {},
   "outputs": [
    {
     "output_type": "execute_result",
     "data": {
      "text/plain": [
       "                      close  ewma_x  macd  bollinger  rsi  psar  vwap  signal\n",
       "Date                                                                         \n",
       "2019-01-18 18:00:00  3683.0      -1  -1.0         -1  NaN    -1     1    -3.0\n",
       "2019-01-19 18:00:00  3530.0      -1  -1.0         -1  1.0    -1     1    -2.0\n",
       "2019-01-20 18:00:00  3533.4      -1  -1.0         -1  1.0    -1     0    -3.0\n",
       "2019-01-21 18:00:00  3575.8      -1  -1.0         -1  1.0    -1     0    -3.0\n",
       "2019-01-22 18:00:00  3556.1      -1  -1.0         -1  1.0    -1     1    -2.0"
      ],
      "text/html": "<div>\n<style scoped>\n    .dataframe tbody tr th:only-of-type {\n        vertical-align: middle;\n    }\n\n    .dataframe tbody tr th {\n        vertical-align: top;\n    }\n\n    .dataframe thead th {\n        text-align: right;\n    }\n</style>\n<table border=\"1\" class=\"dataframe\">\n  <thead>\n    <tr style=\"text-align: right;\">\n      <th></th>\n      <th>close</th>\n      <th>ewma_x</th>\n      <th>macd</th>\n      <th>bollinger</th>\n      <th>rsi</th>\n      <th>psar</th>\n      <th>vwap</th>\n      <th>signal</th>\n    </tr>\n    <tr>\n      <th>Date</th>\n      <th></th>\n      <th></th>\n      <th></th>\n      <th></th>\n      <th></th>\n      <th></th>\n      <th></th>\n      <th></th>\n    </tr>\n  </thead>\n  <tbody>\n    <tr>\n      <th>2019-01-18 18:00:00</th>\n      <td>3683.0</td>\n      <td>-1</td>\n      <td>-1.0</td>\n      <td>-1</td>\n      <td>NaN</td>\n      <td>-1</td>\n      <td>1</td>\n      <td>-3.0</td>\n    </tr>\n    <tr>\n      <th>2019-01-19 18:00:00</th>\n      <td>3530.0</td>\n      <td>-1</td>\n      <td>-1.0</td>\n      <td>-1</td>\n      <td>1.0</td>\n      <td>-1</td>\n      <td>1</td>\n      <td>-2.0</td>\n    </tr>\n    <tr>\n      <th>2019-01-20 18:00:00</th>\n      <td>3533.4</td>\n      <td>-1</td>\n      <td>-1.0</td>\n      <td>-1</td>\n      <td>1.0</td>\n      <td>-1</td>\n      <td>0</td>\n      <td>-3.0</td>\n    </tr>\n    <tr>\n      <th>2019-01-21 18:00:00</th>\n      <td>3575.8</td>\n      <td>-1</td>\n      <td>-1.0</td>\n      <td>-1</td>\n      <td>1.0</td>\n      <td>-1</td>\n      <td>0</td>\n      <td>-3.0</td>\n    </tr>\n    <tr>\n      <th>2019-01-22 18:00:00</th>\n      <td>3556.1</td>\n      <td>-1</td>\n      <td>-1.0</td>\n      <td>-1</td>\n      <td>1.0</td>\n      <td>-1</td>\n      <td>1</td>\n      <td>-2.0</td>\n    </tr>\n  </tbody>\n</table>\n</div>"
     },
     "metadata": {},
     "execution_count": 23
    }
   ],
   "source": [
    "import sys\n",
    "import os\n",
    "module_path = os.path.abspath(os.path.join('../..'))\n",
    "if module_path not in sys.path:\n",
    "    sys.path.append(module_path)\n",
    "    \n",
    "from libs.signals import signals\n",
    "\n",
    "btc_df = signals.technical_indicator_signal('btc')\n",
    "btc_df.head()"
   ]
  },
  {
   "cell_type": "code",
   "execution_count": 2,
   "metadata": {},
   "outputs": [
    {
     "output_type": "execute_result",
     "data": {
      "text/plain": [
       "                       close  ewma_x  macd  bollinger  rsi  psar  vwap  signal\n",
       "Date                                                                          \n",
       "2021-01-02 18:00:00   979.86       1   1.0         -1 -1.0     1     0     1.0\n",
       "2021-01-03 18:00:00  1042.52       1   1.0         -1 -1.0     1     0     1.0\n",
       "2021-01-04 18:00:00  1103.41       1   1.0         -1 -1.0     1     0     1.0\n",
       "2021-01-05 18:00:00  1211.85       1   1.0         -1 -1.0     1     0     1.0\n",
       "2021-01-06 18:00:00  1246.93       1   1.0         -1 -1.0     1     0     1.0"
      ],
      "text/html": "<div>\n<style scoped>\n    .dataframe tbody tr th:only-of-type {\n        vertical-align: middle;\n    }\n\n    .dataframe tbody tr th {\n        vertical-align: top;\n    }\n\n    .dataframe thead th {\n        text-align: right;\n    }\n</style>\n<table border=\"1\" class=\"dataframe\">\n  <thead>\n    <tr style=\"text-align: right;\">\n      <th></th>\n      <th>close</th>\n      <th>ewma_x</th>\n      <th>macd</th>\n      <th>bollinger</th>\n      <th>rsi</th>\n      <th>psar</th>\n      <th>vwap</th>\n      <th>signal</th>\n    </tr>\n    <tr>\n      <th>Date</th>\n      <th></th>\n      <th></th>\n      <th></th>\n      <th></th>\n      <th></th>\n      <th></th>\n      <th></th>\n      <th></th>\n    </tr>\n  </thead>\n  <tbody>\n    <tr>\n      <th>2021-01-02 18:00:00</th>\n      <td>979.86</td>\n      <td>1</td>\n      <td>1.0</td>\n      <td>-1</td>\n      <td>-1.0</td>\n      <td>1</td>\n      <td>0</td>\n      <td>1.0</td>\n    </tr>\n    <tr>\n      <th>2021-01-03 18:00:00</th>\n      <td>1042.52</td>\n      <td>1</td>\n      <td>1.0</td>\n      <td>-1</td>\n      <td>-1.0</td>\n      <td>1</td>\n      <td>0</td>\n      <td>1.0</td>\n    </tr>\n    <tr>\n      <th>2021-01-04 18:00:00</th>\n      <td>1103.41</td>\n      <td>1</td>\n      <td>1.0</td>\n      <td>-1</td>\n      <td>-1.0</td>\n      <td>1</td>\n      <td>0</td>\n      <td>1.0</td>\n    </tr>\n    <tr>\n      <th>2021-01-05 18:00:00</th>\n      <td>1211.85</td>\n      <td>1</td>\n      <td>1.0</td>\n      <td>-1</td>\n      <td>-1.0</td>\n      <td>1</td>\n      <td>0</td>\n      <td>1.0</td>\n    </tr>\n    <tr>\n      <th>2021-01-06 18:00:00</th>\n      <td>1246.93</td>\n      <td>1</td>\n      <td>1.0</td>\n      <td>-1</td>\n      <td>-1.0</td>\n      <td>1</td>\n      <td>0</td>\n      <td>1.0</td>\n    </tr>\n  </tbody>\n</table>\n</div>"
     },
     "metadata": {},
     "execution_count": 2
    }
   ],
   "source": [
    "signals.technical_indicator_signal('eth').tail()"
   ]
  },
  {
   "cell_type": "code",
   "execution_count": 27,
   "metadata": {},
   "outputs": [],
   "source": [
    "from datetime import timedelta"
   ]
  },
  {
   "cell_type": "code",
   "execution_count": 32,
   "metadata": {},
   "outputs": [
    {
     "output_type": "execute_result",
     "data": {
      "text/plain": [
       "                       close  ewma_x  macd  bollinger  rsi  psar  signal\n",
       "Date                                                                    \n",
       "2021-01-02 18:00:00  33082.7       1   1.0         -1 -1.0     1     1.0\n",
       "2021-01-03 18:00:00  32048.0       1   1.0         -1 -1.0    -1    -1.0\n",
       "2021-01-04 18:00:00  34050.0       1   1.0         -1 -1.0    -1    -1.0\n",
       "2021-01-05 18:00:00  36876.7       1   1.0         -1 -1.0     1     1.0\n",
       "2021-01-06 18:00:00  39308.8       1   1.0         -1 -1.0     1     1.0"
      ],
      "text/html": "<div>\n<style scoped>\n    .dataframe tbody tr th:only-of-type {\n        vertical-align: middle;\n    }\n\n    .dataframe tbody tr th {\n        vertical-align: top;\n    }\n\n    .dataframe thead th {\n        text-align: right;\n    }\n</style>\n<table border=\"1\" class=\"dataframe\">\n  <thead>\n    <tr style=\"text-align: right;\">\n      <th></th>\n      <th>close</th>\n      <th>ewma_x</th>\n      <th>macd</th>\n      <th>bollinger</th>\n      <th>rsi</th>\n      <th>psar</th>\n      <th>signal</th>\n    </tr>\n    <tr>\n      <th>Date</th>\n      <th></th>\n      <th></th>\n      <th></th>\n      <th></th>\n      <th></th>\n      <th></th>\n      <th></th>\n    </tr>\n  </thead>\n  <tbody>\n    <tr>\n      <th>2021-01-02 18:00:00</th>\n      <td>33082.7</td>\n      <td>1</td>\n      <td>1.0</td>\n      <td>-1</td>\n      <td>-1.0</td>\n      <td>1</td>\n      <td>1.0</td>\n    </tr>\n    <tr>\n      <th>2021-01-03 18:00:00</th>\n      <td>32048.0</td>\n      <td>1</td>\n      <td>1.0</td>\n      <td>-1</td>\n      <td>-1.0</td>\n      <td>-1</td>\n      <td>-1.0</td>\n    </tr>\n    <tr>\n      <th>2021-01-04 18:00:00</th>\n      <td>34050.0</td>\n      <td>1</td>\n      <td>1.0</td>\n      <td>-1</td>\n      <td>-1.0</td>\n      <td>-1</td>\n      <td>-1.0</td>\n    </tr>\n    <tr>\n      <th>2021-01-05 18:00:00</th>\n      <td>36876.7</td>\n      <td>1</td>\n      <td>1.0</td>\n      <td>-1</td>\n      <td>-1.0</td>\n      <td>1</td>\n      <td>1.0</td>\n    </tr>\n    <tr>\n      <th>2021-01-06 18:00:00</th>\n      <td>39308.8</td>\n      <td>1</td>\n      <td>1.0</td>\n      <td>-1</td>\n      <td>-1.0</td>\n      <td>1</td>\n      <td>1.0</td>\n    </tr>\n  </tbody>\n</table>\n</div>"
     },
     "metadata": {},
     "execution_count": 32
    }
   ],
   "source": [
    "# technical_indicator_signal(asset):\n",
    "\n",
    "'''\n",
    "Input: Asset symbol - 'btc', 'eth', 'ltc', 'dot', 'xmr', 'xdg', 'xlm', 'xrp', 'zec', 'nano', 'trx', 'bch', 'xtz', 'ada','oxt'\n",
    "Returns:  Dataframe of technial indicator signals\n",
    "\n",
    "NOTICE: When analyzing on the daily timeframe or greater, VWAP will not apply as it is ONLY an intraday indicator.\n",
    "'''\n",
    "asset = 'btc'\n",
    "\n",
    "# create a dataframe to house the technical trading signals in\n",
    "asset_df = kraken_data(asset)\n",
    "technical_signals = pd.DataFrame({\n",
    "    'close': asset_df.Close,\n",
    "    'ewma_x': signals.ewma_crossover(asset_df).signal,\n",
    "    'macd': signals.macd(asset_df).signal,\n",
    "    'bollinger': signals.b_band(asset_df).signal,\n",
    "    'rsi': signals.rsi(asset_df).signal,\n",
    "    'psar': signals.psar(asset_df).signal,\n",
    "    'vwap': signals.vwap(asset_df).signal \n",
    "})\n",
    "\n",
    "# since VWAP won't work on daily time intervals and greater, we need to check the interval to see if we should include vwap as a column or not\n",
    "\n",
    "daily_seconds = 86400\n",
    "delta_seconds = timedelta.total_seconds(technical_signals.index[1] - technical_signals.index[0])\n",
    "interval = delta_seconds / daily_seconds\n",
    "\n",
    "if interval >= 1:\n",
    "    # if the interval is greater than or equal to 1, then do not include VWAP\n",
    "    technical_signals = technical_signals.drop(columns='vwap')\n",
    "\n",
    "# sum the various technical signals together to return a trade 'grade' or signal\n",
    "technical_signals['signal'] = technical_signals.drop(columns=['close']).sum(axis='columns')\n",
    "\n",
    "\n",
    "technical_signals.tail()"
   ]
  },
  {
   "cell_type": "code",
   "execution_count": null,
   "metadata": {},
   "outputs": [],
   "source": []
  }
 ]
}