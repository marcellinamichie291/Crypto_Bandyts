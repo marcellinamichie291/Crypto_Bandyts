{
 "metadata": {
  "language_info": {
   "codemirror_mode": {
    "name": "ipython",
    "version": 3
   },
   "file_extension": ".py",
   "mimetype": "text/x-python",
   "name": "python",
   "nbconvert_exporter": "python",
   "pygments_lexer": "ipython3",
   "version": "3.7.9-final"
  },
  "orig_nbformat": 2,
  "kernelspec": {
   "name": "python3",
   "display_name": "Python 3.7.9 64-bit ('dev': conda)",
   "metadata": {
    "interpreter": {
     "hash": "6c00ebd56bb94a4825b6affc4f76b26e4cde01d38b3661a4625dd3c53810e029"
    }
   }
  }
 },
 "nbformat": 4,
 "nbformat_minor": 2,
 "cells": [
  {
   "cell_type": "code",
   "execution_count": 9,
   "metadata": {},
   "outputs": [],
   "source": [
    "import sys\n",
    "import os\n",
    "module_path = os.path.abspath(os.path.join('../..'))\n",
    "if module_path not in sys.path:\n",
    "    sys.path.append(module_path)\n",
    "\n",
    "from libs.signals import signals"
   ]
  },
  {
   "cell_type": "code",
   "execution_count": 11,
   "metadata": {},
   "outputs": [
    {
     "output_type": "execute_result",
     "data": {
      "text/plain": [
       "['c:\\\\Users\\\\stew1\\\\Documents\\\\GitHub_Repos\\\\FinTech_Projects\\\\Crypto_Bandyts\\\\libs\\\\notebooks',\n",
       " 'c:\\\\Users\\\\stew1\\\\.vscode\\\\extensions\\\\ms-toolsai.jupyter-2020.12.414227025\\\\pythonFiles\\\\vscode_datascience_helpers\\\\..\\\\.does-not-exist',\n",
       " 'c:\\\\Users\\\\stew1\\\\.vscode\\\\extensions\\\\ms-toolsai.jupyter-2020.12.414227025\\\\pythonFiles',\n",
       " 'c:\\\\Users\\\\stew1\\\\.vscode\\\\extensions\\\\ms-toolsai.jupyter-2020.12.414227025\\\\pythonFiles\\\\lib\\\\python',\n",
       " 'C:\\\\Users\\\\stew1\\\\Anaconda3\\\\envs\\\\dev\\\\python37.zip',\n",
       " 'C:\\\\Users\\\\stew1\\\\Anaconda3\\\\envs\\\\dev\\\\DLLs',\n",
       " 'C:\\\\Users\\\\stew1\\\\Anaconda3\\\\envs\\\\dev\\\\lib',\n",
       " 'C:\\\\Users\\\\stew1\\\\Anaconda3\\\\envs\\\\dev',\n",
       " '',\n",
       " 'C:\\\\Users\\\\stew1\\\\AppData\\\\Roaming\\\\Python\\\\Python37\\\\site-packages',\n",
       " 'C:\\\\Users\\\\stew1\\\\Anaconda3\\\\envs\\\\dev\\\\lib\\\\site-packages',\n",
       " 'C:\\\\Users\\\\stew1\\\\Anaconda3\\\\envs\\\\dev\\\\lib\\\\site-packages\\\\win32',\n",
       " 'C:\\\\Users\\\\stew1\\\\Anaconda3\\\\envs\\\\dev\\\\lib\\\\site-packages\\\\win32\\\\lib',\n",
       " 'C:\\\\Users\\\\stew1\\\\Anaconda3\\\\envs\\\\dev\\\\lib\\\\site-packages\\\\Pythonwin',\n",
       " 'C:\\\\Users\\\\stew1\\\\Anaconda3\\\\envs\\\\dev\\\\lib\\\\site-packages\\\\IPython\\\\extensions',\n",
       " 'C:\\\\Users\\\\stew1\\\\.ipython',\n",
       " 'c:\\\\Users\\\\stew1\\\\Documents\\\\GitHub_Repos\\\\FinTech_Projects\\\\Crypto_Bandyts']"
      ]
     },
     "metadata": {},
     "execution_count": 11
    }
   ],
   "source": [
    "sys.path"
   ]
  },
  {
   "cell_type": "code",
   "execution_count": null,
   "metadata": {},
   "outputs": [],
   "source": []
  }
 ]
}