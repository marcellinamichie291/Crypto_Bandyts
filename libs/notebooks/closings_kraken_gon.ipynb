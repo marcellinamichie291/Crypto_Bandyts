{
 "metadata": {
  "language_info": {
   "codemirror_mode": {
    "name": "ipython",
    "version": 3
   },
   "file_extension": ".py",
   "mimetype": "text/x-python",
   "name": "python",
   "nbconvert_exporter": "python",
   "pygments_lexer": "ipython3",
   "version": "3.7.4-final"
  },
  "orig_nbformat": 2,
  "kernelspec": {
   "name": "python3",
   "display_name": "Python 3",
   "language": "python"
  }
 },
 "nbformat": 4,
 "nbformat_minor": 2,
 "cells": [
  {
   "cell_type": "code",
   "execution_count": null,
   "metadata": {},
   "outputs": [],
   "source": [
    "\"\"\"\n",
    "#------------ Get OHLC top 15 cryto - exchange Kraken \n",
    "Cryto\n",
    "bitcoin (btc), ethereum (eth), litecoin (ltc), polkadot (dot), monero (xmr), dogecoin (xdg), stellar lumens (xlm),\n",
    "ripple (xrp), zcash (zec), nano (nano), tron (trx), bitcoin cash (bch), tezos (xtz), cardano (ada), orchid (oxt)\n",
    "\n",
    "  \n",
    "#-------------------------------- Kraken API \n",
    "Get recent trades\n",
    "URL: https://api.kraken.com/0/public/Trades\n",
    "\n",
    "Input:\n",
    "    pair = asset pair to get trade data for\n",
    "    since = return trade data since given id (optional.  exclusive)\n",
    "    Result: array of pair name and recent trade data\n",
    "\n",
    "<pair_name> = pair name\n",
    "    array of array entries(<price>, <volume>, <time>, <buy/sell>, <market/limit>, <miscellaneous>)\n",
    "last = id to be used as since when polling for new trade data\n",
    "\n",
    "The Trades endpoint takes an optional parameter named since, which specifies the starting date/time of the data. \n",
    "The since value is a UNIX timestamp at nanosecond resolution (a standard UNIX timestamp in seconds with \n",
    "9 additional digits).\n",
    "\n",
    "e.g., a call to the Trades endpoint such as \n",
    "https://api.kraken.com/0/public/Trades?pair=xbtusd&since=1559347200000000000 \n",
    "would return the historical time and sales for XBT/USD from the 1st of June 2019 at 00:00:00 UTC:\n",
    "#------------------------------------------------------------------------\n",
    "\n",
    "#---------------- Execution \n",
    "1 month 950k ticks = 30min    ---  2019 jan-dec = len (l) -> 6.4M records ~10 to 12h\n",
    "\"\"\""
   ]
  },
  {
   "cell_type": "code",
   "execution_count": 94,
   "metadata": {},
   "outputs": [],
   "source": [
    "# imports \n",
    "import pandas as pd \n",
    "import numpy as np\n",
    "import datetime\n",
    "import matplotlib.pyplot as plt\n",
    "import time, json, requests, sys\n",
    "from time import time, ctime\n",
    "import time\n",
    "from datetime import datetime\n",
    "from requests.exceptions import HTTPError"
   ]
  },
  {
   "cell_type": "code",
   "execution_count": 99,
   "metadata": {},
   "outputs": [],
   "source": [
    "def Get_OHLC_Kraken(pair, interval='1440', since=''):\n",
    "    response_json = {}\n",
    "    url = 'https://api.kraken.com/0/public/OHLC'  #only last 720 datapoints \n",
    "    #pair = cryto\n",
    "    #interval = '1440'                           # 1440 = 1 day \n",
    "    #since = ''                                  # return las 720 datapoints\n",
    "           \n",
    "    for i in range(3):\n",
    "        try:\n",
    "            response_kraken = requests.post(url, \n",
    "            params=\n",
    "                    {'pair':pair,\n",
    "                    'interval':interval,     \n",
    "                    'since':since}, \n",
    "                    headers={\"content-type\":\"application/json\"})\n",
    "                \n",
    "            # If the response was successful, no Exception will be raised\n",
    "            response_kraken.raise_for_status()\n",
    "        except HTTPError as http_err:\n",
    "            print(f'HTTP error occurred: {http_err}')  \n",
    "        except Exception as err:\n",
    "            print(f'Other error occurred: {err}')  \n",
    "        else:\n",
    "             print('Success, URL found!')\n",
    "        break\n",
    "        print('--------------------  try #');print(i)\n",
    "        time.sleep(5)\n",
    "\n",
    "    if i == 2: sys.exit('URL error GGC')     \n",
    "\n",
    "    #print(response_kraken.json())\n",
    "    #g = input(\"control 2 : \"); print (g)\n",
    "    return response_kraken.json()\n"
   ]
  },
  {
   "cell_type": "code",
   "execution_count": 109,
   "metadata": {},
   "outputs": [],
   "source": [
    "def Process_Kraken_Jason(kraken_json, pair):\n",
    "    i = 0\n",
    "    l_price = []\n",
    "    #pair = 'XXBTZUSD'\n",
    "    \n",
    "    while True:\n",
    "        try:\n",
    "            new_row = [ctime(kraken_json['result'][pair][i][0]),    # Date \n",
    "                       kraken_json['result'][pair][i][4],           # Close\n",
    "                       kraken_json['result'][pair][i][6]            # Volume \n",
    "                       ] \n",
    "            #print (new_row)\n",
    "            l_price += [new_row]\n",
    "            i += 1           \n",
    "\n",
    "        except Exception as err:\n",
    "            print(f'error Process_Kraken_Jason: {err}')  \n",
    "            break \n",
    "        \n",
    "    return l_price\n",
    "\n"
   ]
  },
  {
   "cell_type": "code",
   "execution_count": 120,
   "metadata": {},
   "outputs": [],
   "source": [
    "# ' tranform prices list into a DataFrame '\n",
    "def l_price_into_df_price(l_price, pair):\n",
    "    l_labels = ['Date', 'Price_'+pair,'Vol_'+pair]\n",
    "    df_price = pd.DataFrame.from_records(l_price, columns=l_labels)   # l --> list, l_labels --> column names \n",
    "    df_price['Date'] = pd.to_datetime(df_price['Date'])\n",
    "    df_price.set_index('Date', inplace=True) \n",
    "\n",
    "    return(df_price)"
   ]
  },
  {
   "cell_type": "code",
   "execution_count": 161,
   "metadata": {},
   "outputs": [],
   "source": [
    "    # concatenate dataframe with the global dataframe \n",
    "    def Concact_Prices(df_price, ft, df_all_prices):\n",
    "        if ft == True:\n",
    "          df_all_prices = pd.concat([df_price], axis=\"columns\", join=\"outer\")\n",
    "          ft = False\n",
    "        else:\n",
    "         df_all_prices = pd.concat([df_all_prices, df_price], axis=\"columns\", join=\"outer\")\n",
    "\n",
    "        return df_all_prices, ft"
   ]
  },
  {
   "cell_type": "code",
   "execution_count": null,
   "metadata": {},
   "outputs": [],
   "source": []
  },
  {
   "cell_type": "code",
   "execution_count": null,
   "metadata": {},
   "outputs": [],
   "source": []
  },
  {
   "cell_type": "code",
   "execution_count": 67,
   "metadata": {},
   "outputs": [
    {
     "output_type": "stream",
     "name": "stdout",
     "text": [
      "Success, URL found!\n"
     ]
    }
   ],
   "source": [
    "kraken_json = Get_OHLC_Kraken()\n",
    "#kraken_json"
   ]
  },
  {
   "cell_type": "code",
   "execution_count": 77,
   "metadata": {},
   "outputs": [
    {
     "output_type": "stream",
     "name": "stdout",
     "text": [
      "error Process_Kraken_Jason: list index out of range\n"
     ]
    }
   ],
   "source": [
    "l_price = Process_Kraken_Jason(kraken_json)\n",
    "#l_price"
   ]
  },
  {
   "cell_type": "code",
   "execution_count": 90,
   "metadata": {},
   "outputs": [
    {
     "output_type": "execute_result",
     "data": {
      "text/plain": [
       "                      Price         Volume\n",
       "Date                                      \n",
       "2019-01-17 18:00:00  3612.2  1473.06898369\n",
       "2019-01-18 18:00:00  3683.0  1871.37313760\n",
       "2019-01-19 18:00:00  3530.0  2048.98164693\n",
       "2019-01-20 18:00:00  3533.4  1547.13618753\n",
       "2019-01-21 18:00:00  3575.8  1985.34497321"
      ],
      "text/html": "<div>\n<style scoped>\n    .dataframe tbody tr th:only-of-type {\n        vertical-align: middle;\n    }\n\n    .dataframe tbody tr th {\n        vertical-align: top;\n    }\n\n    .dataframe thead th {\n        text-align: right;\n    }\n</style>\n<table border=\"1\" class=\"dataframe\">\n  <thead>\n    <tr style=\"text-align: right;\">\n      <th></th>\n      <th>Price</th>\n      <th>Volume</th>\n    </tr>\n    <tr>\n      <th>Date</th>\n      <th></th>\n      <th></th>\n    </tr>\n  </thead>\n  <tbody>\n    <tr>\n      <td>2019-01-17 18:00:00</td>\n      <td>3612.2</td>\n      <td>1473.06898369</td>\n    </tr>\n    <tr>\n      <td>2019-01-18 18:00:00</td>\n      <td>3683.0</td>\n      <td>1871.37313760</td>\n    </tr>\n    <tr>\n      <td>2019-01-19 18:00:00</td>\n      <td>3530.0</td>\n      <td>2048.98164693</td>\n    </tr>\n    <tr>\n      <td>2019-01-20 18:00:00</td>\n      <td>3533.4</td>\n      <td>1547.13618753</td>\n    </tr>\n    <tr>\n      <td>2019-01-21 18:00:00</td>\n      <td>3575.8</td>\n      <td>1985.34497321</td>\n    </tr>\n  </tbody>\n</table>\n</div>"
     },
     "metadata": {},
     "execution_count": 90
    }
   ],
   "source": [
    "df_price = l_price_into_df_price(l_price)\n",
    "df_price.head()"
   ]
  },
  {
   "cell_type": "code",
   "execution_count": null,
   "metadata": {},
   "outputs": [],
   "source": []
  },
  {
   "cell_type": "code",
   "execution_count": null,
   "metadata": {},
   "outputs": [],
   "source": []
  },
  {
   "cell_type": "code",
   "execution_count": 163,
   "metadata": {},
   "outputs": [
    {
     "output_type": "stream",
     "name": "stdout",
     "text": [
      "Success, URL found!\n",
      "error Process_Kraken_Jason: list index out of range\n",
      "                    Price_XXBTZUSD   Vol_XXBTZUSD\n",
      "Date                                             \n",
      "2019-01-17 18:00:00         3612.2  1473.06898369\n",
      "2019-01-18 18:00:00         3683.0  1871.37313760\n",
      "2019-01-19 18:00:00         3530.0  2048.98164693\n",
      "2019-01-20 18:00:00         3533.4  1547.13618753\n",
      "2019-01-21 18:00:00         3575.8  1985.34497321\n",
      "Success, URL found!\n",
      "error Process_Kraken_Jason: list index out of range\n",
      "                    Price_XXBTZUSD   Vol_XXBTZUSD Price_XETHZUSD  \\\n",
      "Date                                                               \n",
      "2019-01-17 18:00:00         3612.2  1473.06898369         119.78   \n",
      "2019-01-18 18:00:00         3683.0  1871.37313760         123.30   \n",
      "2019-01-19 18:00:00         3530.0  2048.98164693         117.21   \n",
      "2019-01-20 18:00:00         3533.4  1547.13618753         115.68   \n",
      "2019-01-21 18:00:00         3575.8  1985.34497321         117.88   \n",
      "\n",
      "                       Vol_XETHZUSD  \n",
      "Date                                 \n",
      "2019-01-17 18:00:00  32171.65643950  \n",
      "2019-01-18 18:00:00  40364.40808390  \n",
      "2019-01-19 18:00:00  46466.49675135  \n",
      "2019-01-20 18:00:00  37208.70357075  \n",
      "2019-01-21 18:00:00  49974.21796577  \n"
     ]
    }
   ],
   "source": [
    "#Top Cryto\n",
    "#bitcoin (btc), ethereum (eth), litecoin (ltc), polkadot (dot), monero (xmr), dogecoin (xdg), stellar lumens (xlm),\n",
    "#ripple (xrp), zcash (zec), nano (nano), tron (trx), bitcoin cash (bch), tezos (xtz), cardano (ada), orchid (oxt)\n",
    "cryto_list = ['XXBTZUSD', 'XETHZUSD']\n",
    "interval = '1440'\n",
    "since = ''\n",
    "ft = True \n",
    "\n",
    "#crypto_list = ['XXBTZUSD', 'eth', 'ltc', 'dot', 'xmr', 'xdg', 'xlm', 'xrp', 'zec', 'nano', 'trx', 'bch', 'xtz', 'ada', 'oxt']\n",
    "#crypto_list\n",
    "\n",
    "for pair in (cryto_list):\n",
    "    kraken_json = Get_OHLC_Kraken(pair, interval, since)\n",
    "    #print('\\n\\n')\n",
    "    #print(kraken_json)\n",
    "\n",
    "    l_price = Process_Kraken_Jason(kraken_json, pair)\n",
    "    #print('\\n\\n')\n",
    "    #print(l_price)\n",
    "\n",
    "    df_price = l_price_into_df_price(l_price, pair)\n",
    "    #print(df_price.head())\n",
    "\n",
    "    df_all_prices, ft = Concact_Prices(df_price, ft, df_all_prices)\n",
    "    #print(df_all_prices.head())\n",
    "\n"
   ]
  },
  {
   "cell_type": "code",
   "execution_count": 164,
   "metadata": {},
   "outputs": [
    {
     "output_type": "execute_result",
     "data": {
      "text/plain": [
       "                    Price_XXBTZUSD   Vol_XXBTZUSD Price_XETHZUSD  \\\n",
       "Date                                                               \n",
       "2019-01-17 18:00:00         3612.2  1473.06898369         119.78   \n",
       "2019-01-18 18:00:00         3683.0  1871.37313760         123.30   \n",
       "2019-01-19 18:00:00         3530.0  2048.98164693         117.21   \n",
       "2019-01-20 18:00:00         3533.4  1547.13618753         115.68   \n",
       "2019-01-21 18:00:00         3575.8  1985.34497321         117.88   \n",
       "\n",
       "                       Vol_XETHZUSD  \n",
       "Date                                 \n",
       "2019-01-17 18:00:00  32171.65643950  \n",
       "2019-01-18 18:00:00  40364.40808390  \n",
       "2019-01-19 18:00:00  46466.49675135  \n",
       "2019-01-20 18:00:00  37208.70357075  \n",
       "2019-01-21 18:00:00  49974.21796577  "
      ],
      "text/html": "<div>\n<style scoped>\n    .dataframe tbody tr th:only-of-type {\n        vertical-align: middle;\n    }\n\n    .dataframe tbody tr th {\n        vertical-align: top;\n    }\n\n    .dataframe thead th {\n        text-align: right;\n    }\n</style>\n<table border=\"1\" class=\"dataframe\">\n  <thead>\n    <tr style=\"text-align: right;\">\n      <th></th>\n      <th>Price_XXBTZUSD</th>\n      <th>Vol_XXBTZUSD</th>\n      <th>Price_XETHZUSD</th>\n      <th>Vol_XETHZUSD</th>\n    </tr>\n    <tr>\n      <th>Date</th>\n      <th></th>\n      <th></th>\n      <th></th>\n      <th></th>\n    </tr>\n  </thead>\n  <tbody>\n    <tr>\n      <td>2019-01-17 18:00:00</td>\n      <td>3612.2</td>\n      <td>1473.06898369</td>\n      <td>119.78</td>\n      <td>32171.65643950</td>\n    </tr>\n    <tr>\n      <td>2019-01-18 18:00:00</td>\n      <td>3683.0</td>\n      <td>1871.37313760</td>\n      <td>123.30</td>\n      <td>40364.40808390</td>\n    </tr>\n    <tr>\n      <td>2019-01-19 18:00:00</td>\n      <td>3530.0</td>\n      <td>2048.98164693</td>\n      <td>117.21</td>\n      <td>46466.49675135</td>\n    </tr>\n    <tr>\n      <td>2019-01-20 18:00:00</td>\n      <td>3533.4</td>\n      <td>1547.13618753</td>\n      <td>115.68</td>\n      <td>37208.70357075</td>\n    </tr>\n    <tr>\n      <td>2019-01-21 18:00:00</td>\n      <td>3575.8</td>\n      <td>1985.34497321</td>\n      <td>117.88</td>\n      <td>49974.21796577</td>\n    </tr>\n  </tbody>\n</table>\n</div>"
     },
     "metadata": {},
     "execution_count": 164
    }
   ],
   "source": [
    "df_all_prices.head()"
   ]
  },
  {
   "cell_type": "code",
   "execution_count": null,
   "metadata": {},
   "outputs": [],
   "source": [
    "def Get_OHLC_Kraken():\n",
    "    response_json = {}\n",
    "    url = 'https://api.kraken.com/0/public/OHLC'  #only last 720 datapoints \n",
    "    pair = 'XXBTZUSD'\n",
    "    interval = '1440'                           # 1440 = 1 day \n",
    "    since = ''                                  # return las 720 datapoints\n",
    "           \n",
    "    for i in range(3):\n",
    "        try:\n",
    "            response_kraken = requests.post(url, \n",
    "            params=\n",
    "                    {'pair':pair,\n",
    "                    'interval':interval,     \n",
    "                    'since':since}, \n",
    "                    headers={\"content-type\":\"application/json\"})\n",
    "                \n",
    "            # If the response was successful, no Exception will be raised\n",
    "            response_kraken.raise_for_status()\n",
    "        except HTTPError as http_err:\n",
    "            print(f'HTTP error occurred: {http_err}')  \n",
    "        except Exception as err:\n",
    "            print(f'Other error occurred: {err}')  \n",
    "        else:\n",
    "             print('Success, URL found!')\n",
    "        break\n",
    "        print('--------------------  try #');print(i)\n",
    "        time.sleep(5)\n",
    "\n",
    "    if i == 2: sys.exit('URL error GGC')     \n",
    "\n",
    "    #print(response_kraken.json())\n",
    "    #g = input(\"control 2 : \"); print (g)\n",
    "    return response_kraken.json()\n"
   ]
  },
  {
   "cell_type": "code",
   "execution_count": 93,
   "metadata": {},
   "outputs": [],
   "source": [
    "\n"
   ]
  },
  {
   "cell_type": "code",
   "execution_count": 10,
   "metadata": {},
   "outputs": [
    {
     "output_type": "execute_result",
     "data": {
      "text/plain": [
       "'../Data/ticks.csv'"
      ]
     },
     "metadata": {},
     "execution_count": 10
    }
   ],
   "source": [
    "# Main Variables \n",
    "\n",
    "#url kraken \n",
    "url = 'https://api.kraken.com/0/public/Trades' \n",
    "\n",
    "# df to get OHLC\n",
    "df = pd.DataFrame(columns=['Date', 'Price','Volume', 'BS'])\n",
    "\n",
    "# list rolling ticks from kraken (much faster than a df)\n",
    "l = []\n",
    "l_labels = ['Date', 'Price','Volume', 'BS']\n",
    "\n",
    "# CSV with OHLC\n",
    "path_csv = '../Data/'\n",
    "name_csv = 'ohlc.csv'\n",
    "OHLC_csv = path_csv + name_csv\n",
    "\n",
    "# CSV with ticks\n",
    "t_path_csv = '../Data/'\n",
    "t_name_csv = 'ticks.csv'\n",
    "ticks_csv = t_path_csv + t_name_csv\n",
    "ticks_csv"
   ]
  },
  {
   "cell_type": "code",
   "execution_count": 12,
   "metadata": {},
   "outputs": [
    {
     "output_type": "stream",
     "name": "stdout",
     "text": [
      "timestamp = 1546322400.0\n1546322400000000000\n2019-01-01 00:00:00\n1546322400\n2019-12-30 23:30:00\n1577770200\nTue Jan  5 21:12:08 2021\nTue Jan  5 21:12:08 2021\n"
     ]
    }
   ],
   "source": [
    "# Define & Manage Dates \n",
    "\n",
    "## 1st since for kraken \n",
    "from datetime import datetime\n",
    "since = datetime(2019, 1, 1, 00, 00, 00000)  \n",
    "since = datetime.timestamp(since)\n",
    "print(\"timestamp =\", since)\n",
    "since = str(since)\n",
    "since = since[0:10] + '0'* 9\n",
    "print(since)\n",
    "\n",
    "# Dates while loop   \n",
    "now = datetime(2019, 1, 1, 00, 00, 00000)\n",
    "print(now)\n",
    "now = int(datetime.timestamp(now))\n",
    "print(now)\n",
    "\n",
    "end = datetime(2019, 12, 30, 23, 30, 00000)\n",
    "print(end)\n",
    "end = int(datetime.timestamp(end))\n",
    "print(end)\n",
    "#g = input(\"dates range : \") \n",
    "\n",
    "# time control scrip execution\n",
    "time_start = ctime(int(time.time()))\n",
    "time_end = ctime(int(time.time()))\n",
    "print(time_start)\n",
    "print(time_end)"
   ]
  },
  {
   "cell_type": "code",
   "execution_count": 19,
   "metadata": {},
   "outputs": [
    {
     "output_type": "stream",
     "name": "stdout",
     "text": [
      "dt_object = 2019-01-17 18:00:00\ntype(dt_object) = <class 'datetime.datetime'>\n"
     ]
    }
   ],
   "source": [
    "from datetime import datetime\n",
    "\n",
    "timestamp = 1547769600\n",
    "dt_object = datetime.fromtimestamp(timestamp)\n",
    "\n",
    "print(\"dt_object =\", dt_object)\n",
    "print(\"type(dt_object) =\", type(dt_object))\n"
   ]
  },
  {
   "cell_type": "code",
   "execution_count": null,
   "metadata": {},
   "outputs": [],
   "source": [
    "while now <= end:\n",
    "    \n",
    "    print('time --> {}    date --> {}'.format(now, ctime(now)))\n",
    "    \n",
    "    time.sleep(1.75)\n",
    "\n",
    "    for i in range(3):\n",
    "        try:\n",
    "            response_kraken = requests.post(url, \n",
    "                                            params=\n",
    "                                            {'pair':'XBTUSD',\n",
    "                                             'since':since},\n",
    "                                             headers={\"content-type\":\"application/json\"}\n",
    "                                             )\n",
    "            # If the response was successful, no Exception will be raised\n",
    "            response_kraken.raise_for_status()\n",
    "        except HTTPError as http_err:\n",
    "            print(f'HTTP error occurred: {http_err}')  # Python 3.6\n",
    "        except Exception as err:\n",
    "            print(f'Other error occurred: {err}')  # Python 3.6\n",
    "        else:\n",
    "            print('Success, URL found!')\n",
    "            break\n",
    "        print('--------------------  try #');print(i)\n",
    "        time.sleep(8)\n",
    "\n",
    "    if i == 2: sys.exit('URL error GGC')     \n",
    "\n",
    "    response_json = response_kraken.json()  \n",
    "    #print(response_json)                    \n",
    "\n",
    "    since = response_json['result']['last']\n",
    "\n",
    "    i = 0\n",
    "    while True:\n",
    "\n",
    "        try:\n",
    "            new_row = [ctime(response_json['result']['XXBTZUSD'][i][2]),\n",
    "                       response_json['result']['XXBTZUSD'][i][0],\n",
    "                       response_json['result']['XXBTZUSD'][i][1],\n",
    "                       response_json['result']['XXBTZUSD'][i][3]\n",
    "                       ] \n",
    "            print (new_row)\n",
    "            l += [new_row]\n",
    "            i += 1\n",
    "            now = int((response_json['result']['XXBTZUSD'][i][2]))\n",
    "            \n",
    "\n",
    "        except Exception as err:\n",
    "            print(f'end while: {err}')  # Python 3.6\n",
    "            break \n",
    "\n"
   ]
  },
  {
   "cell_type": "code",
   "execution_count": null,
   "metadata": {},
   "outputs": [],
   "source": [
    "# ' tranform list into a DataFrame df and work out  OHLC .... '\n",
    "print (' tranform list into a DataFrame df and work out  OHLC .... ')\n",
    "df = pd.DataFrame.from_records(l, columns=l_labels)   # l --> list, l_labels --> column names \n",
    "df['Date'] = pd.to_datetime(df['Date'])\n",
    "df.set_index('Date', inplace=True) \n",
    "\n",
    "data_OHLC = pd.to_numeric(df['Price']).resample('30Min').ohlc()\n",
    "\n"
   ]
  },
  {
   "cell_type": "code",
   "execution_count": null,
   "metadata": {},
   "outputs": [],
   "source": [
    "# export OHLC to csv\n",
    "data_OHLC.to_csv(OHLC_csv)\n",
    "\n",
    "# export all ticks to csv\n",
    "l[1:10]\n",
    "l[-10:-1]\n",
    "df.to_csv(ticks_csv)\n",
    "\n"
   ]
  },
  {
   "cell_type": "code",
   "execution_count": null,
   "metadata": {},
   "outputs": [],
   "source": [
    "# this whole script --> how long does it last?\n",
    "print(); print()\n",
    "print (' TimeStart --->  {}'.format(time_start))\n",
    "time_end = ctime(int(time.time()))\n",
    "print (' TimeEnd --->    {}'.format(time_end))\n",
    "print()\n",
    "print (' len l --->      {}'.format(len(l)))\n",
    "\n",
    "\n",
    "g = input(\"end of script : \") "
   ]
  }
 ]
}