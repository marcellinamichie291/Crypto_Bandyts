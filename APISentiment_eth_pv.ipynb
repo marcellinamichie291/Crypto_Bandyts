{
 "metadata": {
  "language_info": {
   "codemirror_mode": {
    "name": "ipython",
    "version": 3
   },
   "file_extension": ".py",
   "mimetype": "text/x-python",
   "name": "python",
   "nbconvert_exporter": "python",
   "pygments_lexer": "ipython3",
   "version": "3.8.5-final"
  },
  "orig_nbformat": 2,
  "kernelspec": {
   "name": "python3",
   "display_name": "Python 3.8.5 64-bit (conda)",
   "metadata": {
    "interpreter": {
     "hash": "285f5d63c2bd9722a47bdc85581aeb663a425cdea8d608b7dc3762d215dec504"
    }
   }
  }
 },
 "nbformat": 4,
 "nbformat_minor": 2,
 "cells": [
  {
   "cell_type": "code",
   "execution_count": 1,
   "metadata": {},
   "outputs": [],
   "source": [
    "import os\n",
    "import nltk\n",
    "import pandas as pd\n",
    "from dotenv import load_dotenv\n",
    "from nltk.sentiment.vader import SentimentIntensityAnalyzer\n",
    "analyzer = SentimentIntensityAnalyzer()\n",
    "load_dotenv()\n",
    "%matplotlib inline"
   ]
  },
  {
   "cell_type": "code",
   "execution_count": 2,
   "metadata": {},
   "outputs": [],
   "source": [
    "from newsapi import NewsApiClient\n",
    "import os"
   ]
  },
  {
   "cell_type": "code",
   "execution_count": 3,
   "metadata": {},
   "outputs": [
    {
     "output_type": "stream",
     "name": "stderr",
     "text": [
      "[nltk_data] Downloading package vader_lexicon to\n[nltk_data]     C:\\Users\\pvolc\\AppData\\Roaming\\nltk_data...\n[nltk_data]   Package vader_lexicon is already up-to-date!\n"
     ]
    },
    {
     "output_type": "execute_result",
     "data": {
      "text/plain": [
       "True"
      ]
     },
     "metadata": {},
     "execution_count": 3
    }
   ],
   "source": [
    "# Download/Update the VADER Lexicon\n",
    "nltk.download(\"vader_lexicon\")"
   ]
  },
  {
   "cell_type": "code",
   "execution_count": 4,
   "metadata": {},
   "outputs": [],
   "source": [
    "api_key = os.getenv(\"news_api\")"
   ]
  },
  {
   "cell_type": "code",
   "execution_count": 5,
   "metadata": {},
   "outputs": [],
   "source": [
    "newsapi = NewsApiClient(api_key)"
   ]
  },
  {
   "cell_type": "code",
   "execution_count": 6,
   "metadata": {},
   "outputs": [
    {
     "output_type": "execute_result",
     "data": {
      "text/plain": [
       "91422"
      ]
     },
     "metadata": {},
     "execution_count": 6
    }
   ],
   "source": [
    "eth_news = newsapi.get_everything(q=\"ethereum\")\n",
    "eth_news[\"totalResults\"]"
   ]
  },
  {
   "cell_type": "code",
   "execution_count": 21,
   "metadata": {},
   "outputs": [],
   "source": [
    "path = (\"http://newsapi.org/v2/everything?q=ethereum&from=2019-01-01&sortBy=publishedAt&apiKey=f3f86e451ab74a4ca09243cda975749c\")\n",
    "# Fetch all the news about Ethereum\n",
    "def get_all_eth_news_2yrs(path):\n",
    "    return newsapi.get_everything(\n",
    "        q=\"ethereum\",\n",
    "    from_param ='2019-01-01',\n",
    "    to ='2021-01-01',\n",
    "    page_size =100,\n",
    "    page = [page]\n",
    "    )\n"
   ]
  },
  {
   "cell_type": "code",
   "execution_count": 25,
   "metadata": {},
   "outputs": [
    {
     "output_type": "error",
     "ename": "TypeError",
     "evalue": "page param should be an int",
     "traceback": [
      "\u001b[1;31m---------------------------------------------------------------------------\u001b[0m",
      "\u001b[1;31mTypeError\u001b[0m                                 Traceback (most recent call last)",
      "\u001b[1;32m<ipython-input-25-c221dc8bf43f>\u001b[0m in \u001b[0;36m<module>\u001b[1;34m\u001b[0m\n\u001b[0;32m      1\u001b[0m \u001b[1;31m#get_all_ethereum_news_2yrs (2)\u001b[0m\u001b[1;33m\u001b[0m\u001b[1;33m\u001b[0m\u001b[1;33m\u001b[0m\u001b[0m\n\u001b[0;32m      2\u001b[0m \u001b[1;32mfor\u001b[0m \u001b[0mpage\u001b[0m \u001b[1;32min\u001b[0m \u001b[0mrange\u001b[0m\u001b[1;33m(\u001b[0m\u001b[1;36m100\u001b[0m\u001b[1;33m)\u001b[0m\u001b[1;33m:\u001b[0m\u001b[1;33m\u001b[0m\u001b[1;33m\u001b[0m\u001b[0m\n\u001b[1;32m----> 3\u001b[1;33m     \u001b[0mget_all_eth_news_2yrs\u001b[0m\u001b[1;33m(\u001b[0m\u001b[0mpage\u001b[0m\u001b[1;33m)\u001b[0m\u001b[1;33m\u001b[0m\u001b[1;33m\u001b[0m\u001b[0m\n\u001b[0m",
      "\u001b[1;32m<ipython-input-21-e52df932effe>\u001b[0m in \u001b[0;36mget_all_eth_news_2yrs\u001b[1;34m(path)\u001b[0m\n\u001b[0;32m      2\u001b[0m \u001b[1;31m# Fetch all the news about Ethereum\u001b[0m\u001b[1;33m\u001b[0m\u001b[1;33m\u001b[0m\u001b[1;33m\u001b[0m\u001b[0m\n\u001b[0;32m      3\u001b[0m \u001b[1;32mdef\u001b[0m \u001b[0mget_all_eth_news_2yrs\u001b[0m\u001b[1;33m(\u001b[0m\u001b[0mpath\u001b[0m\u001b[1;33m)\u001b[0m\u001b[1;33m:\u001b[0m\u001b[1;33m\u001b[0m\u001b[1;33m\u001b[0m\u001b[0m\n\u001b[1;32m----> 4\u001b[1;33m     return newsapi.get_everything(\n\u001b[0m\u001b[0;32m      5\u001b[0m         \u001b[0mq\u001b[0m\u001b[1;33m=\u001b[0m\u001b[1;34m\"ethereum\"\u001b[0m\u001b[1;33m,\u001b[0m\u001b[1;33m\u001b[0m\u001b[1;33m\u001b[0m\u001b[0m\n\u001b[0;32m      6\u001b[0m     \u001b[0mfrom_param\u001b[0m \u001b[1;33m=\u001b[0m\u001b[1;34m'2019-01-01'\u001b[0m\u001b[1;33m,\u001b[0m\u001b[1;33m\u001b[0m\u001b[1;33m\u001b[0m\u001b[0m\n",
      "\u001b[1;32m~\\anaconda3\\lib\\site-packages\\newsapi\\newsapi_client.py\u001b[0m in \u001b[0;36mget_everything\u001b[1;34m(self, q, qintitle, sources, domains, exclude_domains, from_param, to, language, sort_by, page, page_size)\u001b[0m\n\u001b[0;32m    317\u001b[0m                     \u001b[1;32mraise\u001b[0m \u001b[0mValueError\u001b[0m\u001b[1;33m(\u001b[0m\u001b[1;34m\"page param should be an int greater than 0\"\u001b[0m\u001b[1;33m)\u001b[0m\u001b[1;33m\u001b[0m\u001b[1;33m\u001b[0m\u001b[0m\n\u001b[0;32m    318\u001b[0m             \u001b[1;32melse\u001b[0m\u001b[1;33m:\u001b[0m\u001b[1;33m\u001b[0m\u001b[1;33m\u001b[0m\u001b[0m\n\u001b[1;32m--> 319\u001b[1;33m                 \u001b[1;32mraise\u001b[0m \u001b[0mTypeError\u001b[0m\u001b[1;33m(\u001b[0m\u001b[1;34m\"page param should be an int\"\u001b[0m\u001b[1;33m)\u001b[0m\u001b[1;33m\u001b[0m\u001b[1;33m\u001b[0m\u001b[0m\n\u001b[0m\u001b[0;32m    320\u001b[0m \u001b[1;33m\u001b[0m\u001b[0m\n\u001b[0;32m    321\u001b[0m         \u001b[1;31m# Send Request\u001b[0m\u001b[1;33m\u001b[0m\u001b[1;33m\u001b[0m\u001b[1;33m\u001b[0m\u001b[0m\n",
      "\u001b[1;31mTypeError\u001b[0m: page param should be an int"
     ]
    }
   ],
   "source": [
    "#get_all_ethereum_news_2yrs (2)\n",
    "for page in range(100):\n",
    "    get_all_eth_news_2yrs(page)"
   ]
  },
  {
   "cell_type": "code",
   "execution_count": 20,
   "metadata": {},
   "outputs": [
    {
     "output_type": "execute_result",
     "data": {
      "text/plain": [
       "{'source': {'id': 'techcrunch', 'name': 'TechCrunch'},\n",
       " 'author': 'Jonathan Shieber',\n",
       " 'title': 'Consensys Ventures has made its first four investments',\n",
       " 'description': 'A scant three months after its launch the $50 million Consensys Ventures fund that was created to back companies developing applications on Ethereum (by Ethereum co-founder Joe Lubin’s Consensys Systems) has made its first four investments. Created as another…',\n",
       " 'url': 'https://techcrunch.com/2017/12/04/consensys-ventures-has-made-its-first-four-investments/',\n",
       " 'urlToImage': 'https://tctechcrunch2011.files.wordpress.com/2017/12/tc_disrupt_berlin-kavita-gupta-consensys-3043.jpg',\n",
       " 'publishedAt': '2017-12-04T18:00:26Z',\n",
       " 'content': 'A scant three months after its launch the $50 million Consensys Ventures fund that was created to back companies developing applications on Ethereum (by Ethereum co-founder Joe Lubin’s Consensys Systems ) has made its first four investments. Created as another way to boost Ethereum adoption and back companies to get them traction in the market, the Ethereum Ventures fund hired Kavita Gupta — a rising star in the technology firmament to run its investment vehicle. Gupta’s first commitments from the fund run the gamut — from a blockchain-based sweepstakes company; to a blockchain-based e-sports betting service; a lending platform to provide liquidity for cryptocurrency investors and a security project to protect crypto-applications. The fund does pre-seed, seed and token launches, according to Gupta, who would not disclose the size of the investments that the firm is taking. But the companies that the fund is backing come from some relatively seasoned entrepreneurs. BlockFi, the firm’s lending for liquidity startup was founded by Zac Prince — a serial startup founder whose previous idea was the lending platform for the underbanked, Cognical. Kavita Gupta, Consensys Ventures Even more impressive is the e-sports betting company’s executive team, helmed by former Microsoft Bing Ventures investor Rahul Sood. Unikrn had already garnered a lot of attention from bitcoin bulls like MarK Cuban and raised $25 million in its September token sale. That figure actually puts Unikrn on the high end for what investors these days will now stomach, says Gupta. “There are very few ICOs or token launches that are basically going oversubscribed to those numbers,” she said referring to the heady days of over $100 million coin offerings (mind you that was a few months ago). The market is moving to them to a $20 million raise or a $10 million raise or a $5 million raise, Gupta said, as investors become more rational. And that’s forcing entrepreneurs to temper their own expectations. “Entrepreneurs understand that the market is way more intelligent and the FOMO is going down,” Gupta tells me. What’s critical right now, Gupta says, is that businesses that want to leverage the blockchain think deeply about their product or service and whether pursuing a token sale even makes sense. In many cases, it may not, she said. For Unikrn and another new investment in the stable; the sweepstakes provider Pryze, the answer of whether to token or not to token was a definite yes. But BlockFi had no ned to issue tokens and took a straight equity investment. The company’s other investment, in the security space also raised a token. Consensys Ventures intends to be investing in companies outside of the Consensys stable, given the maturity of the company. Gupta said that Consensys wants to be a long-term partner, but defines that as a six-month time frame for its holding period. Compared to venture funds that doesn’t seem like an incredibly long time. However, Gupta says that the market is very new and that the firm is taking a big risk on the entrepreneurs it backs. “This market is changing every day,” she said. “Six months is comparative to five years in a traditional venture market.” For now the fund is a completely Ethereum focused fund. But it could make investments on another blockchain platform if it had scale.'}"
      ]
     },
     "metadata": {},
     "execution_count": 20
    }
   ],
   "source": [
    "# Show sample Ethereum article\n",
    "eth_news[\"articles\"][0]"
   ]
  },
  {
   "cell_type": "code",
   "execution_count": 22,
   "metadata": {},
   "outputs": [
    {
     "output_type": "execute_result",
     "data": {
      "text/plain": [
       "          date                                               text  compound  \\\n",
       "0   2017-12-04  A scant three months after its launch the $50 ...    0.9494   \n",
       "1   2018-06-12  Coinbase may be one of the most-lauded crypto ...    0.9872   \n",
       "2   2018-07-03  Our TC Sessions: Blockchain event takes place ...    0.9742   \n",
       "3   2019-01-08  Coinbase is preparing to list a lot of new coi...    0.8519   \n",
       "4   2018-10-16  Coinbase’s newest asset is live. On Tuesday th...    0.9661   \n",
       "5   2017-11-11  On Monday, a small configuration mistake at an...   -0.9579   \n",
       "6   2019-04-23  President Trump tweeted insults at Twitter aga...   -0.8322   \n",
       "7   2018-09-26  Coinbase aspires to be the New York Stock Exch...    0.9931   \n",
       "8   2018-09-27  Think Ethereum and other crypto coins are over...    0.9270   \n",
       "9   2018-10-01  Despite a bear market that has seen the price ...    0.9936   \n",
       "10  2019-11-20  Sharding and scalability. Transactions per sec...    0.9696   \n",
       "11  2018-08-17  Coinbase has added a new buying option for its...    0.9252   \n",
       "12  2018-01-15  I’m a long-term cryptocurrency believer, prett...    0.9827   \n",
       "13  2018-01-05  You are about to activate our Facebook Messeng...    0.4404   \n",
       "14  2017-12-05  Earlier this year, Parity Technologies seeming...    0.5307   \n",
       "15  2019-03-01  A big upgrade for decentralized app platform E...    0.2568   \n",
       "16  2018-06-04  There are already many, many reasons to attend...    0.9887   \n",
       "17  2019-01-16  Ethereum's Constantinople upgrade, which was s...   -0.6620   \n",
       "18  2019-09-13  Cryptocurrency security relies on hashing algo...    0.9982   \n",
       "19  2018-09-02  Here’s a prediction. ETH — the asset, not the ...    0.9990   \n",
       "\n",
       "    positive  negative  neutral  \n",
       "0      0.064     0.017    0.919  \n",
       "1      0.085     0.017    0.899  \n",
       "2      0.062     0.000    0.938  \n",
       "3      0.099     0.078    0.823  \n",
       "4      0.126     0.010    0.864  \n",
       "5      0.058     0.080    0.862  \n",
       "6      0.085     0.107    0.807  \n",
       "7      0.130     0.019    0.851  \n",
       "8      0.083     0.024    0.892  \n",
       "9      0.107     0.033    0.860  \n",
       "10     0.065     0.024    0.911  \n",
       "11     0.072     0.028    0.900  \n",
       "12     0.166     0.039    0.794  \n",
       "13     0.050     0.000    0.950  \n",
       "14     0.066     0.057    0.877  \n",
       "15     0.084     0.078    0.838  \n",
       "16     0.114     0.011    0.875  \n",
       "17     0.077     0.104    0.819  \n",
       "18     0.130     0.043    0.828  \n",
       "19     0.136     0.061    0.803  "
      ],
      "text/html": "<div>\n<style scoped>\n    .dataframe tbody tr th:only-of-type {\n        vertical-align: middle;\n    }\n\n    .dataframe tbody tr th {\n        vertical-align: top;\n    }\n\n    .dataframe thead th {\n        text-align: right;\n    }\n</style>\n<table border=\"1\" class=\"dataframe\">\n  <thead>\n    <tr style=\"text-align: right;\">\n      <th></th>\n      <th>date</th>\n      <th>text</th>\n      <th>compound</th>\n      <th>positive</th>\n      <th>negative</th>\n      <th>neutral</th>\n    </tr>\n  </thead>\n  <tbody>\n    <tr>\n      <th>0</th>\n      <td>2017-12-04</td>\n      <td>A scant three months after its launch the $50 ...</td>\n      <td>0.9494</td>\n      <td>0.064</td>\n      <td>0.017</td>\n      <td>0.919</td>\n    </tr>\n    <tr>\n      <th>1</th>\n      <td>2018-06-12</td>\n      <td>Coinbase may be one of the most-lauded crypto ...</td>\n      <td>0.9872</td>\n      <td>0.085</td>\n      <td>0.017</td>\n      <td>0.899</td>\n    </tr>\n    <tr>\n      <th>2</th>\n      <td>2018-07-03</td>\n      <td>Our TC Sessions: Blockchain event takes place ...</td>\n      <td>0.9742</td>\n      <td>0.062</td>\n      <td>0.000</td>\n      <td>0.938</td>\n    </tr>\n    <tr>\n      <th>3</th>\n      <td>2019-01-08</td>\n      <td>Coinbase is preparing to list a lot of new coi...</td>\n      <td>0.8519</td>\n      <td>0.099</td>\n      <td>0.078</td>\n      <td>0.823</td>\n    </tr>\n    <tr>\n      <th>4</th>\n      <td>2018-10-16</td>\n      <td>Coinbase’s newest asset is live. On Tuesday th...</td>\n      <td>0.9661</td>\n      <td>0.126</td>\n      <td>0.010</td>\n      <td>0.864</td>\n    </tr>\n    <tr>\n      <th>5</th>\n      <td>2017-11-11</td>\n      <td>On Monday, a small configuration mistake at an...</td>\n      <td>-0.9579</td>\n      <td>0.058</td>\n      <td>0.080</td>\n      <td>0.862</td>\n    </tr>\n    <tr>\n      <th>6</th>\n      <td>2019-04-23</td>\n      <td>President Trump tweeted insults at Twitter aga...</td>\n      <td>-0.8322</td>\n      <td>0.085</td>\n      <td>0.107</td>\n      <td>0.807</td>\n    </tr>\n    <tr>\n      <th>7</th>\n      <td>2018-09-26</td>\n      <td>Coinbase aspires to be the New York Stock Exch...</td>\n      <td>0.9931</td>\n      <td>0.130</td>\n      <td>0.019</td>\n      <td>0.851</td>\n    </tr>\n    <tr>\n      <th>8</th>\n      <td>2018-09-27</td>\n      <td>Think Ethereum and other crypto coins are over...</td>\n      <td>0.9270</td>\n      <td>0.083</td>\n      <td>0.024</td>\n      <td>0.892</td>\n    </tr>\n    <tr>\n      <th>9</th>\n      <td>2018-10-01</td>\n      <td>Despite a bear market that has seen the price ...</td>\n      <td>0.9936</td>\n      <td>0.107</td>\n      <td>0.033</td>\n      <td>0.860</td>\n    </tr>\n    <tr>\n      <th>10</th>\n      <td>2019-11-20</td>\n      <td>Sharding and scalability. Transactions per sec...</td>\n      <td>0.9696</td>\n      <td>0.065</td>\n      <td>0.024</td>\n      <td>0.911</td>\n    </tr>\n    <tr>\n      <th>11</th>\n      <td>2018-08-17</td>\n      <td>Coinbase has added a new buying option for its...</td>\n      <td>0.9252</td>\n      <td>0.072</td>\n      <td>0.028</td>\n      <td>0.900</td>\n    </tr>\n    <tr>\n      <th>12</th>\n      <td>2018-01-15</td>\n      <td>I’m a long-term cryptocurrency believer, prett...</td>\n      <td>0.9827</td>\n      <td>0.166</td>\n      <td>0.039</td>\n      <td>0.794</td>\n    </tr>\n    <tr>\n      <th>13</th>\n      <td>2018-01-05</td>\n      <td>You are about to activate our Facebook Messeng...</td>\n      <td>0.4404</td>\n      <td>0.050</td>\n      <td>0.000</td>\n      <td>0.950</td>\n    </tr>\n    <tr>\n      <th>14</th>\n      <td>2017-12-05</td>\n      <td>Earlier this year, Parity Technologies seeming...</td>\n      <td>0.5307</td>\n      <td>0.066</td>\n      <td>0.057</td>\n      <td>0.877</td>\n    </tr>\n    <tr>\n      <th>15</th>\n      <td>2019-03-01</td>\n      <td>A big upgrade for decentralized app platform E...</td>\n      <td>0.2568</td>\n      <td>0.084</td>\n      <td>0.078</td>\n      <td>0.838</td>\n    </tr>\n    <tr>\n      <th>16</th>\n      <td>2018-06-04</td>\n      <td>There are already many, many reasons to attend...</td>\n      <td>0.9887</td>\n      <td>0.114</td>\n      <td>0.011</td>\n      <td>0.875</td>\n    </tr>\n    <tr>\n      <th>17</th>\n      <td>2019-01-16</td>\n      <td>Ethereum's Constantinople upgrade, which was s...</td>\n      <td>-0.6620</td>\n      <td>0.077</td>\n      <td>0.104</td>\n      <td>0.819</td>\n    </tr>\n    <tr>\n      <th>18</th>\n      <td>2019-09-13</td>\n      <td>Cryptocurrency security relies on hashing algo...</td>\n      <td>0.9982</td>\n      <td>0.130</td>\n      <td>0.043</td>\n      <td>0.828</td>\n    </tr>\n    <tr>\n      <th>19</th>\n      <td>2018-09-02</td>\n      <td>Here’s a prediction. ETH — the asset, not the ...</td>\n      <td>0.9990</td>\n      <td>0.136</td>\n      <td>0.061</td>\n      <td>0.803</td>\n    </tr>\n  </tbody>\n</table>\n</div>"
     },
     "metadata": {},
     "execution_count": 22
    }
   ],
   "source": [
    "eth_sentiments = []\n",
    "\n",
    "for article in eth_news[\"articles\"]:\n",
    "    try:\n",
    "        text = article[\"content\"]\n",
    "        date = article[\"publishedAt\"][:10]\n",
    "        sentiment = analyzer.polarity_scores(text)\n",
    "        compound = sentiment[\"compound\"]\n",
    "        pos = sentiment[\"pos\"]\n",
    "        neu = sentiment[\"neu\"]\n",
    "        neg = sentiment[\"neg\"]\n",
    "        \n",
    "        eth_sentiments.append({\n",
    "            \"text\": text,\n",
    "            \"date\": date,\n",
    "            \"compound\": compound,\n",
    "            \"positive\": pos,\n",
    "            \"negative\": neg,\n",
    "            \"neutral\": neu\n",
    "            \n",
    "    })\n",
    "        \n",
    "    except AttributeError:\n",
    "        pass\n",
    "    \n",
    "# Create DataFrame\n",
    "btc_df = pd.DataFrame(eth_sentiments)\n",
    "\n",
    "# Reorder DataFrame columns\n",
    "cols = [\"date\", \"text\", \"compound\", \"positive\", \"negative\", \"neutral\"]\n",
    "eth_df = btc_df[cols]\n",
    "\n",
    "eth_df"
   ]
  },
  {
   "cell_type": "code",
   "execution_count": null,
   "metadata": {},
   "outputs": [],
   "source": []
  }
 ]
}