{
 "cells": [
  {
   "cell_type": "code",
   "execution_count": 28,
   "metadata": {},
   "outputs": [],
   "source": [
    "import os\n",
    "import nltk\n",
    "import pandas as pd\n",
    "from newsapi.newsapi_client import NewsApiClient\n",
    "from dotenv import load_dotenv\n",
    "from nltk.sentiment.vader import SentimentIntensityAnalyzer\n",
    "analyzer = SentimentIntensityAnalyzer()\n",
    "\n",
    "%matplotlib inline"
   ]
  },
  {
   "cell_type": "code",
   "execution_count": 29,
   "metadata": {},
   "outputs": [
    {
     "output_type": "stream",
     "name": "stderr",
     "text": [
      "[nltk_data] Downloading package vader_lexicon to\n[nltk_data]     C:\\Users\\pvolc\\AppData\\Roaming\\nltk_data...\n[nltk_data]   Package vader_lexicon is already up-to-date!\n"
     ]
    },
    {
     "output_type": "execute_result",
     "data": {
      "text/plain": [
       "True"
      ]
     },
     "metadata": {},
     "execution_count": 29
    }
   ],
   "source": [
    "# Download/Update the VADER Lexicon\n",
    "nltk.download(\"vader_lexicon\")"
   ]
  },
  {
   "cell_type": "code",
   "execution_count": 3,
   "metadata": {},
   "outputs": [],
   "source": [
    "api_key = os.getenv(\"news_api\")"
   ]
  },
  {
   "cell_type": "code",
   "execution_count": 4,
   "metadata": {},
   "outputs": [],
   "source": [
    "newsapi = NewsApiClient(api_key)"
   ]
  },
  {
   "cell_type": "code",
   "execution_count": 5,
   "metadata": {},
   "outputs": [
    {
     "output_type": "execute_result",
     "data": {
      "text/plain": [
       "227214"
      ]
     },
     "metadata": {},
     "execution_count": 5
    }
   ],
   "source": [
    "bitcoin_news = newsapi.get_everything(q=\"bitcoin\", language=\"en\")\n",
    "bitcoin_news[\"totalResults\"]"
   ]
  },
  {
   "cell_type": "code",
   "execution_count": 23,
   "metadata": {},
   "outputs": [
    {
     "output_type": "execute_result",
     "data": {
      "text/plain": [
       "{'source': {'id': None, 'name': 'Lifehacker.com'},\n",
       " 'author': 'Nick Douglas',\n",
       " 'title': 'Instead of Buying Bitcoin, Play This Bitcoin Trading Game',\n",
       " 'description': 'I’ve lost over $300,000 worth of bitcoin so far. Now’s the bit where I’m supposed to tell you it’s all fake, and I only lost it in the cryptocurrency trading simulation game Bitcoin Flip. But no, I actually bought $400 worth of bitcoin back when it was cheap,…',\n",
       " 'url': 'https://lifehacker.com/instead-of-buying-bitcoin-play-this-bitcoin-trading-ga-1826671289',\n",
       " 'urlToImage': 'https://i.kinja-img.com/gawker-media/image/upload/s--Dq77h-xL--/c_fill,fl_progressive,g_center,h_900,q_80,w_1600/i9pblfcvortm2ojd89nq.png',\n",
       " 'publishedAt': '2018-06-08T17:30:00Z',\n",
       " 'content': 'I’ve lost over $300,000 worth of bitcoin so far. Now’s the bit where I’m supposed to tell you it’s all fake, and I only lost it in the cryptocurrency trading simulation game Bitcoin Flip. But no, I actually bought $400 worth of bitcoin back when it was cheap, then left it in the hands of the Mt. Gox online exchange, which then lost it. And yet I still recently bought another $210 worth of bitcoin, which has already dropped to $172. This is not investment, this is gambling. I would have done better just playing Bitcoin Flip. Bitcoin Flip is a free game for the web, iOS, and Android. (Google recently kicked it off the Play store, but the creators, a group of Latvian students who previously created the stock-market simulator Trading Game, are working to get it reinstated). In the game you can trade 24 cryptocurrencies such as Bitcoin, Ethereum, Ripple, Monero, and Dogecoin, based on real-life prices pulled from various online exchanges. Below the sophisticated price graph for each currency, the game provides a short description and history of that currency, making this a decent educational tool for beginner crypto enthusiasts. Bitcoin Flip plays safer with your pretend money than anyone would with your real money; the game only lets you trade small amounts of your $5,000 pot at a time. But if your playing style at all resembles mine, you will immediately begin losing money anyway. The game has efficiently reminded me that I have no business trading actual crypto, or really any financial instrument more complex than a baseball card. But if you’re pretty good at making a profit in the game, you might decide you want to actually buy some crypto. The game helpfully provides links to crypto exchanges where you can buy real currency and lose real money. (Co-creator Louise Mccauley tells me the game is unassociated with any crypto companies or brands.) So have fun, and if you do manage to turn a profit, kindly never tell me. Bitcoin Flip | Browser game'}"
      ]
     },
     "metadata": {},
     "execution_count": 23
    }
   ],
   "source": [
    "# Show sample Bitcoin article\n",
    "bitcoin_news[\"articles\"][0]"
   ]
  },
  {
   "cell_type": "code",
   "execution_count": 78,
   "metadata": {},
   "outputs": [],
   "source": [
    "# Fetch all the news about Bitcoin\n",
    "def get_all_bitcoin_news_2yrs(years):\n",
    "    bitcoin_news = newsapi.get_everything(\n",
    "    q=\"bitcoin\",\n",
    "    language=\"en\",\n",
    "    from_param ='2019-01-01',\n",
    "    to ='2019-06-01',\n",
    "    page_size =100,\n",
    "    )\n",
    "    def get_all_bitcoin_news_2yrs(years):\n",
    "        bitcoin_news = newsapi.get_everything(\n",
    "        q=\"bitcoin\",\n",
    "        language=\"en\",\n",
    "        from_param ='2019-07-01',\n",
    "        to ='2019-12-31',\n",
    "        page_size =100,\n",
    "        )\n",
    "        def get_all_bitcoin_news_2yrs(years):\n",
    "            bitcoin_news = newsapi.get_everything(\n",
    "            q=\"bitcoin\",\n",
    "            language=\"en\",\n",
    "            from_param ='2020-01-01',\n",
    "            to ='2021-01-01',\n",
    "            page_size =100,\n",
    ")\n"
   ]
  },
  {
   "cell_type": "code",
   "execution_count": 79,
   "metadata": {},
   "outputs": [
    {
     "output_type": "execute_result",
     "data": {
      "text/plain": [
       "<bound method NDFrame.describe of           date                                               text  compound  \\\n",
       "0   2020-07-17  Just hackers burning up 0day like it’s a fire ...   -0.9983   \n",
       "1   2020-07-31  Authorities in Tampa, Florida have arrested a ...   -0.9764   \n",
       "2   2020-02-15  Just when you thought the catastrophic Equifax...    0.9585   \n",
       "3   2020-08-06  Casa, a Colorado-based provider of bitcoin sec...    0.9118   \n",
       "4   2020-11-12  A former Microsoft software engineer from Ukra...   -0.9907   \n",
       "..         ...                                                ...       ...   \n",
       "93  2020-11-18  By Justin HarperBusiness reporter, BBC News\\r\\...    0.9363   \n",
       "94  2020-09-24  July 15 was, at first, just another day for Pa...   -0.9299   \n",
       "95  2020-07-15  In case you haven't heard, Barack Obama, Joe B...    0.9917   \n",
       "96  2020-07-17  The biggest news on Wednesday was the Twitter ...   -0.9718   \n",
       "97  2020-12-03  Posted \\r\\nBitcoin has grabbed headlines this ...    0.2023   \n",
       "\n",
       "    positive  negative  neutral  \n",
       "0      0.073     0.132    0.795  \n",
       "1      0.000     0.222    0.778  \n",
       "2      0.120     0.079    0.801  \n",
       "3      0.086     0.035    0.879  \n",
       "4      0.082     0.126    0.791  \n",
       "..       ...       ...      ...  \n",
       "93     0.097     0.064    0.838  \n",
       "94     0.090     0.097    0.813  \n",
       "95     0.099     0.018    0.883  \n",
       "96     0.046     0.124    0.830  \n",
       "97     0.042     0.000    0.958  \n",
       "\n",
       "[98 rows x 6 columns]>"
      ]
     },
     "metadata": {},
     "execution_count": 79
    }
   ],
   "source": [
    "btc_sentiments = []\n",
    "\n",
    "for article in bitcoin_news[\"articles\"]:\n",
    "    try:\n",
    "        text = article[\"content\"]\n",
    "        date = article[\"publishedAt\"][:10]\n",
    "        sentiment = analyzer.polarity_scores(text)\n",
    "        compound = sentiment[\"compound\"]\n",
    "        pos = sentiment[\"pos\"]\n",
    "        neu = sentiment[\"neu\"]\n",
    "        neg = sentiment[\"neg\"]\n",
    "        \n",
    "        btc_sentiments.append({\n",
    "            \"text\": text,\n",
    "            \"date\": date,\n",
    "            \"compound\": compound,\n",
    "            \"positive\": pos,\n",
    "            \"negative\": neg,\n",
    "            \"neutral\": neu\n",
    "            \n",
    "    })\n",
    "        \n",
    "    except AttributeError:\n",
    "        pass\n",
    "    \n",
    "# Create DataFrame\n",
    "btc_df = pd.DataFrame(btc_sentiments)\n",
    "\n",
    "# Reorder DataFrame columns\n",
    "cols = [\"date\", \"text\", \"compound\", \"positive\", \"negative\", \"neutral\"]\n",
    "btc_df = btc_df[cols]\n",
    "\n",
    "btc_df.describe"
   ]
  },
  {
   "cell_type": "code",
   "execution_count": 31,
   "metadata": {},
   "outputs": [
    {
     "output_type": "stream",
     "name": "stdout",
     "text": [
      "Total articles about bitcoin: 227219\n"
     ]
    }
   ],
   "source": [
    "# Print total Bitcoin articles\n",
    "print(f\"Total articles about bitcoin: {bitcoin_news['totalResults']}\")"
   ]
  },
  {
   "cell_type": "code",
   "execution_count": 32,
   "metadata": {},
   "outputs": [
    {
     "output_type": "execute_result",
     "data": {
      "text/plain": [
       "         date                                               text  compound  \\\n",
       "0  2018-06-08  I’ve lost over $300,000 worth of bitcoin so fa...    0.9927   \n",
       "1  2019-02-15  If youre a Coinbase user, you may have seen so...    0.9631   \n",
       "2  2020-07-17  Just hackers burning up 0day like it’s a fire ...   -0.9983   \n",
       "3  2020-07-31  Authorities in Tampa, Florida have arrested a ...   -0.9764   \n",
       "4  2020-02-15  Just when you thought the catastrophic Equifax...    0.9585   \n",
       "\n",
       "   positive  negative  neutral  \n",
       "0     0.171     0.053    0.777  \n",
       "1     0.092     0.013    0.895  \n",
       "2     0.073     0.132    0.795  \n",
       "3     0.000     0.222    0.778  \n",
       "4     0.120     0.079    0.801  "
      ],
      "text/html": "<div>\n<style scoped>\n    .dataframe tbody tr th:only-of-type {\n        vertical-align: middle;\n    }\n\n    .dataframe tbody tr th {\n        vertical-align: top;\n    }\n\n    .dataframe thead th {\n        text-align: right;\n    }\n</style>\n<table border=\"1\" class=\"dataframe\">\n  <thead>\n    <tr style=\"text-align: right;\">\n      <th></th>\n      <th>date</th>\n      <th>text</th>\n      <th>compound</th>\n      <th>positive</th>\n      <th>negative</th>\n      <th>neutral</th>\n    </tr>\n  </thead>\n  <tbody>\n    <tr>\n      <th>0</th>\n      <td>2018-06-08</td>\n      <td>I’ve lost over $300,000 worth of bitcoin so fa...</td>\n      <td>0.9927</td>\n      <td>0.171</td>\n      <td>0.053</td>\n      <td>0.777</td>\n    </tr>\n    <tr>\n      <th>1</th>\n      <td>2019-02-15</td>\n      <td>If youre a Coinbase user, you may have seen so...</td>\n      <td>0.9631</td>\n      <td>0.092</td>\n      <td>0.013</td>\n      <td>0.895</td>\n    </tr>\n    <tr>\n      <th>2</th>\n      <td>2020-07-17</td>\n      <td>Just hackers burning up 0day like it’s a fire ...</td>\n      <td>-0.9983</td>\n      <td>0.073</td>\n      <td>0.132</td>\n      <td>0.795</td>\n    </tr>\n    <tr>\n      <th>3</th>\n      <td>2020-07-31</td>\n      <td>Authorities in Tampa, Florida have arrested a ...</td>\n      <td>-0.9764</td>\n      <td>0.000</td>\n      <td>0.222</td>\n      <td>0.778</td>\n    </tr>\n    <tr>\n      <th>4</th>\n      <td>2020-02-15</td>\n      <td>Just when you thought the catastrophic Equifax...</td>\n      <td>0.9585</td>\n      <td>0.120</td>\n      <td>0.079</td>\n      <td>0.801</td>\n    </tr>\n  </tbody>\n</table>\n</div>"
     },
     "metadata": {},
     "execution_count": 32
    }
   ],
   "source": [
    "btc_sentiments = []\n",
    "\n",
    "for article in bitcoin_news[\"articles\"]:\n",
    "    try:\n",
    "        text = article[\"content\"]\n",
    "        date = article[\"publishedAt\"][:10]\n",
    "        sentiment = analyzer.polarity_scores(text)\n",
    "        compound = sentiment[\"compound\"]\n",
    "        pos = sentiment[\"pos\"]\n",
    "        neu = sentiment[\"neu\"]\n",
    "        neg = sentiment[\"neg\"]\n",
    "        \n",
    "        btc_sentiments.append({\n",
    "            \"text\": text,\n",
    "            \"date\": date,\n",
    "            \"compound\": compound,\n",
    "            \"positive\": pos,\n",
    "            \"negative\": neg,\n",
    "            \"neutral\": neu\n",
    "            \n",
    "        })\n",
    "        \n",
    "    except AttributeError:\n",
    "        pass\n",
    "    \n",
    "# Create DataFrame\n",
    "btc_df = pd.DataFrame(btc_sentiments)\n",
    "\n",
    "# Reorder DataFrame columns\n",
    "cols = [\"date\", \"text\", \"compound\", \"positive\", \"negative\", \"neutral\"]\n",
    "btc_df = btc_df[cols]\n",
    "\n",
    "btc_df.head()"
   ]
  },
  {
   "cell_type": "code",
   "execution_count": 26,
   "metadata": {},
   "outputs": [
    {
     "output_type": "execute_result",
     "data": {
      "text/plain": [
       "                                       source         author  \\\n",
       "0      {'id': None, 'name': 'Lifehacker.com'}   Nick Douglas   \n",
       "1      {'id': None, 'name': 'Lifehacker.com'}   Nick Douglas   \n",
       "2  {'id': 'techcrunch', 'name': 'TechCrunch'}  Romain Dillet   \n",
       "3      {'id': 'engadget', 'name': 'Engadget'}    Violet Blue   \n",
       "4      {'id': 'engadget', 'name': 'Engadget'}     Nicole Lee   \n",
       "\n",
       "                                               title  \\\n",
       "0  Instead of Buying Bitcoin, Play This Bitcoin T...   \n",
       "1                            Should You Buy Bitcoin?   \n",
       "2  Coinbase users can now withdraw Bitcoin SV fol...   \n",
       "3  Twitter's Bitcoin hackers had almost limitless...   \n",
       "4   Tampa teenager arrested for Twitter Bitcoin hack   \n",
       "\n",
       "                                         description  \\\n",
       "0  I’ve lost over $300,000 worth of bitcoin so fa...   \n",
       "1  We’ve already told you how to buy Bitcoin and ...   \n",
       "2  If you’re a Coinbase user, you may have seen s...   \n",
       "3  On Wednesday, July 15, Twitter was the target ...   \n",
       "4  Authorities in Tampa, Florida have arrested a ...   \n",
       "\n",
       "                                                 url  \\\n",
       "0  https://lifehacker.com/instead-of-buying-bitco...   \n",
       "1  https://lifehacker.com/should-you-buy-bitcoin-...   \n",
       "2  http://techcrunch.com/2019/02/15/coinbase-user...   \n",
       "3  https://www.engadget.com/twitter-bitcoin-scam-...   \n",
       "4  https://www.engadget.com/teenager-arrested-twi...   \n",
       "\n",
       "                                          urlToImage           publishedAt  \\\n",
       "0  https://i.kinja-img.com/gawker-media/image/upl...  2018-06-08T17:30:00Z   \n",
       "1  https://i.kinja-img.com/gawker-media/image/upl...  2018-06-07T13:00:00Z   \n",
       "2  https://techcrunch.com/wp-content/uploads/2017...  2019-02-15T14:53:40Z   \n",
       "3  https://o.aolcdn.com/images/dims?resize=1200%2...  2020-07-17T19:30:40Z   \n",
       "4  https://o.aolcdn.com/images/dims?resize=1200%2...  2020-07-31T18:33:02Z   \n",
       "\n",
       "                                             content  \n",
       "0  I’ve lost over $300,000 worth of bitcoin so fa...  \n",
       "1                                               None  \n",
       "2  If youre a Coinbase user, you may have seen so...  \n",
       "3  Just hackers burning up 0day like it’s a fire ...  \n",
       "4  Authorities in Tampa, Florida have arrested a ...  "
      ],
      "text/html": "<div>\n<style scoped>\n    .dataframe tbody tr th:only-of-type {\n        vertical-align: middle;\n    }\n\n    .dataframe tbody tr th {\n        vertical-align: top;\n    }\n\n    .dataframe thead th {\n        text-align: right;\n    }\n</style>\n<table border=\"1\" class=\"dataframe\">\n  <thead>\n    <tr style=\"text-align: right;\">\n      <th></th>\n      <th>source</th>\n      <th>author</th>\n      <th>title</th>\n      <th>description</th>\n      <th>url</th>\n      <th>urlToImage</th>\n      <th>publishedAt</th>\n      <th>content</th>\n    </tr>\n  </thead>\n  <tbody>\n    <tr>\n      <th>0</th>\n      <td>{'id': None, 'name': 'Lifehacker.com'}</td>\n      <td>Nick Douglas</td>\n      <td>Instead of Buying Bitcoin, Play This Bitcoin T...</td>\n      <td>I’ve lost over $300,000 worth of bitcoin so fa...</td>\n      <td>https://lifehacker.com/instead-of-buying-bitco...</td>\n      <td>https://i.kinja-img.com/gawker-media/image/upl...</td>\n      <td>2018-06-08T17:30:00Z</td>\n      <td>I’ve lost over $300,000 worth of bitcoin so fa...</td>\n    </tr>\n    <tr>\n      <th>1</th>\n      <td>{'id': None, 'name': 'Lifehacker.com'}</td>\n      <td>Nick Douglas</td>\n      <td>Should You Buy Bitcoin?</td>\n      <td>We’ve already told you how to buy Bitcoin and ...</td>\n      <td>https://lifehacker.com/should-you-buy-bitcoin-...</td>\n      <td>https://i.kinja-img.com/gawker-media/image/upl...</td>\n      <td>2018-06-07T13:00:00Z</td>\n      <td>None</td>\n    </tr>\n    <tr>\n      <th>2</th>\n      <td>{'id': 'techcrunch', 'name': 'TechCrunch'}</td>\n      <td>Romain Dillet</td>\n      <td>Coinbase users can now withdraw Bitcoin SV fol...</td>\n      <td>If you’re a Coinbase user, you may have seen s...</td>\n      <td>http://techcrunch.com/2019/02/15/coinbase-user...</td>\n      <td>https://techcrunch.com/wp-content/uploads/2017...</td>\n      <td>2019-02-15T14:53:40Z</td>\n      <td>If youre a Coinbase user, you may have seen so...</td>\n    </tr>\n    <tr>\n      <th>3</th>\n      <td>{'id': 'engadget', 'name': 'Engadget'}</td>\n      <td>Violet Blue</td>\n      <td>Twitter's Bitcoin hackers had almost limitless...</td>\n      <td>On Wednesday, July 15, Twitter was the target ...</td>\n      <td>https://www.engadget.com/twitter-bitcoin-scam-...</td>\n      <td>https://o.aolcdn.com/images/dims?resize=1200%2...</td>\n      <td>2020-07-17T19:30:40Z</td>\n      <td>Just hackers burning up 0day like it’s a fire ...</td>\n    </tr>\n    <tr>\n      <th>4</th>\n      <td>{'id': 'engadget', 'name': 'Engadget'}</td>\n      <td>Nicole Lee</td>\n      <td>Tampa teenager arrested for Twitter Bitcoin hack</td>\n      <td>Authorities in Tampa, Florida have arrested a ...</td>\n      <td>https://www.engadget.com/teenager-arrested-twi...</td>\n      <td>https://o.aolcdn.com/images/dims?resize=1200%2...</td>\n      <td>2020-07-31T18:33:02Z</td>\n      <td>Authorities in Tampa, Florida have arrested a ...</td>\n    </tr>\n  </tbody>\n</table>\n</div>"
     },
     "metadata": {},
     "execution_count": 26
    }
   ],
   "source": [
    "# Transform the response dictionary to a DataFrame\n",
    "btc_df = pd.DataFrame.from_dict(bitcoin_news[\"articles\"])\n",
    "\n",
    "btc_df.head()"
   ]
  },
  {
   "cell_type": "code",
   "execution_count": 21,
   "metadata": {},
   "outputs": [
    {
     "output_type": "execute_result",
     "data": {
      "text/plain": [
       "66221"
      ]
     },
     "metadata": {},
     "execution_count": 21
    }
   ],
   "source": [
    "ethereum_news = newsapi.get_everything(q=\"ethereum\", language=\"en\")\n",
    "ethereum_news[\"totalResults\"]"
   ]
  },
  {
   "cell_type": "code",
   "execution_count": 7,
   "metadata": {},
   "outputs": [
    {
     "output_type": "execute_result",
     "data": {
      "text/plain": [
       "19941"
      ]
     },
     "metadata": {},
     "execution_count": 7
    }
   ],
   "source": [
    "litecoin_news = newsapi.get_everything(q=\"litecoin\", language=\"en\")\n",
    "litecoin_news[\"totalResults\"]"
   ]
  },
  {
   "cell_type": "code",
   "execution_count": 8,
   "metadata": {},
   "outputs": [
    {
     "output_type": "execute_result",
     "data": {
      "text/plain": [
       "1276"
      ]
     },
     "metadata": {},
     "execution_count": 8
    }
   ],
   "source": [
    "polkadot_news = newsapi.get_everything(q=\"polkadot\", language=\"en\")\n",
    "polkadot_news[\"totalResults\"]"
   ]
  },
  {
   "cell_type": "code",
   "execution_count": 9,
   "metadata": {},
   "outputs": [
    {
     "output_type": "execute_result",
     "data": {
      "text/plain": [
       "11388"
      ]
     },
     "metadata": {},
     "execution_count": 9
    }
   ],
   "source": [
    "monero_news = newsapi.get_everything(q=\"monero\", language=\"en\")\n",
    "monero_news[\"totalResults\"]"
   ]
  },
  {
   "cell_type": "code",
   "execution_count": 10,
   "metadata": {},
   "outputs": [
    {
     "output_type": "execute_result",
     "data": {
      "text/plain": [
       "3226"
      ]
     },
     "metadata": {},
     "execution_count": 10
    }
   ],
   "source": [
    "dogecoin_news = newsapi.get_everything(q=\"dogecoin\", language=\"en\")\n",
    "dogecoin_news[\"totalResults\"]"
   ]
  },
  {
   "cell_type": "code",
   "execution_count": 11,
   "metadata": {},
   "outputs": [
    {
     "output_type": "execute_result",
     "data": {
      "text/plain": [
       "1526"
      ]
     },
     "metadata": {},
     "execution_count": 11
    }
   ],
   "source": [
    "stellarlumens_news = newsapi.get_everything(q=\"stellar lumens\", language=\"en\")\n",
    "stellarlumens_news[\"totalResults\"]"
   ]
  },
  {
   "cell_type": "code",
   "execution_count": 12,
   "metadata": {},
   "outputs": [
    {
     "output_type": "execute_result",
     "data": {
      "text/plain": [
       "80349"
      ]
     },
     "metadata": {},
     "execution_count": 12
    }
   ],
   "source": [
    "ripple_news = newsapi.get_everything(q=\"ripple\", language=\"en\")\n",
    "ripple_news[\"totalResults\"]"
   ]
  },
  {
   "cell_type": "code",
   "execution_count": 13,
   "metadata": {},
   "outputs": [
    {
     "output_type": "execute_result",
     "data": {
      "text/plain": [
       "4011"
      ]
     },
     "metadata": {},
     "execution_count": 13
    }
   ],
   "source": [
    "zcash_news = newsapi.get_everything(q=\"zcash\", language=\"en\")\n",
    "zcash_news[\"totalResults\"]"
   ]
  },
  {
   "cell_type": "code",
   "execution_count": 14,
   "metadata": {},
   "outputs": [
    {
     "output_type": "execute_result",
     "data": {
      "text/plain": [
       "79630"
      ]
     },
     "metadata": {},
     "execution_count": 14
    }
   ],
   "source": [
    "nano_news = newsapi.get_everything(q=\"nano\", language=\"en\")\n",
    "nano_news[\"totalResults\"]"
   ]
  },
  {
   "cell_type": "code",
   "execution_count": 15,
   "metadata": {},
   "outputs": [
    {
     "output_type": "execute_result",
     "data": {
      "text/plain": [
       "21923"
      ]
     },
     "metadata": {},
     "execution_count": 15
    }
   ],
   "source": [
    "tron_news = newsapi.get_everything(q=\"tron\", language=\"en\")\n",
    "tron_news[\"totalResults\"]"
   ]
  },
  {
   "cell_type": "code",
   "execution_count": 16,
   "metadata": {},
   "outputs": [
    {
     "output_type": "execute_result",
     "data": {
      "text/plain": [
       "46531"
      ]
     },
     "metadata": {},
     "execution_count": 16
    }
   ],
   "source": [
    "bitcoincash_news = newsapi.get_everything(q=\"bitcoin cash\", language=\"en\")\n",
    "bitcoincash_news[\"totalResults\"]"
   ]
  },
  {
   "cell_type": "code",
   "execution_count": 17,
   "metadata": {},
   "outputs": [
    {
     "output_type": "execute_result",
     "data": {
      "text/plain": [
       "2294"
      ]
     },
     "metadata": {},
     "execution_count": 17
    }
   ],
   "source": [
    "tezos_news = newsapi.get_everything(q=\"tezos\", language=\"en\")\n",
    "tezos_news[\"totalResults\"]"
   ]
  },
  {
   "cell_type": "code",
   "execution_count": 18,
   "metadata": {},
   "outputs": [
    {
     "output_type": "execute_result",
     "data": {
      "text/plain": [
       "4135"
      ]
     },
     "metadata": {},
     "execution_count": 18
    }
   ],
   "source": [
    "cardano_news = newsapi.get_everything(q=\"cardano\", language=\"en\")\n",
    "cardano_news[\"totalResults\"]"
   ]
  },
  {
   "cell_type": "code",
   "execution_count": 19,
   "metadata": {},
   "outputs": [
    {
     "output_type": "execute_result",
     "data": {
      "text/plain": [
       "13445"
      ]
     },
     "metadata": {},
     "execution_count": 19
    }
   ],
   "source": [
    "orchid_news = newsapi.get_everything(q=\"orchid\", language=\"en\")\n",
    "orchid_news[\"totalResults\"]"
   ]
  },
  {
   "cell_type": "code",
   "execution_count": null,
   "metadata": {},
   "outputs": [],
   "source": []
  }
 ],
 "metadata": {
  "kernelspec": {
   "display_name": "Python 3",
   "language": "python",
   "name": "python3"
  },
  "language_info": {
   "codemirror_mode": {
    "name": "ipython",
    "version": 3
   },
   "file_extension": ".py",
   "mimetype": "text/x-python",
   "name": "python",
   "nbconvert_exporter": "python",
   "pygments_lexer": "ipython3",
   "version": "3.8.5-final"
  }
 },
 "nbformat": 4,
 "nbformat_minor": 4
}