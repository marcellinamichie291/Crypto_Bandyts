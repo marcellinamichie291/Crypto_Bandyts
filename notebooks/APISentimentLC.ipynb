{
 "metadata": {
  "language_info": {
   "codemirror_mode": {
    "name": "ipython",
    "version": 3
   },
   "file_extension": ".py",
   "mimetype": "text/x-python",
   "name": "python",
   "nbconvert_exporter": "python",
   "pygments_lexer": "ipython3",
   "version": "3.8.3-final"
  },
  "orig_nbformat": 2,
  "kernelspec": {
   "name": "python3",
   "display_name": "Python 3",
   "language": "python"
  }
 },
 "nbformat": 4,
 "nbformat_minor": 2,
 "cells": [
  {
   "cell_type": "code",
   "execution_count": 76,
   "metadata": {},
   "outputs": [],
   "source": [
    "#Imports\n",
    "import os\n",
    "import numpy as np\n",
    "import pandas as pd\n",
    "import requests\n",
    "import json\n",
    "from datetime import datetime\n",
    "from dotenv import load_dotenv\n",
    "from nltk.sentiment.vader import SentimentIntensityAnalyzer\n",
    "analyzer = SentimentIntensityAnalyzer()\n",
    "\n",
    "load_dotenv()\n",
    "%matplotlib inline"
   ]
  },
  {
   "cell_type": "code",
   "execution_count": 77,
   "metadata": {},
   "outputs": [],
   "source": [
    "api = os.getenv(\"LUNARCRUSHKEY\")"
   ]
  },
  {
   "cell_type": "code",
   "execution_count": 78,
   "metadata": {},
   "outputs": [],
   "source": [
    "CoinsNews= \"https://api.lunarcrush.com/v2?data=feeds&key=cu8kjgxtqqixbwd9zi2lu9&symbol=btc,ltc,dot,xmr,xlm&sources=news,urls&limit=50000&type=chronological\"\n",
    "\n",
    "CoinsNewsRequest = requests.get(CoinsNews)\n",
    "CoinsNewsData = CoinsNewsRequest.json()\n"
   ]
  },
  {
   "cell_type": "code",
   "execution_count": 79,
   "metadata": {},
   "outputs": [],
   "source": [
    "#bitcoin (btc) | litecoin (ltc) | polkadot (dot) | monero (xmr) | stellar lumens (xlm)\n",
    "#BTCNewsData[\"data\"][1200]"
   ]
  },
  {
   "cell_type": "code",
   "execution_count": 90,
   "metadata": {},
   "outputs": [
    {
     "output_type": "execute_result",
     "data": {
      "text/plain": [
       "            Date Ticker  Compound  Positive  Negative  Neutral\n",
       "2973  1491307200    XMR   -0.8768     0.034     0.294    0.672\n",
       "2974  1429717212    XLM    0.2263     0.079     0.000    0.921\n",
       "2975  1403908140    BTC    0.2023     0.113     0.077    0.811\n",
       "2976  1387211177    BTC    0.4019     0.137     0.000    0.863\n",
       "2977  1362657600    BTC   -0.5994     0.000     0.157    0.843"
      ],
      "text/html": "<div>\n<style scoped>\n    .dataframe tbody tr th:only-of-type {\n        vertical-align: middle;\n    }\n\n    .dataframe tbody tr th {\n        vertical-align: top;\n    }\n\n    .dataframe thead th {\n        text-align: right;\n    }\n</style>\n<table border=\"1\" class=\"dataframe\">\n  <thead>\n    <tr style=\"text-align: right;\">\n      <th></th>\n      <th>Date</th>\n      <th>Ticker</th>\n      <th>Compound</th>\n      <th>Positive</th>\n      <th>Negative</th>\n      <th>Neutral</th>\n    </tr>\n  </thead>\n  <tbody>\n    <tr>\n      <th>2973</th>\n      <td>1491307200</td>\n      <td>XMR</td>\n      <td>-0.8768</td>\n      <td>0.034</td>\n      <td>0.294</td>\n      <td>0.672</td>\n    </tr>\n    <tr>\n      <th>2974</th>\n      <td>1429717212</td>\n      <td>XLM</td>\n      <td>0.2263</td>\n      <td>0.079</td>\n      <td>0.000</td>\n      <td>0.921</td>\n    </tr>\n    <tr>\n      <th>2975</th>\n      <td>1403908140</td>\n      <td>BTC</td>\n      <td>0.2023</td>\n      <td>0.113</td>\n      <td>0.077</td>\n      <td>0.811</td>\n    </tr>\n    <tr>\n      <th>2976</th>\n      <td>1387211177</td>\n      <td>BTC</td>\n      <td>0.4019</td>\n      <td>0.137</td>\n      <td>0.000</td>\n      <td>0.863</td>\n    </tr>\n    <tr>\n      <th>2977</th>\n      <td>1362657600</td>\n      <td>BTC</td>\n      <td>-0.5994</td>\n      <td>0.000</td>\n      <td>0.157</td>\n      <td>0.843</td>\n    </tr>\n  </tbody>\n</table>\n</div>"
     },
     "metadata": {},
     "execution_count": 90
    }
   ],
   "source": [
    "sentiments = []\n",
    "\n",
    "for article in CoinsNewsData[\"data\"]:\n",
    "    try:\n",
    "        text = article[\"description\"]\n",
    "        date = article[\"time\"]\n",
    "        symbol = article[\"symbol\"]\n",
    "        sentiment = analyzer.polarity_scores(text)\n",
    "        compound = sentiment[\"compound\"]\n",
    "        pos = sentiment[\"pos\"]\n",
    "        neu = sentiment[\"neu\"]\n",
    "        neg = sentiment[\"neg\"]\n",
    "        sentiments.append({\n",
    "            \"Date\": date,\n",
    "            \"Ticker\": symbol,\n",
    "            \"Compound\": compound,\n",
    "            \"Positive\": pos,\n",
    "            \"Negative\": neg,\n",
    "            \"Neutral\": neu,\n",
    "            #\"Text\": text \n",
    "        })\n",
    "        \n",
    "    except AttributeError:\n",
    "        pass \n",
    "\n",
    "# Create DataFrame\n",
    "CoinsNewsDF = pd.DataFrame(sentiments)\n",
    "CoinsNewsDF.tail()"
   ]
  },
  {
   "cell_type": "code",
   "execution_count": 81,
   "metadata": {},
   "outputs": [],
   "source": [
    "CoinsSocials= \"https://api.lunarcrush.com/v2?data=feeds&key=cu8kjgxtqqixbwd9zi2lu9&symbol=btc,ltc,dot,xmr,xlm&limit=5000000&sources=twitter,reddit&type=chronological\"\n",
    "\n",
    "CoinsSMRequest = requests.get(CoinsSocials)\n",
    "CoinsSMData = CoinsSMRequest.json()"
   ]
  },
  {
   "cell_type": "code",
   "execution_count": 82,
   "metadata": {},
   "outputs": [],
   "source": [
    "#BTCSMData[\"data\"][200]"
   ]
  },
  {
   "cell_type": "code",
   "execution_count": 89,
   "metadata": {},
   "outputs": [
    {
     "output_type": "execute_result",
     "data": {
      "text/plain": [
       "            Date Ticker  Compound  Positive  Negative  Neutral\n",
       "4228  1607820453    LTC    0.0516     0.028     0.000    0.972\n",
       "4229  1607820045    XMR    0.9739     0.170     0.064    0.766\n",
       "4230  1607818095    BTC    0.0000     0.000     0.000    1.000\n",
       "4231  1607818031    XLM    0.0000     0.000     0.000    1.000\n",
       "4232  1607816103    LTC    0.8462     0.163     0.000    0.837"
      ],
      "text/html": "<div>\n<style scoped>\n    .dataframe tbody tr th:only-of-type {\n        vertical-align: middle;\n    }\n\n    .dataframe tbody tr th {\n        vertical-align: top;\n    }\n\n    .dataframe thead th {\n        text-align: right;\n    }\n</style>\n<table border=\"1\" class=\"dataframe\">\n  <thead>\n    <tr style=\"text-align: right;\">\n      <th></th>\n      <th>Date</th>\n      <th>Ticker</th>\n      <th>Compound</th>\n      <th>Positive</th>\n      <th>Negative</th>\n      <th>Neutral</th>\n    </tr>\n  </thead>\n  <tbody>\n    <tr>\n      <th>4228</th>\n      <td>1607820453</td>\n      <td>LTC</td>\n      <td>0.0516</td>\n      <td>0.028</td>\n      <td>0.000</td>\n      <td>0.972</td>\n    </tr>\n    <tr>\n      <th>4229</th>\n      <td>1607820045</td>\n      <td>XMR</td>\n      <td>0.9739</td>\n      <td>0.170</td>\n      <td>0.064</td>\n      <td>0.766</td>\n    </tr>\n    <tr>\n      <th>4230</th>\n      <td>1607818095</td>\n      <td>BTC</td>\n      <td>0.0000</td>\n      <td>0.000</td>\n      <td>0.000</td>\n      <td>1.000</td>\n    </tr>\n    <tr>\n      <th>4231</th>\n      <td>1607818031</td>\n      <td>XLM</td>\n      <td>0.0000</td>\n      <td>0.000</td>\n      <td>0.000</td>\n      <td>1.000</td>\n    </tr>\n    <tr>\n      <th>4232</th>\n      <td>1607816103</td>\n      <td>LTC</td>\n      <td>0.8462</td>\n      <td>0.163</td>\n      <td>0.000</td>\n      <td>0.837</td>\n    </tr>\n  </tbody>\n</table>\n</div>"
     },
     "metadata": {},
     "execution_count": 89
    }
   ],
   "source": [
    "sentiments = []\n",
    "\n",
    "for article in CoinsSMData[\"data\"]:\n",
    "    try:\n",
    "        text = article[\"body\"]\n",
    "        date = article[\"time\"]\n",
    "        symbol = article[\"symbol\"]\n",
    "        sentiment = analyzer.polarity_scores(text)\n",
    "        compound = sentiment[\"compound\"]\n",
    "        pos = sentiment[\"pos\"]\n",
    "        neu = sentiment[\"neu\"]\n",
    "        neg = sentiment[\"neg\"]\n",
    "        sentiments.append({\n",
    "            \"Date\": date,\n",
    "            \"Ticker\": symbol,\n",
    "            \"Compound\": compound,\n",
    "            \"Positive\": pos,\n",
    "            \"Negative\": neg,\n",
    "            \"Neutral\": neu,\n",
    "            #\"Text\": text \n",
    "        })\n",
    "        \n",
    "    except AttributeError:\n",
    "        pass \n",
    "\n",
    "# Create DataFrame\n",
    "CoinsSMDF = pd.DataFrame(sentiments)\n",
    "CoinsSMDF.tail()"
   ]
  },
  {
   "cell_type": "code",
   "execution_count": 110,
   "metadata": {},
   "outputs": [
    {
     "output_type": "execute_result",
     "data": {
      "text/plain": [
       "                    Ticker  Compound  Positive  Negative  Neutral\n",
       "Date                                                             \n",
       "2021-01-12 23:24:28    XLM    0.5859     0.173       0.0    0.827\n",
       "2021-01-12 23:23:40    BTC    0.4215     0.412       0.0    0.588\n",
       "2021-01-12 23:23:30    XLM    0.7506     0.363       0.0    0.637\n",
       "2021-01-12 23:22:54    XLM    0.8020     0.507       0.0    0.493\n",
       "2021-01-12 23:19:52    BTC    0.0000     0.000       0.0    1.000"
      ],
      "text/html": "<div>\n<style scoped>\n    .dataframe tbody tr th:only-of-type {\n        vertical-align: middle;\n    }\n\n    .dataframe tbody tr th {\n        vertical-align: top;\n    }\n\n    .dataframe thead th {\n        text-align: right;\n    }\n</style>\n<table border=\"1\" class=\"dataframe\">\n  <thead>\n    <tr style=\"text-align: right;\">\n      <th></th>\n      <th>Ticker</th>\n      <th>Compound</th>\n      <th>Positive</th>\n      <th>Negative</th>\n      <th>Neutral</th>\n    </tr>\n    <tr>\n      <th>Date</th>\n      <th></th>\n      <th></th>\n      <th></th>\n      <th></th>\n      <th></th>\n    </tr>\n  </thead>\n  <tbody>\n    <tr>\n      <th>2021-01-12 23:24:28</th>\n      <td>XLM</td>\n      <td>0.5859</td>\n      <td>0.173</td>\n      <td>0.0</td>\n      <td>0.827</td>\n    </tr>\n    <tr>\n      <th>2021-01-12 23:23:40</th>\n      <td>BTC</td>\n      <td>0.4215</td>\n      <td>0.412</td>\n      <td>0.0</td>\n      <td>0.588</td>\n    </tr>\n    <tr>\n      <th>2021-01-12 23:23:30</th>\n      <td>XLM</td>\n      <td>0.7506</td>\n      <td>0.363</td>\n      <td>0.0</td>\n      <td>0.637</td>\n    </tr>\n    <tr>\n      <th>2021-01-12 23:22:54</th>\n      <td>XLM</td>\n      <td>0.8020</td>\n      <td>0.507</td>\n      <td>0.0</td>\n      <td>0.493</td>\n    </tr>\n    <tr>\n      <th>2021-01-12 23:19:52</th>\n      <td>BTC</td>\n      <td>0.0000</td>\n      <td>0.000</td>\n      <td>0.0</td>\n      <td>1.000</td>\n    </tr>\n  </tbody>\n</table>\n</div>"
     },
     "metadata": {},
     "execution_count": 110
    }
   ],
   "source": [
    "#Prep dataset\n",
    "\n",
    "Coins_Sentiment = pd.concat([CoinsNewsDF,CoinsSMDF], axis=\"rows\", ignore_index=True)\n",
    "Coins_Sentiment['Date'] = pd.to_datetime(Coins_Sentiment['Date'],unit='s')\n",
    "\n",
    "#Coins_Sentiment['Date'] = pd.to_datetime(Coins_Sentiment['Date']).dt.date\n",
    "\n",
    "Coins_Sentiment = Coins_Sentiment.groupby(['Date','Ticker'],as_index=False).mean()\n",
    "Coins_Sentiment = Coins_Sentiment.sort_values(by=['Date'], ascending=False,ignore_index=True)\n",
    "Coins_Sentiment.set_index('Date', inplace=True, drop=True)\n",
    "\n",
    "#BTC_Sentiment.reset_index(drop=True, inplace=True)\n",
    "#BTC_Sentiment.reset_index(inplace=True)\n",
    "#BTC_Sentiment.columns = ['Date', 'Ticker', 'Compound', 'Positive', 'Negative', 'Neutral']\n",
    "\n",
    "Coins_Sentiment.head()"
   ]
  },
  {
   "cell_type": "code",
   "execution_count": 111,
   "metadata": {},
   "outputs": [
    {
     "output_type": "execute_result",
     "data": {
      "text/plain": [
       "                    Ticker  Compound  Positive  Negative  Neutral  \\\n",
       "Date                                                                \n",
       "2021-01-12 23:24:28    XLM    0.5859     0.173       0.0    0.827   \n",
       "2021-01-12 23:23:40    BTC    0.4215     0.412       0.0    0.588   \n",
       "2021-01-12 23:23:30    XLM    0.7506     0.363       0.0    0.637   \n",
       "2021-01-12 23:22:54    XLM    0.8020     0.507       0.0    0.493   \n",
       "2021-01-12 23:19:52    BTC    0.0000     0.000       0.0    1.000   \n",
       "\n",
       "                    Sentiment Signal  \n",
       "Date                                  \n",
       "2021-01-12 23:24:28                1  \n",
       "2021-01-12 23:23:40                1  \n",
       "2021-01-12 23:23:30                1  \n",
       "2021-01-12 23:22:54                1  \n",
       "2021-01-12 23:19:52                0  "
      ],
      "text/html": "<div>\n<style scoped>\n    .dataframe tbody tr th:only-of-type {\n        vertical-align: middle;\n    }\n\n    .dataframe tbody tr th {\n        vertical-align: top;\n    }\n\n    .dataframe thead th {\n        text-align: right;\n    }\n</style>\n<table border=\"1\" class=\"dataframe\">\n  <thead>\n    <tr style=\"text-align: right;\">\n      <th></th>\n      <th>Ticker</th>\n      <th>Compound</th>\n      <th>Positive</th>\n      <th>Negative</th>\n      <th>Neutral</th>\n      <th>Sentiment Signal</th>\n    </tr>\n    <tr>\n      <th>Date</th>\n      <th></th>\n      <th></th>\n      <th></th>\n      <th></th>\n      <th></th>\n      <th></th>\n    </tr>\n  </thead>\n  <tbody>\n    <tr>\n      <th>2021-01-12 23:24:28</th>\n      <td>XLM</td>\n      <td>0.5859</td>\n      <td>0.173</td>\n      <td>0.0</td>\n      <td>0.827</td>\n      <td>1</td>\n    </tr>\n    <tr>\n      <th>2021-01-12 23:23:40</th>\n      <td>BTC</td>\n      <td>0.4215</td>\n      <td>0.412</td>\n      <td>0.0</td>\n      <td>0.588</td>\n      <td>1</td>\n    </tr>\n    <tr>\n      <th>2021-01-12 23:23:30</th>\n      <td>XLM</td>\n      <td>0.7506</td>\n      <td>0.363</td>\n      <td>0.0</td>\n      <td>0.637</td>\n      <td>1</td>\n    </tr>\n    <tr>\n      <th>2021-01-12 23:22:54</th>\n      <td>XLM</td>\n      <td>0.8020</td>\n      <td>0.507</td>\n      <td>0.0</td>\n      <td>0.493</td>\n      <td>1</td>\n    </tr>\n    <tr>\n      <th>2021-01-12 23:19:52</th>\n      <td>BTC</td>\n      <td>0.0000</td>\n      <td>0.000</td>\n      <td>0.0</td>\n      <td>1.000</td>\n      <td>0</td>\n    </tr>\n  </tbody>\n</table>\n</div>"
     },
     "metadata": {},
     "execution_count": 111
    }
   ],
   "source": [
    "##Create Sentiment Signal column\n",
    "\n",
    "# create a list of our conditions\n",
    "conditions = [\n",
    "    (Coins_Sentiment['Compound'] < 0),\n",
    "    (Coins_Sentiment['Compound'] == 0),\n",
    "    (Coins_Sentiment['Compound'] > 0)\n",
    "    ]\n",
    "\n",
    "# create a list of the values we want to assign for each condition\n",
    "values = ['-1', '0', '1']\n",
    "\n",
    "# create a new column and use np.select to assign values to it using our lists as arguments\n",
    "Coins_Sentiment['Sentiment Signal'] = np.select(conditions, values)\n",
    "\n",
    "# display updated DataFrame\n",
    "Coins_Sentiment.head()"
   ]
  },
  {
   "cell_type": "code",
   "execution_count": 116,
   "metadata": {},
   "outputs": [],
   "source": [
    "#Slice Bitcoin from DF\n",
    "BitcoinDF = Coins_Sentiment.loc[Coins_Sentiment['Ticker'] == 'BTC']\n",
    "\n",
    "#Resample data\n",
    "BitcoinDF = BitcoinDF.resample('D').bfill()\n",
    "BitcoinDF = BitcoinDF.sort_values(by=['Date'], ascending=False)\n",
    "\n",
    "#BitcoinDF.tail()\n",
    "#BitcoinDF.to_csv(\"../libs/data/BitcoinSentimentSignals.csv\")"
   ]
  },
  {
   "cell_type": "code",
   "execution_count": 119,
   "metadata": {},
   "outputs": [],
   "source": [
    "#Slice Litecoin from DF\n",
    "LitecoinDF = Coins_Sentiment.loc[Coins_Sentiment['Ticker'] == 'LTC']\n",
    "\n",
    "#Resample data\n",
    "LitecoinDF = LitecoinDF.resample('D').bfill()\n",
    "LitecoinDF = LitecoinDF.sort_values(by=['Date'], ascending=False)\n",
    "\n",
    "#LitecoinDF.head()\n",
    "#LitecoinDF.to_csv(\"../libs/data/LitecoinSentimentSignals.csv\")"
   ]
  },
  {
   "cell_type": "code",
   "execution_count": 124,
   "metadata": {},
   "outputs": [],
   "source": [
    "#Slice Polkadot from DF\n",
    "PolkadotDF = Coins_Sentiment.loc[Coins_Sentiment['Ticker'] == 'DOT']\n",
    "\n",
    "#Resample data\n",
    "PolkadotDF = PolkadotDF.resample('D').bfill()\n",
    "PolkadotDF = PolkadotDF.sort_values(by=['Date'], ascending=False)\n",
    "\n",
    "#PolkadotDF.head(50)\n",
    "#PolkadotDF.to_csv(\"../libs/data/PolkadotSentimentSignals.csv\")"
   ]
  },
  {
   "cell_type": "code",
   "execution_count": 128,
   "metadata": {},
   "outputs": [],
   "source": [
    "#Slice Monero from DF\n",
    "MoneroDF = Coins_Sentiment.loc[Coins_Sentiment['Ticker'] == 'XMR']\n",
    "\n",
    "#Resample data\n",
    "MoneroDF = MoneroDF.resample('D').bfill()\n",
    "MoneroDF = MoneroDF.sort_values(by=['Date'], ascending=False)\n",
    "\n",
    "#MoneroDF.head()\n",
    "#MoneroDF.to_csv(\"../libs/data/MoneroSentimentSignals.csv\")"
   ]
  },
  {
   "cell_type": "code",
   "execution_count": 132,
   "metadata": {},
   "outputs": [],
   "source": [
    "#Slice Stellar Lumens from DF\n",
    "StellarLumensDF = Coins_Sentiment.loc[Coins_Sentiment['Ticker'] == 'XLM']\n",
    "\n",
    "#Resample data\n",
    "StellarLumensDF = StellarLumensDF.resample('D').bfill()\n",
    "StellarLumensDF = StellarLumensDF.sort_values(by=['Date'], ascending=False)\n",
    "\n",
    "#StellarLumensDF.head()\n",
    "#StellarLumensDF.to_csv(\"../libs/data/StellarLumensSentimentSignals.csv\")"
   ]
  }
 ]
}