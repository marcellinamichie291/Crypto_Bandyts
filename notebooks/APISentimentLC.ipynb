{
 "metadata": {
  "language_info": {
   "codemirror_mode": {
    "name": "ipython",
    "version": 3
   },
   "file_extension": ".py",
   "mimetype": "text/x-python",
   "name": "python",
   "nbconvert_exporter": "python",
   "pygments_lexer": "ipython3",
   "version": "3.8.3-final"
  },
  "orig_nbformat": 2,
  "kernelspec": {
   "name": "python3",
   "display_name": "Python 3",
   "language": "python"
  }
 },
 "nbformat": 4,
 "nbformat_minor": 2,
 "cells": [
  {
   "cell_type": "code",
   "execution_count": 63,
   "metadata": {},
   "outputs": [],
   "source": [
    "#Imports\n",
    "import os\n",
    "import pandas as pd\n",
    "import requests\n",
    "import json\n",
    "from datetime import datetime\n",
    "from nltk.sentiment.vader import SentimentIntensityAnalyzer\n",
    "analyzer = SentimentIntensityAnalyzer()\n",
    "\n",
    "%matplotlib inline"
   ]
  },
  {
   "cell_type": "code",
   "execution_count": 96,
   "metadata": {},
   "outputs": [],
   "source": [
    "BTCNews= \"https://api.lunarcrush.com/v2?data=feeds&key=cu8kjgxtqqixbwd9zi2lu9&symbol=BTC&sources=news&limit=5000000&type=chronological\"\n",
    "\n",
    "BTCNewsRequest = requests.get(BTCNews)\n",
    "BTCNewsData = BTCNewsRequest.json()"
   ]
  },
  {
   "cell_type": "code",
   "execution_count": 97,
   "metadata": {},
   "outputs": [],
   "source": [
    "#BTCNewsData[\"data\"][700:710]"
   ]
  },
  {
   "cell_type": "code",
   "execution_count": 102,
   "metadata": {},
   "outputs": [
    {
     "output_type": "execute_result",
     "data": {
      "text/plain": [
       "         Date Ticker  Compound  Positive  Negative  Neutral\n",
       "0  1610351053    BTC   -0.0258     0.000     0.078    0.922\n",
       "1  1610350860    BTC   -0.6249     0.000     0.146    0.854\n",
       "2  1610349452    BTC    0.4588     0.136     0.000    0.864\n",
       "3  1610347955    BTC    0.0000     0.000     0.000    1.000\n",
       "4  1610341205    BTC    0.4404     0.104     0.000    0.896"
      ],
      "text/html": "<div>\n<style scoped>\n    .dataframe tbody tr th:only-of-type {\n        vertical-align: middle;\n    }\n\n    .dataframe tbody tr th {\n        vertical-align: top;\n    }\n\n    .dataframe thead th {\n        text-align: right;\n    }\n</style>\n<table border=\"1\" class=\"dataframe\">\n  <thead>\n    <tr style=\"text-align: right;\">\n      <th></th>\n      <th>Date</th>\n      <th>Ticker</th>\n      <th>Compound</th>\n      <th>Positive</th>\n      <th>Negative</th>\n      <th>Neutral</th>\n    </tr>\n  </thead>\n  <tbody>\n    <tr>\n      <th>0</th>\n      <td>1610351053</td>\n      <td>BTC</td>\n      <td>-0.0258</td>\n      <td>0.000</td>\n      <td>0.078</td>\n      <td>0.922</td>\n    </tr>\n    <tr>\n      <th>1</th>\n      <td>1610350860</td>\n      <td>BTC</td>\n      <td>-0.6249</td>\n      <td>0.000</td>\n      <td>0.146</td>\n      <td>0.854</td>\n    </tr>\n    <tr>\n      <th>2</th>\n      <td>1610349452</td>\n      <td>BTC</td>\n      <td>0.4588</td>\n      <td>0.136</td>\n      <td>0.000</td>\n      <td>0.864</td>\n    </tr>\n    <tr>\n      <th>3</th>\n      <td>1610347955</td>\n      <td>BTC</td>\n      <td>0.0000</td>\n      <td>0.000</td>\n      <td>0.000</td>\n      <td>1.000</td>\n    </tr>\n    <tr>\n      <th>4</th>\n      <td>1610341205</td>\n      <td>BTC</td>\n      <td>0.4404</td>\n      <td>0.104</td>\n      <td>0.000</td>\n      <td>0.896</td>\n    </tr>\n  </tbody>\n</table>\n</div>"
     },
     "metadata": {},
     "execution_count": 102
    }
   ],
   "source": [
    "sentiments = []\n",
    "\n",
    "for article in BTCNewsData[\"data\"]:\n",
    "    try:\n",
    "        text = article[\"description\"]\n",
    "        date = article[\"time\"]\n",
    "        symbol = article[\"symbol\"]\n",
    "        sentiment = analyzer.polarity_scores(text)\n",
    "        compound = sentiment[\"compound\"]\n",
    "        pos = sentiment[\"pos\"]\n",
    "        neu = sentiment[\"neu\"]\n",
    "        neg = sentiment[\"neg\"]\n",
    "        sentiments.append({\n",
    "            \"Date\": date,\n",
    "            \"Ticker\": symbol,\n",
    "            \"Compound\": compound,\n",
    "            \"Positive\": pos,\n",
    "            \"Negative\": neg,\n",
    "            \"Neutral\": neu,\n",
    "            #\"Text\": text \n",
    "        })\n",
    "        \n",
    "    except AttributeError:\n",
    "        pass \n",
    "\n",
    "# Create DataFrame\n",
    "BTCNewsDF = pd.DataFrame(sentiments)\n",
    "BTCNewsDF.head()"
   ]
  },
  {
   "cell_type": "code",
   "execution_count": 100,
   "metadata": {},
   "outputs": [],
   "source": [
    "BTCTwitter= \"https://api.lunarcrush.com/v2?data=feeds&key=cu8kjgxtqqixbwd9zi2lu9&symbol=BTC&limit=5000000&sources=Twitter&type=chronological\"\n",
    "\n",
    "BTCTwiRequest = requests.get(BTCTwitter)\n",
    "BTCTwiData = BTCTwiRequest.json()"
   ]
  },
  {
   "cell_type": "code",
   "execution_count": 101,
   "metadata": {},
   "outputs": [
    {
     "output_type": "execute_result",
     "data": {
      "text/plain": [
       "{'asset_id': 1,\n",
       " 'symbol': 'BTC',\n",
       " 'name': 'Bitcoin',\n",
       " 'time': 1609632760,\n",
       " 'social_score': 151,\n",
       " 'type': 'twitter',\n",
       " 'id': '1345523435150053376',\n",
       " 'body': 'Getting into ecommerce now is like getting into bitcoin at 5k',\n",
       " 'sentiment': 4,\n",
       " 'commented': 5,\n",
       " 'likes': 130,\n",
       " 'retweets': 16,\n",
       " 'url': 'https://twitter.com/anyuser/status/1345523435150053376',\n",
       " 'display_name': '💸💸💸',\n",
       " 'twitter_screen_name': 'itsALLrisky',\n",
       " 'profile_image': 'https://pbs.twimg.com/profile_images/1308293122019926016/knP3tO5Z_normal.jpg'}"
      ]
     },
     "metadata": {},
     "execution_count": 101
    }
   ],
   "source": [
    "BTCTwiData[\"data\"][200]"
   ]
  },
  {
   "cell_type": "code",
   "execution_count": 104,
   "metadata": {},
   "outputs": [
    {
     "output_type": "execute_result",
     "data": {
      "text/plain": [
       "         Date Ticker  Compound  Positive  Negative  Neutral\n",
       "0  1610350275    BTC    0.0000     0.000     0.000    1.000\n",
       "1  1610350130    BTC   -0.6250     0.000     0.204    0.796\n",
       "2  1610346555    BTC    0.0000     0.000     0.000    1.000\n",
       "3  1610340836    BTC    0.0000     0.000     0.000    1.000\n",
       "4  1610339363    BTC    0.5994     0.116     0.031    0.853"
      ],
      "text/html": "<div>\n<style scoped>\n    .dataframe tbody tr th:only-of-type {\n        vertical-align: middle;\n    }\n\n    .dataframe tbody tr th {\n        vertical-align: top;\n    }\n\n    .dataframe thead th {\n        text-align: right;\n    }\n</style>\n<table border=\"1\" class=\"dataframe\">\n  <thead>\n    <tr style=\"text-align: right;\">\n      <th></th>\n      <th>Date</th>\n      <th>Ticker</th>\n      <th>Compound</th>\n      <th>Positive</th>\n      <th>Negative</th>\n      <th>Neutral</th>\n    </tr>\n  </thead>\n  <tbody>\n    <tr>\n      <th>0</th>\n      <td>1610350275</td>\n      <td>BTC</td>\n      <td>0.0000</td>\n      <td>0.000</td>\n      <td>0.000</td>\n      <td>1.000</td>\n    </tr>\n    <tr>\n      <th>1</th>\n      <td>1610350130</td>\n      <td>BTC</td>\n      <td>-0.6250</td>\n      <td>0.000</td>\n      <td>0.204</td>\n      <td>0.796</td>\n    </tr>\n    <tr>\n      <th>2</th>\n      <td>1610346555</td>\n      <td>BTC</td>\n      <td>0.0000</td>\n      <td>0.000</td>\n      <td>0.000</td>\n      <td>1.000</td>\n    </tr>\n    <tr>\n      <th>3</th>\n      <td>1610340836</td>\n      <td>BTC</td>\n      <td>0.0000</td>\n      <td>0.000</td>\n      <td>0.000</td>\n      <td>1.000</td>\n    </tr>\n    <tr>\n      <th>4</th>\n      <td>1610339363</td>\n      <td>BTC</td>\n      <td>0.5994</td>\n      <td>0.116</td>\n      <td>0.031</td>\n      <td>0.853</td>\n    </tr>\n  </tbody>\n</table>\n</div>"
     },
     "metadata": {},
     "execution_count": 104
    }
   ],
   "source": [
    "sentiments = []\n",
    "\n",
    "for article in BTCTwiData[\"data\"]:\n",
    "    try:\n",
    "        text = article[\"body\"]\n",
    "        date = article[\"time\"]\n",
    "        symbol = article[\"symbol\"]\n",
    "        sentiment = analyzer.polarity_scores(text)\n",
    "        compound = sentiment[\"compound\"]\n",
    "        pos = sentiment[\"pos\"]\n",
    "        neu = sentiment[\"neu\"]\n",
    "        neg = sentiment[\"neg\"]\n",
    "        sentiments.append({\n",
    "            \"Date\": date,\n",
    "            \"Ticker\": symbol,\n",
    "            \"Compound\": compound,\n",
    "            \"Positive\": pos,\n",
    "            \"Negative\": neg,\n",
    "            \"Neutral\": neu,\n",
    "            #\"Text\": text \n",
    "        })\n",
    "        \n",
    "    except AttributeError:\n",
    "        pass \n",
    "\n",
    "# Create DataFrame\n",
    "BTCTwiData = pd.DataFrame(sentiments)\n",
    "BTCTwiData.head()"
   ]
  },
  {
   "cell_type": "code",
   "execution_count": null,
   "metadata": {},
   "outputs": [],
   "source": []
  }
 ]
}