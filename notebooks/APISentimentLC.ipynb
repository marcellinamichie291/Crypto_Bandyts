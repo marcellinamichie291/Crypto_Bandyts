{
 "metadata": {
  "language_info": {
   "codemirror_mode": {
    "name": "ipython",
    "version": 3
   },
   "file_extension": ".py",
   "mimetype": "text/x-python",
   "name": "python",
   "nbconvert_exporter": "python",
   "pygments_lexer": "ipython3",
   "version": "3.8.3-final"
  },
  "orig_nbformat": 2,
  "kernelspec": {
   "name": "python3",
   "display_name": "Python 3",
   "language": "python"
  }
 },
 "nbformat": 4,
 "nbformat_minor": 2,
 "cells": [
  {
   "cell_type": "code",
   "execution_count": 37,
   "metadata": {},
   "outputs": [],
   "source": [
    "#Imports\n",
    "import os\n",
    "import pandas as pd\n",
    "import requests\n",
    "import json\n",
    "from datetime import datetime\n",
    "from dotenv import load_dotenv\n",
    "from nltk.sentiment.vader import SentimentIntensityAnalyzer\n",
    "analyzer = SentimentIntensityAnalyzer()\n",
    "\n",
    "load_dotenv()\n",
    "%matplotlib inline"
   ]
  },
  {
   "cell_type": "code",
   "execution_count": 39,
   "metadata": {},
   "outputs": [],
   "source": [
    "api = os.getenv(\"LUNARCRUSHKEY\")"
   ]
  },
  {
   "cell_type": "code",
   "execution_count": 116,
   "metadata": {},
   "outputs": [],
   "source": [
    "BTCNews= \"https://api.lunarcrush.com/v2?data=feeds&key=cu8kjgxtqqixbwd9zi2lu9&symbol=btc&sources=news,urls&limit=50000&type=chronological\"\n",
    "\n",
    "BTCNewsRequest = requests.get(BTCNews)\n",
    "BTCNewsData = BTCNewsRequest.json()"
   ]
  },
  {
   "cell_type": "code",
   "execution_count": 113,
   "metadata": {},
   "outputs": [],
   "source": [
    "#BTCNewsData[\"data\"][1200]"
   ]
  },
  {
   "cell_type": "code",
   "execution_count": 114,
   "metadata": {},
   "outputs": [
    {
     "output_type": "execute_result",
     "data": {
      "text/plain": [
       "            Date Ticker  Compound  Positive  Negative  Neutral\n",
       "1279  1513554436    BTC    0.0258     0.041     0.000    0.959\n",
       "1280  1493746064    BTC    0.0000     0.000     0.000    1.000\n",
       "1281  1403908140    BTC    0.2023     0.113     0.077    0.811\n",
       "1282  1387211177    BTC    0.4019     0.137     0.000    0.863\n",
       "1283  1362657600    BTC   -0.5994     0.000     0.157    0.843"
      ],
      "text/html": "<div>\n<style scoped>\n    .dataframe tbody tr th:only-of-type {\n        vertical-align: middle;\n    }\n\n    .dataframe tbody tr th {\n        vertical-align: top;\n    }\n\n    .dataframe thead th {\n        text-align: right;\n    }\n</style>\n<table border=\"1\" class=\"dataframe\">\n  <thead>\n    <tr style=\"text-align: right;\">\n      <th></th>\n      <th>Date</th>\n      <th>Ticker</th>\n      <th>Compound</th>\n      <th>Positive</th>\n      <th>Negative</th>\n      <th>Neutral</th>\n    </tr>\n  </thead>\n  <tbody>\n    <tr>\n      <th>1279</th>\n      <td>1513554436</td>\n      <td>BTC</td>\n      <td>0.0258</td>\n      <td>0.041</td>\n      <td>0.000</td>\n      <td>0.959</td>\n    </tr>\n    <tr>\n      <th>1280</th>\n      <td>1493746064</td>\n      <td>BTC</td>\n      <td>0.0000</td>\n      <td>0.000</td>\n      <td>0.000</td>\n      <td>1.000</td>\n    </tr>\n    <tr>\n      <th>1281</th>\n      <td>1403908140</td>\n      <td>BTC</td>\n      <td>0.2023</td>\n      <td>0.113</td>\n      <td>0.077</td>\n      <td>0.811</td>\n    </tr>\n    <tr>\n      <th>1282</th>\n      <td>1387211177</td>\n      <td>BTC</td>\n      <td>0.4019</td>\n      <td>0.137</td>\n      <td>0.000</td>\n      <td>0.863</td>\n    </tr>\n    <tr>\n      <th>1283</th>\n      <td>1362657600</td>\n      <td>BTC</td>\n      <td>-0.5994</td>\n      <td>0.000</td>\n      <td>0.157</td>\n      <td>0.843</td>\n    </tr>\n  </tbody>\n</table>\n</div>"
     },
     "metadata": {},
     "execution_count": 114
    }
   ],
   "source": [
    "sentiments = []\n",
    "\n",
    "for article in BTCNewsData[\"data\"]:\n",
    "    try:\n",
    "        text = article[\"description\"]\n",
    "        date = article[\"time\"]\n",
    "        symbol = article[\"symbol\"]\n",
    "        sentiment = analyzer.polarity_scores(text)\n",
    "        compound = sentiment[\"compound\"]\n",
    "        pos = sentiment[\"pos\"]\n",
    "        neu = sentiment[\"neu\"]\n",
    "        neg = sentiment[\"neg\"]\n",
    "        sentiments.append({\n",
    "            \"Date\": date,\n",
    "            \"Ticker\": symbol,\n",
    "            \"Compound\": compound,\n",
    "            \"Positive\": pos,\n",
    "            \"Negative\": neg,\n",
    "            \"Neutral\": neu,\n",
    "            #\"Text\": text \n",
    "        })\n",
    "        \n",
    "    except AttributeError:\n",
    "        pass \n",
    "\n",
    "# Create DataFrame\n",
    "BTCNewsDF = pd.DataFrame(sentiments)\n",
    "BTCNewsDF.tail()"
   ]
  },
  {
   "cell_type": "code",
   "execution_count": 29,
   "metadata": {},
   "outputs": [],
   "source": [
    "BTCSocials= \"https://api.lunarcrush.com/v2?data=feeds&key=cu8kjgxtqqixbwd9zi2lu9&symbol=BTC&limit=5000000&sources=twitter,reddit&type=chronological\"\n",
    "\n",
    "BTCSMRequest = requests.get(BTCSocials)\n",
    "BTCSMData = BTCSMRequest.json()"
   ]
  },
  {
   "cell_type": "code",
   "execution_count": 30,
   "metadata": {},
   "outputs": [],
   "source": [
    "#BTCSMData[\"data\"][200]"
   ]
  },
  {
   "cell_type": "code",
   "execution_count": 124,
   "metadata": {},
   "outputs": [
    {
     "output_type": "execute_result",
     "data": {
      "text/plain": [
       "            Date Ticker  Compound  Positive  Negative  Neutral\n",
       "1177  1607740620    BTC    0.7845     0.157     0.000    0.843\n",
       "1178  1607739954    BTC    0.0000     0.000     0.000    1.000\n",
       "1179  1607736516    BTC   -0.5374     0.000     0.169    0.831\n",
       "1180  1607736075    BTC    0.0000     0.000     0.000    0.000\n",
       "1181  1607729561    BTC    0.2960     0.109     0.000    0.891"
      ],
      "text/html": "<div>\n<style scoped>\n    .dataframe tbody tr th:only-of-type {\n        vertical-align: middle;\n    }\n\n    .dataframe tbody tr th {\n        vertical-align: top;\n    }\n\n    .dataframe thead th {\n        text-align: right;\n    }\n</style>\n<table border=\"1\" class=\"dataframe\">\n  <thead>\n    <tr style=\"text-align: right;\">\n      <th></th>\n      <th>Date</th>\n      <th>Ticker</th>\n      <th>Compound</th>\n      <th>Positive</th>\n      <th>Negative</th>\n      <th>Neutral</th>\n    </tr>\n  </thead>\n  <tbody>\n    <tr>\n      <th>1177</th>\n      <td>1607740620</td>\n      <td>BTC</td>\n      <td>0.7845</td>\n      <td>0.157</td>\n      <td>0.000</td>\n      <td>0.843</td>\n    </tr>\n    <tr>\n      <th>1178</th>\n      <td>1607739954</td>\n      <td>BTC</td>\n      <td>0.0000</td>\n      <td>0.000</td>\n      <td>0.000</td>\n      <td>1.000</td>\n    </tr>\n    <tr>\n      <th>1179</th>\n      <td>1607736516</td>\n      <td>BTC</td>\n      <td>-0.5374</td>\n      <td>0.000</td>\n      <td>0.169</td>\n      <td>0.831</td>\n    </tr>\n    <tr>\n      <th>1180</th>\n      <td>1607736075</td>\n      <td>BTC</td>\n      <td>0.0000</td>\n      <td>0.000</td>\n      <td>0.000</td>\n      <td>0.000</td>\n    </tr>\n    <tr>\n      <th>1181</th>\n      <td>1607729561</td>\n      <td>BTC</td>\n      <td>0.2960</td>\n      <td>0.109</td>\n      <td>0.000</td>\n      <td>0.891</td>\n    </tr>\n  </tbody>\n</table>\n</div>"
     },
     "metadata": {},
     "execution_count": 124
    }
   ],
   "source": [
    "sentiments = []\n",
    "\n",
    "for article in BTCSMData[\"data\"]:\n",
    "    try:\n",
    "        text = article[\"body\"]\n",
    "        date = article[\"time\"]\n",
    "        symbol = article[\"symbol\"]\n",
    "        sentiment = analyzer.polarity_scores(text)\n",
    "        compound = sentiment[\"compound\"]\n",
    "        pos = sentiment[\"pos\"]\n",
    "        neu = sentiment[\"neu\"]\n",
    "        neg = sentiment[\"neg\"]\n",
    "        sentiments.append({\n",
    "            \"Date\": date,\n",
    "            \"Ticker\": symbol,\n",
    "            \"Compound\": compound,\n",
    "            \"Positive\": pos,\n",
    "            \"Negative\": neg,\n",
    "            \"Neutral\": neu,\n",
    "            #\"Text\": text \n",
    "        })\n",
    "        \n",
    "    except AttributeError:\n",
    "        pass \n",
    "\n",
    "# Create DataFrame\n",
    "BTCSMDF = pd.DataFrame(sentiments)\n",
    "BTCSMDF.tail()"
   ]
  },
  {
   "cell_type": "code",
   "execution_count": null,
   "metadata": {},
   "outputs": [],
   "source": []
  }
 ]
}