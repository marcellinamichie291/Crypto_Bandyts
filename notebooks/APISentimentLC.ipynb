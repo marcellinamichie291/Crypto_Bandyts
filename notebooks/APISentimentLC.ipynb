{
 "metadata": {
  "language_info": {
   "codemirror_mode": {
    "name": "ipython",
    "version": 3
   },
   "file_extension": ".py",
   "mimetype": "text/x-python",
   "name": "python",
   "nbconvert_exporter": "python",
   "pygments_lexer": "ipython3",
   "version": "3.8.3-final"
  },
  "orig_nbformat": 2,
  "kernelspec": {
   "name": "python3",
   "display_name": "Python 3",
   "language": "python"
  }
 },
 "nbformat": 4,
 "nbformat_minor": 2,
 "cells": [
  {
   "cell_type": "code",
   "execution_count": 13,
   "metadata": {},
   "outputs": [],
   "source": [
    "#Imports\n",
    "import os\n",
    "import numpy as np\n",
    "import pandas as pd\n",
    "import requests\n",
    "import json\n",
    "from datetime import datetime\n",
    "from dotenv import load_dotenv\n",
    "from nltk.sentiment.vader import SentimentIntensityAnalyzer\n",
    "analyzer = SentimentIntensityAnalyzer()\n",
    "\n",
    "load_dotenv()\n",
    "%matplotlib inline"
   ]
  },
  {
   "cell_type": "code",
   "execution_count": 2,
   "metadata": {},
   "outputs": [],
   "source": [
    "api = os.getenv(\"LUNARCRUSHKEY\")"
   ]
  },
  {
   "cell_type": "code",
   "execution_count": 26,
   "metadata": {},
   "outputs": [],
   "source": [
    "BTCNews= \"https://api.lunarcrush.com/v2?data=feeds&key=cu8kjgxtqqixbwd9zi2lu9&symbol=btc,ltc,dot,xmr,xlm&sources=news,urls&limit=50000&type=chronological\"\n",
    "\n",
    "BTCNewsRequest = requests.get(BTCNews)\n",
    "BTCNewsData = BTCNewsRequest.json()\n"
   ]
  },
  {
   "cell_type": "code",
   "execution_count": 27,
   "metadata": {},
   "outputs": [],
   "source": [
    "#bitcoin (btc) | litecoin (ltc) | polkadot (dot) | monero (xmr) | stellar lumens (xlm)\n",
    "#BTCNewsData[\"data\"][1200]"
   ]
  },
  {
   "cell_type": "code",
   "execution_count": 31,
   "metadata": {},
   "outputs": [
    {
     "output_type": "execute_result",
     "data": {
      "text/plain": [
       "            Date Ticker  Compound  Positive  Negative  Neutral\n",
       "2898  1607459700    XMR   -0.4404     0.000     0.094    0.906\n",
       "2899  1607428800    DOT    0.0000     0.000     0.000    1.000\n",
       "2900  1607391705    LTC    0.6249     0.188     0.000    0.812\n",
       "2901  1607121776    BTC    0.2500     0.150     0.000    0.850\n",
       "2902  1607110470    BTC   -0.4019     0.000     0.231    0.769\n",
       "...          ...    ...       ...       ...       ...      ...\n",
       "2973  1491307200    XMR   -0.8768     0.034     0.294    0.672\n",
       "2974  1429717212    XLM    0.2263     0.079     0.000    0.921\n",
       "2975  1403908140    BTC    0.2023     0.113     0.077    0.811\n",
       "2976  1387211177    BTC    0.4019     0.137     0.000    0.863\n",
       "2977  1362657600    BTC   -0.5994     0.000     0.157    0.843\n",
       "\n",
       "[80 rows x 6 columns]"
      ],
      "text/html": "<div>\n<style scoped>\n    .dataframe tbody tr th:only-of-type {\n        vertical-align: middle;\n    }\n\n    .dataframe tbody tr th {\n        vertical-align: top;\n    }\n\n    .dataframe thead th {\n        text-align: right;\n    }\n</style>\n<table border=\"1\" class=\"dataframe\">\n  <thead>\n    <tr style=\"text-align: right;\">\n      <th></th>\n      <th>Date</th>\n      <th>Ticker</th>\n      <th>Compound</th>\n      <th>Positive</th>\n      <th>Negative</th>\n      <th>Neutral</th>\n    </tr>\n  </thead>\n  <tbody>\n    <tr>\n      <th>2898</th>\n      <td>1607459700</td>\n      <td>XMR</td>\n      <td>-0.4404</td>\n      <td>0.000</td>\n      <td>0.094</td>\n      <td>0.906</td>\n    </tr>\n    <tr>\n      <th>2899</th>\n      <td>1607428800</td>\n      <td>DOT</td>\n      <td>0.0000</td>\n      <td>0.000</td>\n      <td>0.000</td>\n      <td>1.000</td>\n    </tr>\n    <tr>\n      <th>2900</th>\n      <td>1607391705</td>\n      <td>LTC</td>\n      <td>0.6249</td>\n      <td>0.188</td>\n      <td>0.000</td>\n      <td>0.812</td>\n    </tr>\n    <tr>\n      <th>2901</th>\n      <td>1607121776</td>\n      <td>BTC</td>\n      <td>0.2500</td>\n      <td>0.150</td>\n      <td>0.000</td>\n      <td>0.850</td>\n    </tr>\n    <tr>\n      <th>2902</th>\n      <td>1607110470</td>\n      <td>BTC</td>\n      <td>-0.4019</td>\n      <td>0.000</td>\n      <td>0.231</td>\n      <td>0.769</td>\n    </tr>\n    <tr>\n      <th>...</th>\n      <td>...</td>\n      <td>...</td>\n      <td>...</td>\n      <td>...</td>\n      <td>...</td>\n      <td>...</td>\n    </tr>\n    <tr>\n      <th>2973</th>\n      <td>1491307200</td>\n      <td>XMR</td>\n      <td>-0.8768</td>\n      <td>0.034</td>\n      <td>0.294</td>\n      <td>0.672</td>\n    </tr>\n    <tr>\n      <th>2974</th>\n      <td>1429717212</td>\n      <td>XLM</td>\n      <td>0.2263</td>\n      <td>0.079</td>\n      <td>0.000</td>\n      <td>0.921</td>\n    </tr>\n    <tr>\n      <th>2975</th>\n      <td>1403908140</td>\n      <td>BTC</td>\n      <td>0.2023</td>\n      <td>0.113</td>\n      <td>0.077</td>\n      <td>0.811</td>\n    </tr>\n    <tr>\n      <th>2976</th>\n      <td>1387211177</td>\n      <td>BTC</td>\n      <td>0.4019</td>\n      <td>0.137</td>\n      <td>0.000</td>\n      <td>0.863</td>\n    </tr>\n    <tr>\n      <th>2977</th>\n      <td>1362657600</td>\n      <td>BTC</td>\n      <td>-0.5994</td>\n      <td>0.000</td>\n      <td>0.157</td>\n      <td>0.843</td>\n    </tr>\n  </tbody>\n</table>\n<p>80 rows × 6 columns</p>\n</div>"
     },
     "metadata": {},
     "execution_count": 31
    }
   ],
   "source": [
    "sentiments = []\n",
    "\n",
    "for article in BTCNewsData[\"data\"]:\n",
    "    try:\n",
    "        text = article[\"description\"]\n",
    "        date = article[\"time\"]\n",
    "        symbol = article[\"symbol\"]\n",
    "        sentiment = analyzer.polarity_scores(text)\n",
    "        compound = sentiment[\"compound\"]\n",
    "        pos = sentiment[\"pos\"]\n",
    "        neu = sentiment[\"neu\"]\n",
    "        neg = sentiment[\"neg\"]\n",
    "        sentiments.append({\n",
    "            \"Date\": date,\n",
    "            \"Ticker\": symbol,\n",
    "            \"Compound\": compound,\n",
    "            \"Positive\": pos,\n",
    "            \"Negative\": neg,\n",
    "            \"Neutral\": neu,\n",
    "            #\"Text\": text \n",
    "        })\n",
    "        \n",
    "    except AttributeError:\n",
    "        pass \n",
    "\n",
    "# Create DataFrame\n",
    "BTCNewsDF = pd.DataFrame(sentiments)\n",
    "BTCNewsDF.tail(80)"
   ]
  },
  {
   "cell_type": "code",
   "execution_count": 6,
   "metadata": {},
   "outputs": [],
   "source": [
    "BTCSocials= \"https://api.lunarcrush.com/v2?data=feeds&key=cu8kjgxtqqixbwd9zi2lu9&symbol=BTC&limit=5000000&sources=twitter,reddit&type=chronological\"\n",
    "\n",
    "BTCSMRequest = requests.get(BTCSocials)\n",
    "BTCSMData = BTCSMRequest.json()"
   ]
  },
  {
   "cell_type": "code",
   "execution_count": 7,
   "metadata": {},
   "outputs": [],
   "source": [
    "#BTCSMData[\"data\"][200]"
   ]
  },
  {
   "cell_type": "code",
   "execution_count": 8,
   "metadata": {},
   "outputs": [
    {
     "output_type": "execute_result",
     "data": {
      "text/plain": [
       "            Date Ticker  Compound  Positive  Negative  Neutral\n",
       "1207  1607827028    BTC    0.9859     0.192     0.068    0.740\n",
       "1208  1607824282    BTC    0.4404     0.223     0.157    0.620\n",
       "1209  1607824201    BTC    0.9880     0.125     0.025    0.850\n",
       "1210  1607821399    BTC   -0.3612     0.099     0.143    0.758\n",
       "1211  1607818095    BTC    0.0000     0.000     0.000    1.000"
      ],
      "text/html": "<div>\n<style scoped>\n    .dataframe tbody tr th:only-of-type {\n        vertical-align: middle;\n    }\n\n    .dataframe tbody tr th {\n        vertical-align: top;\n    }\n\n    .dataframe thead th {\n        text-align: right;\n    }\n</style>\n<table border=\"1\" class=\"dataframe\">\n  <thead>\n    <tr style=\"text-align: right;\">\n      <th></th>\n      <th>Date</th>\n      <th>Ticker</th>\n      <th>Compound</th>\n      <th>Positive</th>\n      <th>Negative</th>\n      <th>Neutral</th>\n    </tr>\n  </thead>\n  <tbody>\n    <tr>\n      <th>1207</th>\n      <td>1607827028</td>\n      <td>BTC</td>\n      <td>0.9859</td>\n      <td>0.192</td>\n      <td>0.068</td>\n      <td>0.740</td>\n    </tr>\n    <tr>\n      <th>1208</th>\n      <td>1607824282</td>\n      <td>BTC</td>\n      <td>0.4404</td>\n      <td>0.223</td>\n      <td>0.157</td>\n      <td>0.620</td>\n    </tr>\n    <tr>\n      <th>1209</th>\n      <td>1607824201</td>\n      <td>BTC</td>\n      <td>0.9880</td>\n      <td>0.125</td>\n      <td>0.025</td>\n      <td>0.850</td>\n    </tr>\n    <tr>\n      <th>1210</th>\n      <td>1607821399</td>\n      <td>BTC</td>\n      <td>-0.3612</td>\n      <td>0.099</td>\n      <td>0.143</td>\n      <td>0.758</td>\n    </tr>\n    <tr>\n      <th>1211</th>\n      <td>1607818095</td>\n      <td>BTC</td>\n      <td>0.0000</td>\n      <td>0.000</td>\n      <td>0.000</td>\n      <td>1.000</td>\n    </tr>\n  </tbody>\n</table>\n</div>"
     },
     "metadata": {},
     "execution_count": 8
    }
   ],
   "source": [
    "sentiments = []\n",
    "\n",
    "for article in BTCSMData[\"data\"]:\n",
    "    try:\n",
    "        text = article[\"body\"]\n",
    "        date = article[\"time\"]\n",
    "        symbol = article[\"symbol\"]\n",
    "        sentiment = analyzer.polarity_scores(text)\n",
    "        compound = sentiment[\"compound\"]\n",
    "        pos = sentiment[\"pos\"]\n",
    "        neu = sentiment[\"neu\"]\n",
    "        neg = sentiment[\"neg\"]\n",
    "        sentiments.append({\n",
    "            \"Date\": date,\n",
    "            \"Ticker\": symbol,\n",
    "            \"Compound\": compound,\n",
    "            \"Positive\": pos,\n",
    "            \"Negative\": neg,\n",
    "            \"Neutral\": neu,\n",
    "            #\"Text\": text \n",
    "        })\n",
    "        \n",
    "    except AttributeError:\n",
    "        pass \n",
    "\n",
    "# Create DataFrame\n",
    "BTCSMDF = pd.DataFrame(sentiments)\n",
    "BTCSMDF.tail()"
   ]
  },
  {
   "cell_type": "code",
   "execution_count": 19,
   "metadata": {},
   "outputs": [
    {
     "output_type": "execute_result",
     "data": {
      "text/plain": [
       "                    Ticker  Compound  Positive  Negative  Neutral\n",
       "Date                                                             \n",
       "2017-12-29 01:14:33    BTC    0.7501     0.242     0.000    0.758\n",
       "2017-12-28 09:02:21    BTC    0.2732     0.123     0.000    0.877\n",
       "2014-06-27 22:29:00    BTC    0.2023     0.113     0.077    0.811\n",
       "2013-12-16 16:26:17    BTC    0.4019     0.137     0.000    0.863\n",
       "2013-03-07 12:00:00    BTC   -0.5994     0.000     0.157    0.843"
      ],
      "text/html": "<div>\n<style scoped>\n    .dataframe tbody tr th:only-of-type {\n        vertical-align: middle;\n    }\n\n    .dataframe tbody tr th {\n        vertical-align: top;\n    }\n\n    .dataframe thead th {\n        text-align: right;\n    }\n</style>\n<table border=\"1\" class=\"dataframe\">\n  <thead>\n    <tr style=\"text-align: right;\">\n      <th></th>\n      <th>Ticker</th>\n      <th>Compound</th>\n      <th>Positive</th>\n      <th>Negative</th>\n      <th>Neutral</th>\n    </tr>\n    <tr>\n      <th>Date</th>\n      <th></th>\n      <th></th>\n      <th></th>\n      <th></th>\n      <th></th>\n    </tr>\n  </thead>\n  <tbody>\n    <tr>\n      <th>2017-12-29 01:14:33</th>\n      <td>BTC</td>\n      <td>0.7501</td>\n      <td>0.242</td>\n      <td>0.000</td>\n      <td>0.758</td>\n    </tr>\n    <tr>\n      <th>2017-12-28 09:02:21</th>\n      <td>BTC</td>\n      <td>0.2732</td>\n      <td>0.123</td>\n      <td>0.000</td>\n      <td>0.877</td>\n    </tr>\n    <tr>\n      <th>2014-06-27 22:29:00</th>\n      <td>BTC</td>\n      <td>0.2023</td>\n      <td>0.113</td>\n      <td>0.077</td>\n      <td>0.811</td>\n    </tr>\n    <tr>\n      <th>2013-12-16 16:26:17</th>\n      <td>BTC</td>\n      <td>0.4019</td>\n      <td>0.137</td>\n      <td>0.000</td>\n      <td>0.863</td>\n    </tr>\n    <tr>\n      <th>2013-03-07 12:00:00</th>\n      <td>BTC</td>\n      <td>-0.5994</td>\n      <td>0.000</td>\n      <td>0.157</td>\n      <td>0.843</td>\n    </tr>\n  </tbody>\n</table>\n</div>"
     },
     "metadata": {},
     "execution_count": 19
    }
   ],
   "source": [
    "BTC_Sentiment = pd.concat([BTCNewsDF,BTCSMDF], axis=\"rows\", ignore_index=True)\n",
    "BTC_Sentiment['Date'] = pd.to_datetime(BTC_Sentiment['Date'],unit='s')\n",
    "#BTC_Sentiment['Date'] = pd.to_datetime(BTC_Sentiment['Date']).dt.date\n",
    "BTC_Sentiment = BTC_Sentiment.groupby(['Date','Ticker'],as_index=False).mean()\n",
    "BTC_Sentiment = BTC_Sentiment.sort_values(by=['Date'], ascending=False,ignore_index=True)\n",
    "BTC_Sentiment.set_index('Date', inplace=True, drop=True)\n",
    "#BTC_Sentiment.reset_index(drop=True, inplace=True)\n",
    "#BTC_Sentiment.reset_index(inplace=True)\n",
    "#BTC_Sentiment.columns = ['Date', 'Ticker', 'Compound', 'Positive', 'Negative', 'Neutral']\n",
    "\n",
    "BTC_Sentiment.tail()"
   ]
  },
  {
   "cell_type": "code",
   "execution_count": 17,
   "metadata": {},
   "outputs": [
    {
     "output_type": "execute_result",
     "data": {
      "text/plain": [
       "                    Ticker  Compound  Positive  Negative  Neutral  \\\n",
       "Date                                                                \n",
       "2021-01-12 22:19:46    BTC    0.0000     0.000       0.0    1.000   \n",
       "2021-01-12 22:16:02    BTC    0.7269     0.244       0.0    0.756   \n",
       "2021-01-12 22:08:02    BTC    0.0000     0.000       0.0    1.000   \n",
       "2021-01-12 22:04:27    BTC    0.0000     0.000       0.0    1.000   \n",
       "2021-01-12 21:35:09    BTC    0.0000     0.000       0.0    1.000   \n",
       "\n",
       "                    Sentiment Signal  \n",
       "Date                                  \n",
       "2021-01-12 22:19:46                0  \n",
       "2021-01-12 22:16:02                1  \n",
       "2021-01-12 22:08:02                0  \n",
       "2021-01-12 22:04:27                0  \n",
       "2021-01-12 21:35:09                0  "
      ],
      "text/html": "<div>\n<style scoped>\n    .dataframe tbody tr th:only-of-type {\n        vertical-align: middle;\n    }\n\n    .dataframe tbody tr th {\n        vertical-align: top;\n    }\n\n    .dataframe thead th {\n        text-align: right;\n    }\n</style>\n<table border=\"1\" class=\"dataframe\">\n  <thead>\n    <tr style=\"text-align: right;\">\n      <th></th>\n      <th>Ticker</th>\n      <th>Compound</th>\n      <th>Positive</th>\n      <th>Negative</th>\n      <th>Neutral</th>\n      <th>Sentiment Signal</th>\n    </tr>\n    <tr>\n      <th>Date</th>\n      <th></th>\n      <th></th>\n      <th></th>\n      <th></th>\n      <th></th>\n      <th></th>\n    </tr>\n  </thead>\n  <tbody>\n    <tr>\n      <th>2021-01-12 22:19:46</th>\n      <td>BTC</td>\n      <td>0.0000</td>\n      <td>0.000</td>\n      <td>0.0</td>\n      <td>1.000</td>\n      <td>0</td>\n    </tr>\n    <tr>\n      <th>2021-01-12 22:16:02</th>\n      <td>BTC</td>\n      <td>0.7269</td>\n      <td>0.244</td>\n      <td>0.0</td>\n      <td>0.756</td>\n      <td>1</td>\n    </tr>\n    <tr>\n      <th>2021-01-12 22:08:02</th>\n      <td>BTC</td>\n      <td>0.0000</td>\n      <td>0.000</td>\n      <td>0.0</td>\n      <td>1.000</td>\n      <td>0</td>\n    </tr>\n    <tr>\n      <th>2021-01-12 22:04:27</th>\n      <td>BTC</td>\n      <td>0.0000</td>\n      <td>0.000</td>\n      <td>0.0</td>\n      <td>1.000</td>\n      <td>0</td>\n    </tr>\n    <tr>\n      <th>2021-01-12 21:35:09</th>\n      <td>BTC</td>\n      <td>0.0000</td>\n      <td>0.000</td>\n      <td>0.0</td>\n      <td>1.000</td>\n      <td>0</td>\n    </tr>\n  </tbody>\n</table>\n</div>"
     },
     "metadata": {},
     "execution_count": 17
    }
   ],
   "source": [
    "# create a list of our conditions\n",
    "conditions = [\n",
    "    (BTC_Sentiment['Compound'] < 0),\n",
    "    (BTC_Sentiment['Compound'] == 0),\n",
    "    (BTC_Sentiment['Compound'] > 0)\n",
    "    ]\n",
    "\n",
    "# create a list of the values we want to assign for each condition\n",
    "values = ['-1', '0', '1']\n",
    "\n",
    "# create a new column and use np.select to assign values to it using our lists as arguments\n",
    "BTC_Sentiment['Sentiment Signal'] = np.select(conditions, values)\n",
    "\n",
    "# display updated DataFrame\n",
    "BTC_Sentiment.head()"
   ]
  },
  {
   "cell_type": "code",
   "execution_count": 18,
   "metadata": {},
   "outputs": [
    {
     "output_type": "execute_result",
     "data": {
      "text/plain": [
       "           Ticker  Compound  Positive  Negative   Neutral Sentiment Signal\n",
       "Date                                                                      \n",
       "2021-01-12    BTC  0.136600  0.037500     0.000  0.962500                1\n",
       "2021-01-11    BTC  0.440400  0.108000     0.000  0.892000                1\n",
       "2021-01-10    BTC -0.102700  0.000000     0.055  0.945000               -1\n",
       "2021-01-09    BTC  0.190967  0.052667     0.000  0.947333                1\n",
       "2021-01-08    BTC  0.045367  0.110667     0.125  0.764333                1"
      ],
      "text/html": "<div>\n<style scoped>\n    .dataframe tbody tr th:only-of-type {\n        vertical-align: middle;\n    }\n\n    .dataframe tbody tr th {\n        vertical-align: top;\n    }\n\n    .dataframe thead th {\n        text-align: right;\n    }\n</style>\n<table border=\"1\" class=\"dataframe\">\n  <thead>\n    <tr style=\"text-align: right;\">\n      <th></th>\n      <th>Ticker</th>\n      <th>Compound</th>\n      <th>Positive</th>\n      <th>Negative</th>\n      <th>Neutral</th>\n      <th>Sentiment Signal</th>\n    </tr>\n    <tr>\n      <th>Date</th>\n      <th></th>\n      <th></th>\n      <th></th>\n      <th></th>\n      <th></th>\n      <th></th>\n    </tr>\n  </thead>\n  <tbody>\n    <tr>\n      <th>2021-01-12</th>\n      <td>BTC</td>\n      <td>0.136600</td>\n      <td>0.037500</td>\n      <td>0.000</td>\n      <td>0.962500</td>\n      <td>1</td>\n    </tr>\n    <tr>\n      <th>2021-01-11</th>\n      <td>BTC</td>\n      <td>0.440400</td>\n      <td>0.108000</td>\n      <td>0.000</td>\n      <td>0.892000</td>\n      <td>1</td>\n    </tr>\n    <tr>\n      <th>2021-01-10</th>\n      <td>BTC</td>\n      <td>-0.102700</td>\n      <td>0.000000</td>\n      <td>0.055</td>\n      <td>0.945000</td>\n      <td>-1</td>\n    </tr>\n    <tr>\n      <th>2021-01-09</th>\n      <td>BTC</td>\n      <td>0.190967</td>\n      <td>0.052667</td>\n      <td>0.000</td>\n      <td>0.947333</td>\n      <td>1</td>\n    </tr>\n    <tr>\n      <th>2021-01-08</th>\n      <td>BTC</td>\n      <td>0.045367</td>\n      <td>0.110667</td>\n      <td>0.125</td>\n      <td>0.764333</td>\n      <td>1</td>\n    </tr>\n  </tbody>\n</table>\n</div>"
     },
     "metadata": {},
     "execution_count": 18
    }
   ],
   "source": [
    "btc_filldates = BTC_Sentiment.copy()\n",
    "btc_filldates = btc_filldates.resample('D').bfill()\n",
    "\n",
    "btc_filldates = btc_filldates.sort_values(by=['Date'], ascending=False)\n",
    "\n",
    "btc_filldates.head()"
   ]
  },
  {
   "cell_type": "code",
   "execution_count": null,
   "metadata": {},
   "outputs": [],
   "source": []
  }
 ]
}