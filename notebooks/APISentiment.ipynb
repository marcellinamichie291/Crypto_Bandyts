{
 "metadata": {
  "language_info": {
   "codemirror_mode": {
    "name": "ipython",
    "version": 3
   },
   "file_extension": ".py",
   "mimetype": "text/x-python",
   "name": "python",
   "nbconvert_exporter": "python",
   "pygments_lexer": "ipython3",
   "version": "3.8.3-final"
  },
  "orig_nbformat": 2,
  "kernelspec": {
   "name": "python3",
   "display_name": "Python 3",
   "language": "python"
  }
 },
 "nbformat": 4,
 "nbformat_minor": 2,
 "cells": [
  {
   "cell_type": "code",
   "execution_count": 1,
   "metadata": {},
   "outputs": [],
   "source": [
    "import os\n",
    "import pandas as pd\n",
    "from newsapi import NewsApiClient\n",
    "from dotenv import load_dotenv\n",
    "from nltk.sentiment.vader import SentimentIntensityAnalyzer\n",
    "analyzer = SentimentIntensityAnalyzer()\n",
    "\n",
    "%matplotlib inline"
   ]
  },
  {
   "cell_type": "code",
   "execution_count": 2,
   "metadata": {},
   "outputs": [
    {
     "output_type": "execute_result",
     "data": {
      "text/plain": [
       "True"
      ]
     },
     "metadata": {},
     "execution_count": 2
    }
   ],
   "source": [
    "from nltk.sentiment.vader import SentimentIntensityAnalyzer\n",
    "analyzer = SentimentIntensityAnalyzer()\n",
    "\n",
    "load_dotenv()"
   ]
  },
  {
   "cell_type": "code",
   "execution_count": 3,
   "metadata": {},
   "outputs": [],
   "source": [
    "api_key = os.getenv(\"NEWSCLIENTAPI\")"
   ]
  },
  {
   "cell_type": "code",
   "execution_count": 4,
   "metadata": {},
   "outputs": [],
   "source": [
    "newsapi = NewsApiClient(api_key)"
   ]
  },
  {
   "cell_type": "code",
   "execution_count": 5,
   "metadata": {},
   "outputs": [
    {
     "output_type": "execute_result",
     "data": {
      "text/plain": [
       "5922"
      ]
     },
     "metadata": {},
     "execution_count": 5
    }
   ],
   "source": [
    "bitcoin_news = newsapi.get_everything(q=\"bitcoin\", language=\"en\")\n",
    "bitcoin_news[\"totalResults\"]"
   ]
  },
  {
   "cell_type": "code",
   "execution_count": 6,
   "metadata": {},
   "outputs": [
    {
     "output_type": "execute_result",
     "data": {
      "text/plain": [
       "1416"
      ]
     },
     "metadata": {},
     "execution_count": 6
    }
   ],
   "source": [
    "ethereum_news = newsapi.get_everything(q=\"ethereum\", language=\"en\")\n",
    "ethereum_news[\"totalResults\"]"
   ]
  },
  {
   "cell_type": "code",
   "execution_count": 7,
   "metadata": {},
   "outputs": [
    {
     "output_type": "execute_result",
     "data": {
      "text/plain": [
       "333"
      ]
     },
     "metadata": {},
     "execution_count": 7
    }
   ],
   "source": [
    "litecoin_news = newsapi.get_everything(q=\"litecoin\", language=\"en\")\n",
    "litecoin_news[\"totalResults\"]"
   ]
  },
  {
   "cell_type": "code",
   "execution_count": 8,
   "metadata": {},
   "outputs": [
    {
     "output_type": "execute_result",
     "data": {
      "text/plain": [
       "136"
      ]
     },
     "metadata": {},
     "execution_count": 8
    }
   ],
   "source": [
    "polkadot_news = newsapi.get_everything(q=\"polkadot\", language=\"en\")\n",
    "polkadot_news[\"totalResults\"]"
   ]
  },
  {
   "cell_type": "code",
   "execution_count": 9,
   "metadata": {},
   "outputs": [
    {
     "output_type": "execute_result",
     "data": {
      "text/plain": [
       "107"
      ]
     },
     "metadata": {},
     "execution_count": 9
    }
   ],
   "source": [
    "monero_news = newsapi.get_everything(q=\"monero\", language=\"en\")\n",
    "monero_news[\"totalResults\"]"
   ]
  },
  {
   "cell_type": "code",
   "execution_count": 10,
   "metadata": {},
   "outputs": [
    {
     "output_type": "execute_result",
     "data": {
      "text/plain": [
       "67"
      ]
     },
     "metadata": {},
     "execution_count": 10
    }
   ],
   "source": [
    "dogecoin_news = newsapi.get_everything(q=\"dogecoin\", language=\"en\")\n",
    "dogecoin_news[\"totalResults\"]"
   ]
  },
  {
   "cell_type": "code",
   "execution_count": 11,
   "metadata": {},
   "outputs": [
    {
     "output_type": "execute_result",
     "data": {
      "text/plain": [
       "30"
      ]
     },
     "metadata": {},
     "execution_count": 11
    }
   ],
   "source": [
    "stellarlumens_news = newsapi.get_everything(q=\"stellar lumens\", language=\"en\")\n",
    "stellarlumens_news[\"totalResults\"]"
   ]
  },
  {
   "cell_type": "code",
   "execution_count": 12,
   "metadata": {},
   "outputs": [
    {
     "output_type": "execute_result",
     "data": {
      "text/plain": [
       "1961"
      ]
     },
     "metadata": {},
     "execution_count": 12
    }
   ],
   "source": [
    "ripple_news = newsapi.get_everything(q=\"ripple\", language=\"en\")\n",
    "ripple_news[\"totalResults\"]"
   ]
  },
  {
   "cell_type": "code",
   "execution_count": 13,
   "metadata": {},
   "outputs": [
    {
     "output_type": "execute_result",
     "data": {
      "text/plain": [
       "52"
      ]
     },
     "metadata": {},
     "execution_count": 13
    }
   ],
   "source": [
    "zcash_news = newsapi.get_everything(q=\"zcash\", language=\"en\")\n",
    "zcash_news[\"totalResults\"]"
   ]
  },
  {
   "cell_type": "code",
   "execution_count": 14,
   "metadata": {},
   "outputs": [
    {
     "output_type": "execute_result",
     "data": {
      "text/plain": [
       "1830"
      ]
     },
     "metadata": {},
     "execution_count": 14
    }
   ],
   "source": [
    "nano_news = newsapi.get_everything(q=\"nano\", language=\"en\")\n",
    "nano_news[\"totalResults\"]"
   ]
  },
  {
   "cell_type": "code",
   "execution_count": 15,
   "metadata": {},
   "outputs": [
    {
     "output_type": "execute_result",
     "data": {
      "text/plain": [
       "457"
      ]
     },
     "metadata": {},
     "execution_count": 15
    }
   ],
   "source": [
    "tron_news = newsapi.get_everything(q=\"tron\", language=\"en\")\n",
    "tron_news[\"totalResults\"]"
   ]
  },
  {
   "cell_type": "code",
   "execution_count": 20,
   "metadata": {},
   "outputs": [
    {
     "output_type": "execute_result",
     "data": {
      "text/plain": [
       "1137"
      ]
     },
     "metadata": {},
     "execution_count": 20
    }
   ],
   "source": [
    "bitcoincash_news = newsapi.get_everything(q=\"bitcoin cash\", language=\"en\")\n",
    "bitcoincash_news[\"totalResults\"]"
   ]
  },
  {
   "cell_type": "code",
   "execution_count": 17,
   "metadata": {},
   "outputs": [
    {
     "output_type": "execute_result",
     "data": {
      "text/plain": [
       "51"
      ]
     },
     "metadata": {},
     "execution_count": 17
    }
   ],
   "source": [
    "tezos_news = newsapi.get_everything(q=\"tezos\", language=\"en\")\n",
    "tezos_news[\"totalResults\"]"
   ]
  },
  {
   "cell_type": "code",
   "execution_count": 18,
   "metadata": {},
   "outputs": [
    {
     "output_type": "execute_result",
     "data": {
      "text/plain": [
       "89"
      ]
     },
     "metadata": {},
     "execution_count": 18
    }
   ],
   "source": [
    "cardano_news = newsapi.get_everything(q=\"cardano\", language=\"en\")\n",
    "cardano_news[\"totalResults\"]"
   ]
  },
  {
   "cell_type": "code",
   "execution_count": 19,
   "metadata": {},
   "outputs": [
    {
     "output_type": "execute_result",
     "data": {
      "text/plain": [
       "294"
      ]
     },
     "metadata": {},
     "execution_count": 19
    }
   ],
   "source": [
    "orchid_news = newsapi.get_everything(q=\"orchid\", language=\"en\")\n",
    "orchid_news[\"totalResults\"]"
   ]
  },
  {
   "cell_type": "code",
   "execution_count": null,
   "metadata": {},
   "outputs": [],
   "source": []
  }
 ]
}