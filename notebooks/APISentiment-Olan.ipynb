{
 "metadata": {
  "language_info": {
   "codemirror_mode": {
    "name": "ipython",
    "version": 3
   },
   "file_extension": ".py",
   "mimetype": "text/x-python",
   "name": "python",
   "nbconvert_exporter": "python",
   "pygments_lexer": "ipython3",
   "version": "3.8.3-final"
  },
  "orig_nbformat": 2,
  "kernelspec": {
   "name": "python3",
   "display_name": "Python 3",
   "language": "python"
  }
 },
 "nbformat": 4,
 "nbformat_minor": 2,
 "cells": [
  {
   "cell_type": "code",
   "execution_count": 1,
   "metadata": {},
   "outputs": [],
   "source": [
    "#Imports\n",
    "import os\n",
    "import pandas as pd\n",
    "import requests\n",
    "from newsapi import NewsApiClient\n",
    "from pprint import pprint\n",
    "from dotenv import load_dotenv\n",
    "from nltk.sentiment.vader import SentimentIntensityAnalyzer\n",
    "analyzer = SentimentIntensityAnalyzer()\n",
    "\n",
    "%matplotlib inline"
   ]
  },
  {
   "cell_type": "code",
   "execution_count": 2,
   "metadata": {},
   "outputs": [
    {
     "output_type": "execute_result",
     "data": {
      "text/plain": [
       "True"
      ]
     },
     "metadata": {},
     "execution_count": 2
    }
   ],
   "source": [
    "from nltk.sentiment.vader import SentimentIntensityAnalyzer\n",
    "analyzer = SentimentIntensityAnalyzer()\n",
    "\n",
    "load_dotenv()"
   ]
  },
  {
   "cell_type": "code",
   "execution_count": 3,
   "metadata": {},
   "outputs": [],
   "source": [
    "# Read your api key environment variable\n",
    "api_key = os.getenv(\"PVAPI\")"
   ]
  },
  {
   "cell_type": "code",
   "execution_count": 52,
   "metadata": {},
   "outputs": [],
   "source": [
    "# Create a newsapi client\n",
    "newsapi = NewsApiClient(api_key)"
   ]
  },
  {
   "cell_type": "code",
   "execution_count": 106,
   "metadata": {},
   "outputs": [
    {
     "output_type": "execute_result",
     "data": {
      "text/plain": [
       "226714"
      ]
     },
     "metadata": {},
     "execution_count": 106
    }
   ],
   "source": [
    "bitcoin_news = newsapi.get_everything(q=\"bitcoin\", language=\"en\", sort_by=\"publishedAt\", page=99, page_size=100\n",
    ")\n",
    "bitcoin_news[\"totalResults\"]"
   ]
  },
  {
   "cell_type": "code",
   "execution_count": 32,
   "metadata": {},
   "outputs": [
    {
     "output_type": "execute_result",
     "data": {
      "text/plain": [
       "19911"
      ]
     },
     "metadata": {},
     "execution_count": 32
    }
   ],
   "source": [
    "litecoin_news = newsapi.get_everything(q=\"litecoin\", language=\"en\")\n",
    "litecoin_news[\"totalResults\"]"
   ]
  },
  {
   "cell_type": "code",
   "execution_count": 33,
   "metadata": {},
   "outputs": [
    {
     "output_type": "execute_result",
     "data": {
      "text/plain": [
       "1272"
      ]
     },
     "metadata": {},
     "execution_count": 33
    }
   ],
   "source": [
    "polkadot_news = newsapi.get_everything(q=\"polkadot\", language=\"en\")\n",
    "polkadot_news[\"totalResults\"]"
   ]
  },
  {
   "cell_type": "code",
   "execution_count": 34,
   "metadata": {},
   "outputs": [
    {
     "output_type": "execute_result",
     "data": {
      "text/plain": [
       "11373"
      ]
     },
     "metadata": {},
     "execution_count": 34
    }
   ],
   "source": [
    "monero_news = newsapi.get_everything(q=\"monero\", language=\"en\")\n",
    "monero_news[\"totalResults\"]"
   ]
  },
  {
   "cell_type": "code",
   "execution_count": 35,
   "metadata": {},
   "outputs": [
    {
     "output_type": "execute_result",
     "data": {
      "text/plain": [
       "1523"
      ]
     },
     "metadata": {},
     "execution_count": 35
    }
   ],
   "source": [
    "stellarlumens_news = newsapi.get_everything(q=\"stellar lumens\", language=\"en\")\n",
    "stellarlumens_news[\"totalResults\"]"
   ]
  },
  {
   "cell_type": "code",
   "execution_count": 45,
   "metadata": {},
   "outputs": [],
   "source": [
    "def get_sentiment_score(article, based_on):\n",
    "    sentiments = []\n",
    "    \n",
    "    #print(len(article[\"articles\"]))\n",
    "\n",
    "    for article in article[\"articles\"]:\n",
    "        try:\n",
    "            text = article[based_on]\n",
    "            date = article[\"publishedAt\"][:10]\n",
    "            sentiment = analyzer.polarity_scores(text)\n",
    "            compound = sentiment[\"compound\"]\n",
    "            pos = sentiment[\"pos\"]\n",
    "            neu = sentiment[\"neu\"]\n",
    "            neg = sentiment[\"neg\"]\n",
    "            sentiments.append({\n",
    "                \"Date\": date,\n",
    "                \"Compound\": compound,\n",
    "                \"Negative\": neg,\n",
    "                \"Neutral\": neu,\n",
    "                \"Positive\": pos,\n",
    "                based_on : text\n",
    "            })\n",
    "\n",
    "        except AttributeError:\n",
    "            pass\n",
    "\n",
    "    # Create DataFrame\n",
    "    df = pd.DataFrame(sentiments)\n",
    "    return df"
   ]
  },
  {
   "cell_type": "code",
   "execution_count": 107,
   "metadata": {},
   "outputs": [
    {
     "output_type": "execute_result",
     "data": {
      "text/plain": [
       "         Date  Compound  Negative  Neutral  Positive  \\\n",
       "0  2020-11-12    0.9670     0.053    0.841     0.106   \n",
       "1  2020-11-12   -0.9875     0.134    0.797     0.068   \n",
       "2  2020-11-12   -0.8621     0.057    0.917     0.026   \n",
       "3  2020-11-12    0.7897     0.108    0.762     0.130   \n",
       "4  2020-11-12    0.5662     0.071    0.854     0.076   \n",
       "\n",
       "                                             content  \n",
       "0  <ul><li>Bitcoin has been flashing some signs o...  \n",
       "1  Researchers from Check Point say an Iranian-ba...  \n",
       "2  CNBC.com's MacKenzie Sigalos brings you the da...  \n",
       "3  <ul><li>The Covid 19 pandemic has left the wor...  \n",
       "4  In 2017 and early 2018, as would-be entreprene...  "
      ],
      "text/html": "<div>\n<style scoped>\n    .dataframe tbody tr th:only-of-type {\n        vertical-align: middle;\n    }\n\n    .dataframe tbody tr th {\n        vertical-align: top;\n    }\n\n    .dataframe thead th {\n        text-align: right;\n    }\n</style>\n<table border=\"1\" class=\"dataframe\">\n  <thead>\n    <tr style=\"text-align: right;\">\n      <th></th>\n      <th>Date</th>\n      <th>Compound</th>\n      <th>Negative</th>\n      <th>Neutral</th>\n      <th>Positive</th>\n      <th>content</th>\n    </tr>\n  </thead>\n  <tbody>\n    <tr>\n      <th>0</th>\n      <td>2020-11-12</td>\n      <td>0.9670</td>\n      <td>0.053</td>\n      <td>0.841</td>\n      <td>0.106</td>\n      <td>&lt;ul&gt;&lt;li&gt;Bitcoin has been flashing some signs o...</td>\n    </tr>\n    <tr>\n      <th>1</th>\n      <td>2020-11-12</td>\n      <td>-0.9875</td>\n      <td>0.134</td>\n      <td>0.797</td>\n      <td>0.068</td>\n      <td>Researchers from Check Point say an Iranian-ba...</td>\n    </tr>\n    <tr>\n      <th>2</th>\n      <td>2020-11-12</td>\n      <td>-0.8621</td>\n      <td>0.057</td>\n      <td>0.917</td>\n      <td>0.026</td>\n      <td>CNBC.com's MacKenzie Sigalos brings you the da...</td>\n    </tr>\n    <tr>\n      <th>3</th>\n      <td>2020-11-12</td>\n      <td>0.7897</td>\n      <td>0.108</td>\n      <td>0.762</td>\n      <td>0.130</td>\n      <td>&lt;ul&gt;&lt;li&gt;The Covid 19 pandemic has left the wor...</td>\n    </tr>\n    <tr>\n      <th>4</th>\n      <td>2020-11-12</td>\n      <td>0.5662</td>\n      <td>0.071</td>\n      <td>0.854</td>\n      <td>0.076</td>\n      <td>In 2017 and early 2018, as would-be entreprene...</td>\n    </tr>\n  </tbody>\n</table>\n</div>"
     },
     "metadata": {},
     "execution_count": 107
    }
   ],
   "source": [
    "bitcoin_sa_df = get_sentiment_score(bitcoin_news, 'content')\n",
    "#bitcoin_sa_df.to_csv(\"../BitcoinSentiment.csv\")\n",
    "bitcoin_sa_df.head()\n",
    "#bitcoin_sa_df.describe()"
   ]
  },
  {
   "cell_type": "code",
   "execution_count": 63,
   "metadata": {},
   "outputs": [],
   "source": [
    "#hellotrial = get_sentiment_score(hello, 'content')\n",
    "#hellotrial.to_csv(\"../BitcoinSentiment.csv\")"
   ]
  },
  {
   "cell_type": "code",
   "execution_count": 39,
   "metadata": {},
   "outputs": [
    {
     "output_type": "stream",
     "name": "stdout",
     "text": [
      "20\n"
     ]
    },
    {
     "output_type": "execute_result",
     "data": {
      "text/plain": [
       "        Compound  Negative    Neutral   Positive\n",
       "count  20.000000  20.00000  20.000000  20.000000\n",
       "mean    0.716250   0.03100   0.882800   0.086150\n",
       "std     0.565879   0.02677   0.048946   0.039542\n",
       "min    -0.893400   0.00000   0.760000   0.030000\n",
       "25%     0.832200   0.01150   0.860000   0.049750\n",
       "50%     0.961800   0.02750   0.888500   0.081500\n",
       "75%     0.988000   0.03900   0.912000   0.110250\n",
       "max     0.997200   0.10900   0.953000   0.164000"
      ],
      "text/html": "<div>\n<style scoped>\n    .dataframe tbody tr th:only-of-type {\n        vertical-align: middle;\n    }\n\n    .dataframe tbody tr th {\n        vertical-align: top;\n    }\n\n    .dataframe thead th {\n        text-align: right;\n    }\n</style>\n<table border=\"1\" class=\"dataframe\">\n  <thead>\n    <tr style=\"text-align: right;\">\n      <th></th>\n      <th>Compound</th>\n      <th>Negative</th>\n      <th>Neutral</th>\n      <th>Positive</th>\n    </tr>\n  </thead>\n  <tbody>\n    <tr>\n      <th>count</th>\n      <td>20.000000</td>\n      <td>20.00000</td>\n      <td>20.000000</td>\n      <td>20.000000</td>\n    </tr>\n    <tr>\n      <th>mean</th>\n      <td>0.716250</td>\n      <td>0.03100</td>\n      <td>0.882800</td>\n      <td>0.086150</td>\n    </tr>\n    <tr>\n      <th>std</th>\n      <td>0.565879</td>\n      <td>0.02677</td>\n      <td>0.048946</td>\n      <td>0.039542</td>\n    </tr>\n    <tr>\n      <th>min</th>\n      <td>-0.893400</td>\n      <td>0.00000</td>\n      <td>0.760000</td>\n      <td>0.030000</td>\n    </tr>\n    <tr>\n      <th>25%</th>\n      <td>0.832200</td>\n      <td>0.01150</td>\n      <td>0.860000</td>\n      <td>0.049750</td>\n    </tr>\n    <tr>\n      <th>50%</th>\n      <td>0.961800</td>\n      <td>0.02750</td>\n      <td>0.888500</td>\n      <td>0.081500</td>\n    </tr>\n    <tr>\n      <th>75%</th>\n      <td>0.988000</td>\n      <td>0.03900</td>\n      <td>0.912000</td>\n      <td>0.110250</td>\n    </tr>\n    <tr>\n      <th>max</th>\n      <td>0.997200</td>\n      <td>0.10900</td>\n      <td>0.953000</td>\n      <td>0.164000</td>\n    </tr>\n  </tbody>\n</table>\n</div>"
     },
     "metadata": {},
     "execution_count": 39
    }
   ],
   "source": [
    "litecoin_sa_df = get_sentiment_score(litecoin_news, 'content')\n",
    "litecoin_sa_df.head()\n",
    "litecoin_sa_df.describe()"
   ]
  },
  {
   "cell_type": "code",
   "execution_count": 40,
   "metadata": {},
   "outputs": [
    {
     "output_type": "stream",
     "name": "stdout",
     "text": [
      "20\n"
     ]
    },
    {
     "output_type": "execute_result",
     "data": {
      "text/plain": [
       "        Compound   Negative    Neutral   Positive\n",
       "count  19.000000  19.000000  19.000000  19.000000\n",
       "mean    0.743884   0.030895   0.870474   0.098684\n",
       "std     0.513001   0.029732   0.064159   0.053028\n",
       "min    -0.726600   0.000000   0.729000   0.000000\n",
       "25%     0.900200   0.008500   0.836500   0.066000\n",
       "50%     0.992800   0.024000   0.865000   0.102000\n",
       "75%     0.997100   0.042000   0.912000   0.137500\n",
       "max     0.999500   0.108000   1.000000   0.198000"
      ],
      "text/html": "<div>\n<style scoped>\n    .dataframe tbody tr th:only-of-type {\n        vertical-align: middle;\n    }\n\n    .dataframe tbody tr th {\n        vertical-align: top;\n    }\n\n    .dataframe thead th {\n        text-align: right;\n    }\n</style>\n<table border=\"1\" class=\"dataframe\">\n  <thead>\n    <tr style=\"text-align: right;\">\n      <th></th>\n      <th>Compound</th>\n      <th>Negative</th>\n      <th>Neutral</th>\n      <th>Positive</th>\n    </tr>\n  </thead>\n  <tbody>\n    <tr>\n      <th>count</th>\n      <td>19.000000</td>\n      <td>19.000000</td>\n      <td>19.000000</td>\n      <td>19.000000</td>\n    </tr>\n    <tr>\n      <th>mean</th>\n      <td>0.743884</td>\n      <td>0.030895</td>\n      <td>0.870474</td>\n      <td>0.098684</td>\n    </tr>\n    <tr>\n      <th>std</th>\n      <td>0.513001</td>\n      <td>0.029732</td>\n      <td>0.064159</td>\n      <td>0.053028</td>\n    </tr>\n    <tr>\n      <th>min</th>\n      <td>-0.726600</td>\n      <td>0.000000</td>\n      <td>0.729000</td>\n      <td>0.000000</td>\n    </tr>\n    <tr>\n      <th>25%</th>\n      <td>0.900200</td>\n      <td>0.008500</td>\n      <td>0.836500</td>\n      <td>0.066000</td>\n    </tr>\n    <tr>\n      <th>50%</th>\n      <td>0.992800</td>\n      <td>0.024000</td>\n      <td>0.865000</td>\n      <td>0.102000</td>\n    </tr>\n    <tr>\n      <th>75%</th>\n      <td>0.997100</td>\n      <td>0.042000</td>\n      <td>0.912000</td>\n      <td>0.137500</td>\n    </tr>\n    <tr>\n      <th>max</th>\n      <td>0.999500</td>\n      <td>0.108000</td>\n      <td>1.000000</td>\n      <td>0.198000</td>\n    </tr>\n  </tbody>\n</table>\n</div>"
     },
     "metadata": {},
     "execution_count": 40
    }
   ],
   "source": [
    "polkadot_sa_df = get_sentiment_score(polkadot_news, 'content')\n",
    "polkadot_sa_df.head()\n",
    "polkadot_sa_df.describe()"
   ]
  },
  {
   "cell_type": "code",
   "execution_count": 41,
   "metadata": {},
   "outputs": [
    {
     "output_type": "stream",
     "name": "stdout",
     "text": [
      "20\n"
     ]
    },
    {
     "output_type": "execute_result",
     "data": {
      "text/plain": [
       "        Compound   Negative    Neutral   Positive\n",
       "count  20.000000  20.000000  20.000000  20.000000\n",
       "mean    0.173530   0.062950   0.851800   0.085250\n",
       "std     0.887793   0.037867   0.048066   0.038668\n",
       "min    -0.981700   0.006000   0.777000   0.030000\n",
       "25%    -0.893000   0.036500   0.807500   0.063000\n",
       "50%     0.637800   0.054000   0.857500   0.080500\n",
       "75%     0.982050   0.090750   0.897000   0.106250\n",
       "max     0.995800   0.132000   0.925000   0.171000"
      ],
      "text/html": "<div>\n<style scoped>\n    .dataframe tbody tr th:only-of-type {\n        vertical-align: middle;\n    }\n\n    .dataframe tbody tr th {\n        vertical-align: top;\n    }\n\n    .dataframe thead th {\n        text-align: right;\n    }\n</style>\n<table border=\"1\" class=\"dataframe\">\n  <thead>\n    <tr style=\"text-align: right;\">\n      <th></th>\n      <th>Compound</th>\n      <th>Negative</th>\n      <th>Neutral</th>\n      <th>Positive</th>\n    </tr>\n  </thead>\n  <tbody>\n    <tr>\n      <th>count</th>\n      <td>20.000000</td>\n      <td>20.000000</td>\n      <td>20.000000</td>\n      <td>20.000000</td>\n    </tr>\n    <tr>\n      <th>mean</th>\n      <td>0.173530</td>\n      <td>0.062950</td>\n      <td>0.851800</td>\n      <td>0.085250</td>\n    </tr>\n    <tr>\n      <th>std</th>\n      <td>0.887793</td>\n      <td>0.037867</td>\n      <td>0.048066</td>\n      <td>0.038668</td>\n    </tr>\n    <tr>\n      <th>min</th>\n      <td>-0.981700</td>\n      <td>0.006000</td>\n      <td>0.777000</td>\n      <td>0.030000</td>\n    </tr>\n    <tr>\n      <th>25%</th>\n      <td>-0.893000</td>\n      <td>0.036500</td>\n      <td>0.807500</td>\n      <td>0.063000</td>\n    </tr>\n    <tr>\n      <th>50%</th>\n      <td>0.637800</td>\n      <td>0.054000</td>\n      <td>0.857500</td>\n      <td>0.080500</td>\n    </tr>\n    <tr>\n      <th>75%</th>\n      <td>0.982050</td>\n      <td>0.090750</td>\n      <td>0.897000</td>\n      <td>0.106250</td>\n    </tr>\n    <tr>\n      <th>max</th>\n      <td>0.995800</td>\n      <td>0.132000</td>\n      <td>0.925000</td>\n      <td>0.171000</td>\n    </tr>\n  </tbody>\n</table>\n</div>"
     },
     "metadata": {},
     "execution_count": 41
    }
   ],
   "source": [
    "monero_sa_df = get_sentiment_score(monero_news, 'content')\n",
    "monero_sa_df.head()\n",
    "monero_sa_df.describe()"
   ]
  },
  {
   "cell_type": "code",
   "execution_count": 42,
   "metadata": {},
   "outputs": [
    {
     "output_type": "stream",
     "name": "stdout",
     "text": [
      "20\n"
     ]
    },
    {
     "output_type": "execute_result",
     "data": {
      "text/plain": [
       "        Compound   Negative    Neutral   Positive\n",
       "count  20.000000  20.000000  20.000000  20.000000\n",
       "mean    0.695925   0.030950   0.864950   0.104100\n",
       "std     0.668742   0.022995   0.033794   0.040441\n",
       "min    -0.987200   0.008000   0.785000   0.009000\n",
       "25%     0.951075   0.013500   0.846000   0.080750\n",
       "50%     0.972650   0.022500   0.860500   0.100000\n",
       "75%     0.984650   0.046250   0.890500   0.130250\n",
       "max     0.999800   0.081000   0.919000   0.171000"
      ],
      "text/html": "<div>\n<style scoped>\n    .dataframe tbody tr th:only-of-type {\n        vertical-align: middle;\n    }\n\n    .dataframe tbody tr th {\n        vertical-align: top;\n    }\n\n    .dataframe thead th {\n        text-align: right;\n    }\n</style>\n<table border=\"1\" class=\"dataframe\">\n  <thead>\n    <tr style=\"text-align: right;\">\n      <th></th>\n      <th>Compound</th>\n      <th>Negative</th>\n      <th>Neutral</th>\n      <th>Positive</th>\n    </tr>\n  </thead>\n  <tbody>\n    <tr>\n      <th>count</th>\n      <td>20.000000</td>\n      <td>20.000000</td>\n      <td>20.000000</td>\n      <td>20.000000</td>\n    </tr>\n    <tr>\n      <th>mean</th>\n      <td>0.695925</td>\n      <td>0.030950</td>\n      <td>0.864950</td>\n      <td>0.104100</td>\n    </tr>\n    <tr>\n      <th>std</th>\n      <td>0.668742</td>\n      <td>0.022995</td>\n      <td>0.033794</td>\n      <td>0.040441</td>\n    </tr>\n    <tr>\n      <th>min</th>\n      <td>-0.987200</td>\n      <td>0.008000</td>\n      <td>0.785000</td>\n      <td>0.009000</td>\n    </tr>\n    <tr>\n      <th>25%</th>\n      <td>0.951075</td>\n      <td>0.013500</td>\n      <td>0.846000</td>\n      <td>0.080750</td>\n    </tr>\n    <tr>\n      <th>50%</th>\n      <td>0.972650</td>\n      <td>0.022500</td>\n      <td>0.860500</td>\n      <td>0.100000</td>\n    </tr>\n    <tr>\n      <th>75%</th>\n      <td>0.984650</td>\n      <td>0.046250</td>\n      <td>0.890500</td>\n      <td>0.130250</td>\n    </tr>\n    <tr>\n      <th>max</th>\n      <td>0.999800</td>\n      <td>0.081000</td>\n      <td>0.919000</td>\n      <td>0.171000</td>\n    </tr>\n  </tbody>\n</table>\n</div>"
     },
     "metadata": {},
     "execution_count": 42
    }
   ],
   "source": [
    "stellarlumens_sa_df = get_sentiment_score(stellarlumens_news, 'content')\n",
    "stellarlumens_sa_df.head()\n",
    "stellarlumens_sa_df.describe()"
   ]
  },
  {
   "cell_type": "code",
   "execution_count": null,
   "metadata": {},
   "outputs": [],
   "source": []
  }
 ]
}