{
 "metadata": {
  "language_info": {
   "codemirror_mode": {
    "name": "ipython",
    "version": 3
   },
   "file_extension": ".py",
   "mimetype": "text/x-python",
   "name": "python",
   "nbconvert_exporter": "python",
   "pygments_lexer": "ipython3",
   "version": "3.7.4-final"
  },
  "orig_nbformat": 2,
  "kernelspec": {
   "name": "python3",
   "display_name": "Python 3",
   "language": "python"
  }
 },
 "nbformat": 4,
 "nbformat_minor": 2,
 "cells": [
  {
   "cell_type": "code",
   "execution_count": 160,
   "metadata": {},
   "outputs": [
    {
     "output_type": "execute_result",
     "data": {
      "text/plain": [
       "'\\n#------------ Get OHLC top 15 cryto - exchange Kraken \\nCryto\\nbitcoin (btc), ethereum (eth), litecoin (ltc), polkadot (dot), monero (xmr), dogecoin (xdg), stellar lumens (xlm),\\nripple (xrp), zcash (zec), nano (nano), tron (trx), bitcoin cash (bch), tezos (xtz), cardano (ada), orchid (oxt)\\n\\n'"
      ]
     },
     "metadata": {},
     "execution_count": 160
    }
   ],
   "source": [
    "\"\"\"\n",
    "#------------ Get OHLC top 15 cryto - exchange Kraken \n",
    "Cryto\n",
    "bitcoin (btc), ethereum (eth), litecoin (ltc), polkadot (dot), monero (xmr), dogecoin (xdg), stellar lumens (xlm),\n",
    "ripple (xrp), zcash (zec), nano (nano), tron (trx), bitcoin cash (bch), tezos (xtz), cardano (ada), orchid (oxt)\n",
    "\n",
    "\"\"\"  \n"
   ]
  },
  {
   "cell_type": "code",
   "execution_count": 161,
   "metadata": {},
   "outputs": [],
   "source": [
    "# imports \n",
    "import pandas as pd \n",
    "import numpy as np\n",
    "import datetime\n",
    "import time, json, requests, sys\n",
    "from datetime import datetime\n",
    "from requests.exceptions import HTTPError\n",
    "#from libs.signals import signals "
   ]
  },
  {
   "cell_type": "code",
   "execution_count": 162,
   "metadata": {},
   "outputs": [],
   "source": [
    "def Get_OHLC_Kraken(pair, interval='1440', since=''):\n",
    "    response_json = {}\n",
    "    url = 'https://api.kraken.com/0/public/OHLC'  #only last 720 datapoints \n",
    "    #pair = cryto\n",
    "    #interval = '1440'                           # 1440 = 1 day \n",
    "    #since = ''                                  # return las 720 datapoints\n",
    "           \n",
    "    for i in range(3):\n",
    "        try:\n",
    "            response_kraken = requests.post(url, \n",
    "            params=\n",
    "                    {'pair':pair,\n",
    "                    'interval':interval,     \n",
    "                    'since':since}, \n",
    "                    headers={\"content-type\":\"application/json\"})\n",
    "                \n",
    "            # If the response was successful, no Exception will be raised\n",
    "            response_kraken.raise_for_status()\n",
    "        except HTTPError as http_err:\n",
    "            print(f'HTTP error occurred: {http_err}')  \n",
    "        except Exception as err:\n",
    "            print(f'Other error occurred: {err}')  \n",
    "        else:\n",
    "             print('URL kraken OK!')\n",
    "        break\n",
    "        print('--------------------  try #');print(i)\n",
    "        time.sleep(5)\n",
    "\n",
    "    if i == 2: sys.exit('URL kraken KO! error')     \n",
    "\n",
    "    #print(response_kraken.json())\n",
    "    #g = input(\"control 2 : \"); print (g)\n",
    "    return response_kraken.json()\n"
   ]
  },
  {
   "cell_type": "code",
   "execution_count": 163,
   "metadata": {},
   "outputs": [],
   "source": [
    "def Process_Kraken_Jason(kraken_json, pair):\n",
    "    i = 0\n",
    "    l_price = []\n",
    "    #pair = 'XXBTZUSD'\n",
    "    \n",
    "    while True:\n",
    "        try:\n",
    "            new_row = [ctime(kraken_json['result'][pair][i][0]),    # Date \n",
    "                        kraken_json['result'][pair][i][1],           # Open                      \n",
    "                        kraken_json['result'][pair][i][2],           # High                       \n",
    "                        kraken_json['result'][pair][i][3],           # Low                       \n",
    "                        kraken_json['result'][pair][i][4],           # Close\n",
    "                        kraken_json['result'][pair][i][6]            # Volume \n",
    "                       ] \n",
    "            #print (new_row)\n",
    "            l_price += [new_row]\n",
    "            i += 1           \n",
    "\n",
    "        except Exception as err:\n",
    "            print(f'error Process_Kraken_Jason: {err}')  \n",
    "            break \n",
    "        \n",
    "    return l_price\n"
   ]
  },
  {
   "cell_type": "code",
   "execution_count": 164,
   "metadata": {},
   "outputs": [],
   "source": [
    "# ' tranform prices list into a DataFrame '\n",
    "def l_price_into_df_price(l_price, pair):\n",
    "    l_labels = ['Date', 'Open_'+pair[0:5], 'High_'+pair[0:5], 'Low_'+pair[0:5], 'Close_'+pair[0:5], 'Vol_'+pair[0:5]]\n",
    "\n",
    "    df_price = pd.DataFrame.from_records(l_price, columns=l_labels)   # l --> list, l_labels --> column names \n",
    "    df_price['Date'] = pd.to_datetime(df_price['Date'])\n",
    "    df_price.set_index('Date', inplace=True) \n",
    "\n",
    "    return(df_price)"
   ]
  },
  {
   "cell_type": "code",
   "execution_count": 165,
   "metadata": {},
   "outputs": [],
   "source": [
    "    # concatenate dataframe with the global dataframe \n",
    "    def Concact_Prices(df_price, ft, df_all_prices):\n",
    "        if ft == True:\n",
    "          df_all_prices = pd.concat([df_price], axis=\"columns\", join=\"outer\")\n",
    "          ft = False\n",
    "        else:\n",
    "         df_all_prices = pd.concat([df_all_prices, df_price], axis=\"columns\", join=\"outer\")\n",
    "\n",
    "        return df_all_prices, ft"
   ]
  },
  {
   "cell_type": "code",
   "execution_count": 166,
   "metadata": {},
   "outputs": [],
   "source": [
    "# Export df to CSV \n",
    "def export_df_csv(df_all_prices):\n",
    "    path_csv = '../data/'\n",
    "    name_csv = 'crypto_prices.csv'\n",
    "    OHLC_csv = path_csv + name_csv\n",
    "\n",
    "    df_all_prices.to_csv(OHLC_csv)\n",
    "\n",
    "    return"
   ]
  },
  {
   "cell_type": "code",
   "execution_count": 169,
   "metadata": {},
   "outputs": [
    {
     "output_type": "stream",
     "name": "stderr",
     "text": [
      "ERROR:root:Internal Python error in the inspect module.\n",
      "Below is the traceback from this internal error.\n",
      "\n",
      "URL kraken OK!\n",
      "error Process_Kraken_Jason: list index out of range\n",
      "                    Open_XXBTZ High_XXBTZ Low_XXBTZ Close_XXBTZ      Vol_XXBTZ\n",
      "Date                                                                          \n",
      "2019-01-18 18:00:00     3612.2     3950.0    3606.1      3683.0  1871.37313760\n",
      "2019-01-19 18:00:00     3683.0     3702.5    3468.7      3530.0  2048.98164693\n",
      "2019-01-20 18:00:00     3534.8     3565.0    3488.0      3533.4  1547.13618753\n",
      "2019-01-21 18:00:00     3531.7     3607.5    3440.0      3575.8  1985.34497321\n",
      "2019-01-22 18:00:00     3575.7     3613.2    3524.2      3556.1  2110.96433853\n",
      "Traceback (most recent call last):\n",
      "  File \"/Users/gonzalogarciacontreras/opt/anaconda3/lib/python3.7/site-packages/IPython/core/interactiveshell.py\", line 3326, in run_code\n",
      "    exec(code_obj, self.user_global_ns, self.user_ns)\n",
      "  File \"<ipython-input-169-3bdddb0a6674>\", line 32, in <module>\n",
      "    export_df_csv(df_all_prices)\n",
      "  File \"<ipython-input-166-0547f41220a6>\", line 7, in export_df_csv\n",
      "    df_all_prices.to_csv(OHLC_csv)\n",
      "  File \"/Users/gonzalogarciacontreras/opt/anaconda3/lib/python3.7/site-packages/pandas/core/generic.py\", line 3228, in to_csv\n",
      "    formatter.save()\n",
      "  File \"/Users/gonzalogarciacontreras/opt/anaconda3/lib/python3.7/site-packages/pandas/io/formats/csvs.py\", line 183, in save\n",
      "    compression=self.compression,\n",
      "  File \"/Users/gonzalogarciacontreras/opt/anaconda3/lib/python3.7/site-packages/pandas/io/common.py\", line 399, in _get_handle\n",
      "    f = open(path_or_buf, mode, encoding=encoding, newline=\"\")\n",
      "FileNotFoundError: [Errno 2] No such file or directory: '../data/crypto_prices.csv'\n",
      "\n",
      "During handling of the above exception, another exception occurred:\n",
      "\n",
      "Traceback (most recent call last):\n",
      "  File \"/Users/gonzalogarciacontreras/opt/anaconda3/lib/python3.7/site-packages/IPython/core/interactiveshell.py\", line 2040, in showtraceback\n",
      "    stb = value._render_traceback_()\n",
      "AttributeError: 'FileNotFoundError' object has no attribute '_render_traceback_'\n",
      "\n",
      "During handling of the above exception, another exception occurred:\n",
      "\n",
      "Traceback (most recent call last):\n",
      "  File \"/Users/gonzalogarciacontreras/opt/anaconda3/lib/python3.7/site-packages/IPython/core/ultratb.py\", line 1101, in get_records\n",
      "    return _fixed_getinnerframes(etb, number_of_lines_of_context, tb_offset)\n",
      "  File \"/Users/gonzalogarciacontreras/opt/anaconda3/lib/python3.7/site-packages/IPython/core/ultratb.py\", line 319, in wrapped\n",
      "    return f(*args, **kwargs)\n",
      "  File \"/Users/gonzalogarciacontreras/opt/anaconda3/lib/python3.7/site-packages/IPython/core/ultratb.py\", line 353, in _fixed_getinnerframes\n",
      "    records = fix_frame_records_filenames(inspect.getinnerframes(etb, context))\n",
      "  File \"/Users/gonzalogarciacontreras/opt/anaconda3/lib/python3.7/inspect.py\", line 1502, in getinnerframes\n",
      "    frameinfo = (tb.tb_frame,) + getframeinfo(tb, context)\n",
      "  File \"/Users/gonzalogarciacontreras/opt/anaconda3/lib/python3.7/inspect.py\", line 1460, in getframeinfo\n",
      "    filename = getsourcefile(frame) or getfile(frame)\n",
      "  File \"/Users/gonzalogarciacontreras/opt/anaconda3/lib/python3.7/inspect.py\", line 696, in getsourcefile\n",
      "    if getattr(getmodule(object, filename), '__loader__', None) is not None:\n",
      "  File \"/Users/gonzalogarciacontreras/opt/anaconda3/lib/python3.7/inspect.py\", line 725, in getmodule\n",
      "    file = getabsfile(object, _filename)\n",
      "  File \"/Users/gonzalogarciacontreras/opt/anaconda3/lib/python3.7/inspect.py\", line 709, in getabsfile\n",
      "    return os.path.normcase(os.path.abspath(_filename))\n",
      "  File \"/Users/gonzalogarciacontreras/opt/anaconda3/lib/python3.7/posixpath.py\", line 383, in abspath\n",
      "    cwd = os.getcwd()\n",
      "FileNotFoundError: [Errno 2] No such file or directory\n"
     ]
    },
    {
     "output_type": "error",
     "ename": "FileNotFoundError",
     "evalue": "[Errno 2] No such file or directory: '../data/crypto_prices.csv'",
     "traceback": [
      "\u001b[0;31m---------------------------------------------------------------------------\u001b[0m"
     ]
    }
   ],
   "source": [
    "#Top Cryto\n",
    "#bitcoin (btc), ethereum (eth), litecoin (ltc), polkadot (dot), monero (xmr), dogecoin (xdg), stellar lumens (xlm),\n",
    "#ripple (xrp), zcash (zec), nano (nano), tron (trx), bitcoin cash (bch), tezos (xtz), cardano (ada), orchid (oxt)\n",
    "\n",
    "#cryto_list = ['XXBTZUSD', 'XETHZUSD', 'XXLTCUSD', 'XXDOTUSD', 'XXXMRUSD', 'XXXDGUSD', 'XXXLMUSD', 'XXXRPUSD', \n",
    "#              'XXZECUSD', 'XNANOUSD', 'XXTRXUSD', 'XXBCHUSD', 'XXXTZUSD', 'XXADAUSD', 'XXOXTUSD']\n",
    "\n",
    "cryto_list = ['XXBTZUSD']\n",
    "\n",
    "interval = '1440'\n",
    "since = ''\n",
    "ft = True \n",
    "df_all_prices = pd.DataFrame()\n",
    "\n",
    "\n",
    "for pair in (cryto_list):\n",
    "    kraken_json = Get_OHLC_Kraken(pair, interval, since)\n",
    "    #print('\\n\\n')\n",
    "    #print(kraken_json)\n",
    "\n",
    "    l_price = Process_Kraken_Jason(kraken_json, pair)\n",
    "    #print('\\n\\n')\n",
    "    #print(l_price)\n",
    "\n",
    "    df_price = l_price_into_df_price(l_price, pair)\n",
    "    #print(df_price.head())\n",
    "\n",
    "    df_all_prices, ft = Concact_Prices(df_price, ft, df_all_prices)\n",
    "    \n",
    "print(df_all_prices.head())\n",
    "\n",
    "export_df_csv(df_all_prices)\n",
    "\n"
   ]
  },
  {
   "cell_type": "code",
   "execution_count": 159,
   "metadata": {},
   "outputs": [
    {
     "output_type": "execute_result",
     "data": {
      "text/plain": [
       "                    Open_XXBTZ High_XXBTZ Low_XXBTZ Close_XXBTZ  \\\n",
       "Date                                                              \n",
       "2019-01-18 18:00:00     3612.2     3950.0    3606.1      3683.0   \n",
       "2019-01-19 18:00:00     3683.0     3702.5    3468.7      3530.0   \n",
       "2019-01-20 18:00:00     3534.8     3565.0    3488.0      3533.4   \n",
       "2019-01-21 18:00:00     3531.7     3607.5    3440.0      3575.8   \n",
       "2019-01-22 18:00:00     3575.7     3613.2    3524.2      3556.1   \n",
       "\n",
       "                         Vol_XXBTZ Open_XETHZ High_XETHZ Low_XETHZ  \\\n",
       "Date                                                                 \n",
       "2019-01-18 18:00:00  1871.37313760     120.00     126.49    119.37   \n",
       "2019-01-19 18:00:00  2048.98164693     123.25     123.97    112.77   \n",
       "2019-01-20 18:00:00  1547.13618753     117.60     118.13    113.51   \n",
       "2019-01-21 18:00:00  1985.34497321     115.75     119.71    110.92   \n",
       "2019-01-22 18:00:00  2110.96433853     117.83     118.89    115.00   \n",
       "\n",
       "                    Close_XETHZ       Vol_XETHZ  ... Open_XXADA High_XXADA  \\\n",
       "Date                                             ...                         \n",
       "2019-01-18 18:00:00      123.30  40364.40808390  ...        NaN        NaN   \n",
       "2019-01-19 18:00:00      117.21  46466.49675135  ...        NaN        NaN   \n",
       "2019-01-20 18:00:00      115.68  37208.70357075  ...        NaN        NaN   \n",
       "2019-01-21 18:00:00      117.88  49974.21796577  ...        NaN        NaN   \n",
       "2019-01-22 18:00:00      116.59  32932.16421129  ...        NaN        NaN   \n",
       "\n",
       "                    Low_XXADA Close_XXADA Vol_XXADA Open_XXOXT High_XXOXT  \\\n",
       "Date                                                                        \n",
       "2019-01-18 18:00:00       NaN         NaN       NaN        NaN        NaN   \n",
       "2019-01-19 18:00:00       NaN         NaN       NaN        NaN        NaN   \n",
       "2019-01-20 18:00:00       NaN         NaN       NaN        NaN        NaN   \n",
       "2019-01-21 18:00:00       NaN         NaN       NaN        NaN        NaN   \n",
       "2019-01-22 18:00:00       NaN         NaN       NaN        NaN        NaN   \n",
       "\n",
       "                    Low_XXOXT Close_XXOXT Vol_XXOXT  \n",
       "Date                                                 \n",
       "2019-01-18 18:00:00       NaN         NaN       NaN  \n",
       "2019-01-19 18:00:00       NaN         NaN       NaN  \n",
       "2019-01-20 18:00:00       NaN         NaN       NaN  \n",
       "2019-01-21 18:00:00       NaN         NaN       NaN  \n",
       "2019-01-22 18:00:00       NaN         NaN       NaN  \n",
       "\n",
       "[5 rows x 75 columns]"
      ],
      "text/html": "<div>\n<style scoped>\n    .dataframe tbody tr th:only-of-type {\n        vertical-align: middle;\n    }\n\n    .dataframe tbody tr th {\n        vertical-align: top;\n    }\n\n    .dataframe thead th {\n        text-align: right;\n    }\n</style>\n<table border=\"1\" class=\"dataframe\">\n  <thead>\n    <tr style=\"text-align: right;\">\n      <th></th>\n      <th>Open_XXBTZ</th>\n      <th>High_XXBTZ</th>\n      <th>Low_XXBTZ</th>\n      <th>Close_XXBTZ</th>\n      <th>Vol_XXBTZ</th>\n      <th>Open_XETHZ</th>\n      <th>High_XETHZ</th>\n      <th>Low_XETHZ</th>\n      <th>Close_XETHZ</th>\n      <th>Vol_XETHZ</th>\n      <th>...</th>\n      <th>Open_XXADA</th>\n      <th>High_XXADA</th>\n      <th>Low_XXADA</th>\n      <th>Close_XXADA</th>\n      <th>Vol_XXADA</th>\n      <th>Open_XXOXT</th>\n      <th>High_XXOXT</th>\n      <th>Low_XXOXT</th>\n      <th>Close_XXOXT</th>\n      <th>Vol_XXOXT</th>\n    </tr>\n    <tr>\n      <th>Date</th>\n      <th></th>\n      <th></th>\n      <th></th>\n      <th></th>\n      <th></th>\n      <th></th>\n      <th></th>\n      <th></th>\n      <th></th>\n      <th></th>\n      <th></th>\n      <th></th>\n      <th></th>\n      <th></th>\n      <th></th>\n      <th></th>\n      <th></th>\n      <th></th>\n      <th></th>\n      <th></th>\n      <th></th>\n    </tr>\n  </thead>\n  <tbody>\n    <tr>\n      <td>2019-01-18 18:00:00</td>\n      <td>3612.2</td>\n      <td>3950.0</td>\n      <td>3606.1</td>\n      <td>3683.0</td>\n      <td>1871.37313760</td>\n      <td>120.00</td>\n      <td>126.49</td>\n      <td>119.37</td>\n      <td>123.30</td>\n      <td>40364.40808390</td>\n      <td>...</td>\n      <td>NaN</td>\n      <td>NaN</td>\n      <td>NaN</td>\n      <td>NaN</td>\n      <td>NaN</td>\n      <td>NaN</td>\n      <td>NaN</td>\n      <td>NaN</td>\n      <td>NaN</td>\n      <td>NaN</td>\n    </tr>\n    <tr>\n      <td>2019-01-19 18:00:00</td>\n      <td>3683.0</td>\n      <td>3702.5</td>\n      <td>3468.7</td>\n      <td>3530.0</td>\n      <td>2048.98164693</td>\n      <td>123.25</td>\n      <td>123.97</td>\n      <td>112.77</td>\n      <td>117.21</td>\n      <td>46466.49675135</td>\n      <td>...</td>\n      <td>NaN</td>\n      <td>NaN</td>\n      <td>NaN</td>\n      <td>NaN</td>\n      <td>NaN</td>\n      <td>NaN</td>\n      <td>NaN</td>\n      <td>NaN</td>\n      <td>NaN</td>\n      <td>NaN</td>\n    </tr>\n    <tr>\n      <td>2019-01-20 18:00:00</td>\n      <td>3534.8</td>\n      <td>3565.0</td>\n      <td>3488.0</td>\n      <td>3533.4</td>\n      <td>1547.13618753</td>\n      <td>117.60</td>\n      <td>118.13</td>\n      <td>113.51</td>\n      <td>115.68</td>\n      <td>37208.70357075</td>\n      <td>...</td>\n      <td>NaN</td>\n      <td>NaN</td>\n      <td>NaN</td>\n      <td>NaN</td>\n      <td>NaN</td>\n      <td>NaN</td>\n      <td>NaN</td>\n      <td>NaN</td>\n      <td>NaN</td>\n      <td>NaN</td>\n    </tr>\n    <tr>\n      <td>2019-01-21 18:00:00</td>\n      <td>3531.7</td>\n      <td>3607.5</td>\n      <td>3440.0</td>\n      <td>3575.8</td>\n      <td>1985.34497321</td>\n      <td>115.75</td>\n      <td>119.71</td>\n      <td>110.92</td>\n      <td>117.88</td>\n      <td>49974.21796577</td>\n      <td>...</td>\n      <td>NaN</td>\n      <td>NaN</td>\n      <td>NaN</td>\n      <td>NaN</td>\n      <td>NaN</td>\n      <td>NaN</td>\n      <td>NaN</td>\n      <td>NaN</td>\n      <td>NaN</td>\n      <td>NaN</td>\n    </tr>\n    <tr>\n      <td>2019-01-22 18:00:00</td>\n      <td>3575.7</td>\n      <td>3613.2</td>\n      <td>3524.2</td>\n      <td>3556.1</td>\n      <td>2110.96433853</td>\n      <td>117.83</td>\n      <td>118.89</td>\n      <td>115.00</td>\n      <td>116.59</td>\n      <td>32932.16421129</td>\n      <td>...</td>\n      <td>NaN</td>\n      <td>NaN</td>\n      <td>NaN</td>\n      <td>NaN</td>\n      <td>NaN</td>\n      <td>NaN</td>\n      <td>NaN</td>\n      <td>NaN</td>\n      <td>NaN</td>\n      <td>NaN</td>\n    </tr>\n  </tbody>\n</table>\n<p>5 rows × 75 columns</p>\n</div>"
     },
     "metadata": {},
     "execution_count": 159
    }
   ],
   "source": [
    "df_all_prices.head()\n"
   ]
  },
  {
   "cell_type": "code",
   "execution_count": null,
   "metadata": {},
   "outputs": [],
   "source": []
  }
 ]
}