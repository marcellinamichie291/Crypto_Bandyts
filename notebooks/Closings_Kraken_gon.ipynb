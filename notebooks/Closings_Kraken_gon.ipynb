{
 "metadata": {
  "language_info": {
   "codemirror_mode": {
    "name": "ipython",
    "version": 3
   },
   "file_extension": ".py",
   "mimetype": "text/x-python",
   "name": "python",
   "nbconvert_exporter": "python",
   "pygments_lexer": "ipython3",
   "version": "3.7.4-final"
  },
  "orig_nbformat": 2,
  "kernelspec": {
   "name": "python3",
   "display_name": "Python 3",
   "language": "python"
  }
 },
 "nbformat": 4,
 "nbformat_minor": 2,
 "cells": [
  {
   "cell_type": "code",
   "execution_count": 95,
   "metadata": {},
   "outputs": [
    {
     "output_type": "execute_result",
     "data": {
      "text/plain": [
       "'\\n#------------ Get OHLC top 15 cryto - exchange Kraken \\nCryto\\nbitcoin (btc), ethereum (eth), litecoin (ltc), polkadot (dot), monero (xmr), dogecoin (xdg), stellar lumens (xlm),\\nripple (xrp), zcash (zec), nano (nano), tron (trx), bitcoin cash (bch), tezos (xtz), cardano (ada), orchid (oxt)\\n\\n'"
      ]
     },
     "metadata": {},
     "execution_count": 95
    }
   ],
   "source": [
    "\"\"\"\n",
    "#------------ Get OHLC top 15 cryto - exchange Kraken \n",
    "Cryto\n",
    "bitcoin (btc), ethereum (eth), litecoin (ltc), polkadot (dot), monero (xmr), dogecoin (xdg), stellar lumens (xlm),\n",
    "ripple (xrp), zcash (zec), nano (nano), tron (trx), bitcoin cash (bch), tezos (xtz), cardano (ada), orchid (oxt)\n",
    "\n",
    "\"\"\"  \n"
   ]
  },
  {
   "cell_type": "code",
   "execution_count": 106,
   "metadata": {},
   "outputs": [],
   "source": [
    "# imports \n",
    "import pandas as pd \n",
    "import numpy as np\n",
    "import datetime\n",
    "import time, json, requests, sys\n",
    "from time import time, ctime\n",
    "import time\n",
    "from datetime import datetime\n",
    "from requests.exceptions import HTTPError\n",
    "#from libs.signals import signals "
   ]
  },
  {
   "cell_type": "code",
   "execution_count": 97,
   "metadata": {},
   "outputs": [],
   "source": [
    "def Get_OHLC_Kraken(pair, interval='1440', since=''):\n",
    "    response_json = {}\n",
    "    url = 'https://api.kraken.com/0/public/OHLC'  #only last 720 datapoints \n",
    "    #pair = cryto\n",
    "    #interval = '1440'                           # 1440 = 1 day \n",
    "    #since = ''                                  # return las 720 datapoints\n",
    "           \n",
    "    for i in range(3):\n",
    "        try:\n",
    "            response_kraken = requests.post(url, \n",
    "            params=\n",
    "                    {'pair':pair,\n",
    "                    'interval':interval,     \n",
    "                    'since':since}, \n",
    "                    headers={\"content-type\":\"application/json\"})\n",
    "                \n",
    "            # If the response was successful, no Exception will be raised\n",
    "            response_kraken.raise_for_status()\n",
    "        except HTTPError as http_err:\n",
    "            print(f'HTTP error occurred: {http_err}')  \n",
    "        except Exception as err:\n",
    "            print(f'Other error occurred: {err}')  \n",
    "        else:\n",
    "             print('Success, URL found!')\n",
    "        break\n",
    "        print('--------------------  try #');print(i)\n",
    "        time.sleep(5)\n",
    "\n",
    "    if i == 2: sys.exit('URL error GGC')     \n",
    "\n",
    "    #print(response_kraken.json())\n",
    "    #g = input(\"control 2 : \"); print (g)\n",
    "    return response_kraken.json()\n"
   ]
  },
  {
   "cell_type": "code",
   "execution_count": 98,
   "metadata": {},
   "outputs": [],
   "source": [
    "def Process_Kraken_Jason(kraken_json, pair):\n",
    "    i = 0\n",
    "    l_price = []\n",
    "    #pair = 'XXBTZUSD'\n",
    "    \n",
    "    while True:\n",
    "        try:\n",
    "            new_row = [ctime(kraken_json['result'][pair][i][0]),    # Date \n",
    "                        kraken_json['result'][pair][i][1],           # Open                      \n",
    "                        kraken_json['result'][pair][i][2],           # High                       \n",
    "                        kraken_json['result'][pair][i][3],           # Low                       \n",
    "                        kraken_json['result'][pair][i][4],           # Close\n",
    "                        kraken_json['result'][pair][i][6]            # Volume \n",
    "                       ] \n",
    "            #print (new_row)\n",
    "            l_price += [new_row]\n",
    "            i += 1           \n",
    "\n",
    "        except Exception as err:\n",
    "            print(f'error Process_Kraken_Jason: {err}')  \n",
    "            break \n",
    "        \n",
    "    return l_price\n"
   ]
  },
  {
   "cell_type": "code",
   "execution_count": 99,
   "metadata": {},
   "outputs": [],
   "source": [
    "# ' tranform prices list into a DataFrame '\n",
    "def l_price_into_df_price(l_price, pair):\n",
    "    l_labels = ['Date', 'Open_'+pair[0:5], 'High_'+pair[0:5], 'Low_'+pair[0:5], 'Close_'+pair[0:5], 'Vol_'+pair[0:5]]\n",
    "\n",
    "    df_price = pd.DataFrame.from_records(l_price, columns=l_labels)   # l --> list, l_labels --> column names \n",
    "    df_price['Date'] = pd.to_datetime(df_price['Date'])\n",
    "    df_price.set_index('Date', inplace=True) \n",
    "\n",
    "    return(df_price)"
   ]
  },
  {
   "cell_type": "code",
   "execution_count": 100,
   "metadata": {},
   "outputs": [],
   "source": [
    "    # concatenate dataframe with the global dataframe \n",
    "    def Concact_Prices(df_price, ft, df_all_prices):\n",
    "        if ft == True:\n",
    "          df_all_prices = pd.concat([df_price], axis=\"columns\", join=\"outer\")\n",
    "          ft = False\n",
    "        else:\n",
    "         df_all_prices = pd.concat([df_all_prices, df_price], axis=\"columns\", join=\"outer\")\n",
    "\n",
    "        return df_all_prices, ft"
   ]
  },
  {
   "cell_type": "code",
   "execution_count": 101,
   "metadata": {},
   "outputs": [],
   "source": [
    "# Export df to CSV \n",
    "def export_df_csv(df_all_prices):\n",
    "    path_csv = '../Data/'\n",
    "    name_csv = 'crypto_prices.csv'\n",
    "    OHLC_csv = path_csv + name_csv\n",
    "\n",
    "    df_all_prices.to_csv(OHLC_csv)"
   ]
  },
  {
   "cell_type": "code",
   "execution_count": 102,
   "metadata": {},
   "outputs": [
    {
     "output_type": "stream",
     "name": "stdout",
     "text": [
      "Success, URL found!\n",
      "error Process_Kraken_Jason: list index out of range\n",
      "Success, URL found!\n",
      "error Process_Kraken_Jason: list index out of range\n",
      "Success, URL found!\n",
      "error Process_Kraken_Jason: 'result'\n",
      "Success, URL found!\n",
      "error Process_Kraken_Jason: 'result'\n",
      "Success, URL found!\n",
      "error Process_Kraken_Jason: 'result'\n",
      "Success, URL found!\n",
      "error Process_Kraken_Jason: 'result'\n",
      "Success, URL found!\n",
      "error Process_Kraken_Jason: 'result'\n",
      "Success, URL found!\n",
      "error Process_Kraken_Jason: 'result'\n",
      "Success, URL found!\n",
      "error Process_Kraken_Jason: 'result'\n",
      "Success, URL found!\n",
      "error Process_Kraken_Jason: 'result'\n",
      "Success, URL found!\n",
      "error Process_Kraken_Jason: 'result'\n",
      "Success, URL found!\n",
      "error Process_Kraken_Jason: 'result'\n",
      "Success, URL found!\n",
      "error Process_Kraken_Jason: 'result'\n",
      "Success, URL found!\n",
      "error Process_Kraken_Jason: 'result'\n",
      "Success, URL found!\n",
      "error Process_Kraken_Jason: 'result'\n"
     ]
    }
   ],
   "source": [
    "#Top Cryto\n",
    "#bitcoin (btc), ethereum (eth), litecoin (ltc), polkadot (dot), monero (xmr), dogecoin (xdg), stellar lumens (xlm),\n",
    "#ripple (xrp), zcash (zec), nano (nano), tron (trx), bitcoin cash (bch), tezos (xtz), cardano (ada), orchid (oxt)\n",
    "cryto_list = [\n",
    "                'XXBTZUSD', 'XETHZUSD', 'XXLTCUSD', 'XXDOTUSD', 'XXXMRUSD', 'XXXDGUSD', 'XXXLMUSD', 'XXXRPUSD', \n",
    "                'XXZECUSD', 'XNANOUSD', 'XXTRXUSD', 'XXBDHUSD', 'XXXTZUSD', 'XXADAUSD', 'XXOXTUSD'\n",
    "            ]\n",
    "interval = '1440'\n",
    "since = ''\n",
    "ft = True \n",
    "df_all_prices = pd.DataFrame()\n",
    "\n",
    "\n",
    "for pair in (cryto_list):\n",
    "    kraken_json = Get_OHLC_Kraken(pair, interval, since)\n",
    "    #print('\\n\\n')\n",
    "    #print(kraken_json)\n",
    "\n",
    "    l_price = Process_Kraken_Jason(kraken_json, pair)\n",
    "    #print('\\n\\n')\n",
    "    #print(l_price)\n",
    "\n",
    "    df_price = l_price_into_df_price(l_price, pair)\n",
    "    #print(df_price.head())\n",
    "\n",
    "    df_all_prices, ft = Concact_Prices(df_price, ft, df_all_prices)\n",
    "    \n",
    "#print(df_all_prices.head())\n",
    "\n",
    "export_df_csv(df_all_prices)\n",
    "\n"
   ]
  },
  {
   "cell_type": "code",
   "execution_count": 103,
   "metadata": {},
   "outputs": [
    {
     "output_type": "execute_result",
     "data": {
      "text/plain": [
       "                    Open_XXBTZ High_XXBTZ Low_XXBTZ Close_XXBTZ  \\\n",
       "Date                                                              \n",
       "2019-01-17 18:00:00     3643.9     3644.0    3576.0      3612.2   \n",
       "2019-01-18 18:00:00     3612.2     3950.0    3606.1      3683.0   \n",
       "2019-01-19 18:00:00     3683.0     3702.5    3468.7      3530.0   \n",
       "2019-01-20 18:00:00     3534.8     3565.0    3488.0      3533.4   \n",
       "2019-01-21 18:00:00     3531.7     3607.5    3440.0      3575.8   \n",
       "\n",
       "                         Vol_XXBTZ Open_XETHZ High_XETHZ Low_XETHZ  \\\n",
       "Date                                                                 \n",
       "2019-01-17 18:00:00  1473.06898369     122.40     122.71    117.74   \n",
       "2019-01-18 18:00:00  1871.37313760     120.00     126.49    119.37   \n",
       "2019-01-19 18:00:00  2048.98164693     123.25     123.97    112.77   \n",
       "2019-01-20 18:00:00  1547.13618753     117.60     118.13    113.51   \n",
       "2019-01-21 18:00:00  1985.34497321     115.75     119.71    110.92   \n",
       "\n",
       "                    Close_XETHZ       Vol_XETHZ  ... Open_XXADA High_XXADA  \\\n",
       "Date                                             ...                         \n",
       "2019-01-17 18:00:00      119.78  32171.65643950  ...        NaN        NaN   \n",
       "2019-01-18 18:00:00      123.30  40364.40808390  ...        NaN        NaN   \n",
       "2019-01-19 18:00:00      117.21  46466.49675135  ...        NaN        NaN   \n",
       "2019-01-20 18:00:00      115.68  37208.70357075  ...        NaN        NaN   \n",
       "2019-01-21 18:00:00      117.88  49974.21796577  ...        NaN        NaN   \n",
       "\n",
       "                    Low_XXADA Close_XXADA Vol_XXADA Open_XXOXT High_XXOXT  \\\n",
       "Date                                                                        \n",
       "2019-01-17 18:00:00       NaN         NaN       NaN        NaN        NaN   \n",
       "2019-01-18 18:00:00       NaN         NaN       NaN        NaN        NaN   \n",
       "2019-01-19 18:00:00       NaN         NaN       NaN        NaN        NaN   \n",
       "2019-01-20 18:00:00       NaN         NaN       NaN        NaN        NaN   \n",
       "2019-01-21 18:00:00       NaN         NaN       NaN        NaN        NaN   \n",
       "\n",
       "                    Low_XXOXT Close_XXOXT Vol_XXOXT  \n",
       "Date                                                 \n",
       "2019-01-17 18:00:00       NaN         NaN       NaN  \n",
       "2019-01-18 18:00:00       NaN         NaN       NaN  \n",
       "2019-01-19 18:00:00       NaN         NaN       NaN  \n",
       "2019-01-20 18:00:00       NaN         NaN       NaN  \n",
       "2019-01-21 18:00:00       NaN         NaN       NaN  \n",
       "\n",
       "[5 rows x 75 columns]"
      ],
      "text/html": "<div>\n<style scoped>\n    .dataframe tbody tr th:only-of-type {\n        vertical-align: middle;\n    }\n\n    .dataframe tbody tr th {\n        vertical-align: top;\n    }\n\n    .dataframe thead th {\n        text-align: right;\n    }\n</style>\n<table border=\"1\" class=\"dataframe\">\n  <thead>\n    <tr style=\"text-align: right;\">\n      <th></th>\n      <th>Open_XXBTZ</th>\n      <th>High_XXBTZ</th>\n      <th>Low_XXBTZ</th>\n      <th>Close_XXBTZ</th>\n      <th>Vol_XXBTZ</th>\n      <th>Open_XETHZ</th>\n      <th>High_XETHZ</th>\n      <th>Low_XETHZ</th>\n      <th>Close_XETHZ</th>\n      <th>Vol_XETHZ</th>\n      <th>...</th>\n      <th>Open_XXADA</th>\n      <th>High_XXADA</th>\n      <th>Low_XXADA</th>\n      <th>Close_XXADA</th>\n      <th>Vol_XXADA</th>\n      <th>Open_XXOXT</th>\n      <th>High_XXOXT</th>\n      <th>Low_XXOXT</th>\n      <th>Close_XXOXT</th>\n      <th>Vol_XXOXT</th>\n    </tr>\n    <tr>\n      <th>Date</th>\n      <th></th>\n      <th></th>\n      <th></th>\n      <th></th>\n      <th></th>\n      <th></th>\n      <th></th>\n      <th></th>\n      <th></th>\n      <th></th>\n      <th></th>\n      <th></th>\n      <th></th>\n      <th></th>\n      <th></th>\n      <th></th>\n      <th></th>\n      <th></th>\n      <th></th>\n      <th></th>\n      <th></th>\n    </tr>\n  </thead>\n  <tbody>\n    <tr>\n      <td>2019-01-17 18:00:00</td>\n      <td>3643.9</td>\n      <td>3644.0</td>\n      <td>3576.0</td>\n      <td>3612.2</td>\n      <td>1473.06898369</td>\n      <td>122.40</td>\n      <td>122.71</td>\n      <td>117.74</td>\n      <td>119.78</td>\n      <td>32171.65643950</td>\n      <td>...</td>\n      <td>NaN</td>\n      <td>NaN</td>\n      <td>NaN</td>\n      <td>NaN</td>\n      <td>NaN</td>\n      <td>NaN</td>\n      <td>NaN</td>\n      <td>NaN</td>\n      <td>NaN</td>\n      <td>NaN</td>\n    </tr>\n    <tr>\n      <td>2019-01-18 18:00:00</td>\n      <td>3612.2</td>\n      <td>3950.0</td>\n      <td>3606.1</td>\n      <td>3683.0</td>\n      <td>1871.37313760</td>\n      <td>120.00</td>\n      <td>126.49</td>\n      <td>119.37</td>\n      <td>123.30</td>\n      <td>40364.40808390</td>\n      <td>...</td>\n      <td>NaN</td>\n      <td>NaN</td>\n      <td>NaN</td>\n      <td>NaN</td>\n      <td>NaN</td>\n      <td>NaN</td>\n      <td>NaN</td>\n      <td>NaN</td>\n      <td>NaN</td>\n      <td>NaN</td>\n    </tr>\n    <tr>\n      <td>2019-01-19 18:00:00</td>\n      <td>3683.0</td>\n      <td>3702.5</td>\n      <td>3468.7</td>\n      <td>3530.0</td>\n      <td>2048.98164693</td>\n      <td>123.25</td>\n      <td>123.97</td>\n      <td>112.77</td>\n      <td>117.21</td>\n      <td>46466.49675135</td>\n      <td>...</td>\n      <td>NaN</td>\n      <td>NaN</td>\n      <td>NaN</td>\n      <td>NaN</td>\n      <td>NaN</td>\n      <td>NaN</td>\n      <td>NaN</td>\n      <td>NaN</td>\n      <td>NaN</td>\n      <td>NaN</td>\n    </tr>\n    <tr>\n      <td>2019-01-20 18:00:00</td>\n      <td>3534.8</td>\n      <td>3565.0</td>\n      <td>3488.0</td>\n      <td>3533.4</td>\n      <td>1547.13618753</td>\n      <td>117.60</td>\n      <td>118.13</td>\n      <td>113.51</td>\n      <td>115.68</td>\n      <td>37208.70357075</td>\n      <td>...</td>\n      <td>NaN</td>\n      <td>NaN</td>\n      <td>NaN</td>\n      <td>NaN</td>\n      <td>NaN</td>\n      <td>NaN</td>\n      <td>NaN</td>\n      <td>NaN</td>\n      <td>NaN</td>\n      <td>NaN</td>\n    </tr>\n    <tr>\n      <td>2019-01-21 18:00:00</td>\n      <td>3531.7</td>\n      <td>3607.5</td>\n      <td>3440.0</td>\n      <td>3575.8</td>\n      <td>1985.34497321</td>\n      <td>115.75</td>\n      <td>119.71</td>\n      <td>110.92</td>\n      <td>117.88</td>\n      <td>49974.21796577</td>\n      <td>...</td>\n      <td>NaN</td>\n      <td>NaN</td>\n      <td>NaN</td>\n      <td>NaN</td>\n      <td>NaN</td>\n      <td>NaN</td>\n      <td>NaN</td>\n      <td>NaN</td>\n      <td>NaN</td>\n      <td>NaN</td>\n    </tr>\n  </tbody>\n</table>\n<p>5 rows × 75 columns</p>\n</div>"
     },
     "metadata": {},
     "execution_count": 103
    }
   ],
   "source": [
    "df_all_prices.head()\n"
   ]
  },
  {
   "cell_type": "code",
   "execution_count": null,
   "metadata": {},
   "outputs": [],
   "source": []
  }
 ]
}